{
 "cells": [
  {
   "cell_type": "code",
   "execution_count": 1,
   "id": "f3968ccf-f09c-46e0-9745-754a7ea82f72",
   "metadata": {},
   "outputs": [
    {
     "name": "stderr",
     "output_type": "stream",
     "text": [
      "Downloading GitHub repo blairj09/rmusix@HEAD\n",
      "\n"
     ]
    },
    {
     "name": "stdout",
     "output_type": "stream",
     "text": [
      "cpp11       (0.4.2 -> 0.4.6) [CRAN]\n",
      "prettyunits (1.1.1 -> 1.2.0) [CRAN]\n",
      "bit         (4.0.4 -> 4.0.5) [CRAN]\n",
      "tzdb        (0.3.0 -> 0.4.0) [CRAN]\n",
      "hms         (1.1.2 -> 1.1.3) [CRAN]\n",
      "vroom       (1.6.1 -> 1.6.4) [CRAN]\n",
      "readr       (2.1.2 -> 2.1.4) [CRAN]\n"
     ]
    },
    {
     "name": "stderr",
     "output_type": "stream",
     "text": [
      "Installing 7 packages: cpp11, prettyunits, bit, tzdb, hms, vroom, readr\n",
      "\n",
      "Warning message:\n",
      "“unable to access index for repository https://cran.r-project.org/bin/macosx/el-capitan/contrib/3.6:\n",
      "  cannot open URL 'https://cran.r-project.org/bin/macosx/el-capitan/contrib/3.6/PACKAGES'”\n",
      "Packages which are only available in source form, and may need\n",
      "  compilation of C/C++/Fortran: ‘bit’ ‘tzdb’ ‘vroom’ ‘readr’\n",
      "\n",
      "installing the source packages ‘cpp11’, ‘prettyunits’, ‘bit’, ‘tzdb’, ‘hms’, ‘vroom’, ‘readr’\n",
      "\n",
      "\n",
      "Warning message in i.p(...):\n",
      "“installation of package ‘tzdb’ had non-zero exit status”\n",
      "Warning message in i.p(...):\n",
      "“installation of package ‘vroom’ had non-zero exit status”\n",
      "Warning message in i.p(...):\n",
      "“installation of package ‘readr’ had non-zero exit status”\n"
     ]
    },
    {
     "name": "stdout",
     "output_type": "stream",
     "text": [
      "\u001b[36m──\u001b[39m \u001b[36mR CMD build\u001b[39m \u001b[36m─────────────────────────────────────────────────────────────────\u001b[39m\n",
      "\u001b[32m✔\u001b[39m  \u001b[90mchecking for file ‘/private/var/folders/wt/fqsqv4c11vd53ctffzmsnbpr0000gn/T/RtmpaDh2hD/remotes14a4d566d440d/blairj09-rmusix-c9a895d/DESCRIPTION’\u001b[39m\u001b[36m\u001b[39m\n",
      "\u001b[90m─\u001b[39m\u001b[90m  \u001b[39m\u001b[90mpreparing ‘rmusix’:\u001b[39m\u001b[36m\u001b[39m\n",
      "\u001b[32m✔\u001b[39m  \u001b[90mchecking DESCRIPTION meta-information\u001b[39m\u001b[36m\u001b[39m\n",
      "\u001b[90m─\u001b[39m\u001b[90m  \u001b[39m\u001b[90mchecking for LF line-endings in source and make files and shell scripts\u001b[39m\u001b[36m\u001b[39m\n",
      "\u001b[90m─\u001b[39m\u001b[90m  \u001b[39m\u001b[90mchecking for empty or unneeded directories\u001b[39m\u001b[36m\u001b[39m\n",
      "\u001b[90m─\u001b[39m\u001b[90m  \u001b[39m\u001b[90mbuilding ‘rmusix_0.0.0.9000.tar.gz’\u001b[39m\u001b[36m\u001b[39m\n",
      "   \n",
      "\r"
     ]
    }
   ],
   "source": [
    "# install.packages(\"devtools\")\n",
    "devtools::install_github(\"blairj09/rmusix\")"
   ]
  },
  {
   "cell_type": "code",
   "execution_count": 10,
   "id": "679a3de6-e65e-4def-95b8-ae07716fe15f",
   "metadata": {},
   "outputs": [],
   "source": [
    "#library(rmusix)\n",
    "#library(tidyverse)\n",
    "\n",
    "# Set API Key\n",
    "set_api_key(\"be1e68d139781121014fc5946de37251\")\n",
    "\n",
    "ts.key <- \"be1e68d139781121014fc5946de37251\""
   ]
  },
  {
   "cell_type": "code",
   "execution_count": 12,
   "id": "ef8b157a-70ac-4c29-bb6d-b7ce746ec094",
   "metadata": {},
   "outputs": [
    {
     "ename": "ERROR",
     "evalue": "\u001b[1m\u001b[33mError\u001b[39m in `dplyr::select()`:\u001b[22m\n\u001b[33m!\u001b[39m Can't subset columns that don't exist.\n\u001b[31m✖\u001b[39m Column `artist_mbid` doesn't exist.\n",
     "output_type": "error",
     "traceback": [
      "\u001b[1m\u001b[33mError\u001b[39m in `dplyr::select()`:\u001b[22m\n\u001b[33m!\u001b[39m Can't subset columns that don't exist.\n\u001b[31m✖\u001b[39m Column `artist_mbid` doesn't exist.\nTraceback:\n",
      "1. search_artists(\"Kanye West\")",
      "2. query_cont %>% purrr::pluck(\"message\", \"body\", \"artist_list\", \n .     \"artist\") %>% dplyr::select(artist_id, artist_mbid, artist_name, \n .     artist_country, artist_rating, artist_twitter_url, updated_time) %>% \n .     tibble::as_tibble() %>% purrr::map_df(readr::parse_guess)",
      "3. purrr::map_df(., readr::parse_guess)",
      "4. map(.x, .f, ...)",
      "5. map_(\"list\", .x, .f, ..., .progress = .progress)",
      "6. vctrs_vec_compat(.x, .purrr_user_env)",
      "7. tibble::as_tibble(.)",
      "8. dplyr::select(., artist_id, artist_mbid, artist_name, artist_country, \n .     artist_rating, artist_twitter_url, updated_time)",
      "9. select.data.frame(., artist_id, artist_mbid, artist_name, artist_country, \n .     artist_rating, artist_twitter_url, updated_time)",
      "10. tidyselect::eval_select(expr(c(...)), data = .data, error_call = error_call)",
      "11. eval_select_impl(data, names(data), as_quosure(expr, env), include = include, \n  .     exclude = exclude, strict = strict, name_spec = name_spec, \n  .     allow_rename = allow_rename, allow_empty = allow_empty, allow_predicates = allow_predicates, \n  .     error_call = error_call, )",
      "12. with_subscript_errors(out <- vars_select_eval(vars, expr, strict = strict, \n  .     data = x, name_spec = name_spec, uniquely_named = uniquely_named, \n  .     allow_rename = allow_rename, allow_empty = allow_empty, allow_predicates = allow_predicates, \n  .     type = type, error_call = error_call), type = type)",
      "13. try_fetch(expr, vctrs_error_subscript = function(cnd) {\n  .     cnd$subscript_action <- subscript_action(type)\n  .     cnd$subscript_elt <- \"column\"\n  .     cnd_signal(cnd)\n  . })",
      "14. withCallingHandlers(expr, condition = function(cnd) {\n  .     {\n  .         .__handler_frame__. <- TRUE\n  .         .__setup_frame__. <- frame\n  .         if (inherits(cnd, \"message\")) {\n  .             except <- c(\"warning\", \"error\")\n  .         }\n  .         else if (inherits(cnd, \"warning\")) {\n  .             except <- \"error\"\n  .         }\n  .         else {\n  .             except <- \"\"\n  .         }\n  .     }\n  .     while (!is_null(cnd)) {\n  .         if (inherits(cnd, \"vctrs_error_subscript\")) {\n  .             out <- handlers[[1L]](cnd)\n  .             if (!inherits(out, \"rlang_zap\")) \n  .                 throw(out)\n  .         }\n  .         inherit <- .subset2(.subset2(cnd, \"rlang\"), \"inherit\")\n  .         if (is_false(inherit)) {\n  .             return()\n  .         }\n  .         cnd <- .subset2(cnd, \"parent\")\n  .     }\n  . })",
      "15. vars_select_eval(vars, expr, strict = strict, data = x, name_spec = name_spec, \n  .     uniquely_named = uniquely_named, allow_rename = allow_rename, \n  .     allow_empty = allow_empty, allow_predicates = allow_predicates, \n  .     type = type, error_call = error_call)",
      "16. walk_data_tree(expr, data_mask, context_mask)",
      "17. eval_c(expr, data_mask, context_mask)",
      "18. reduce_sels(node, data_mask, context_mask, init = init)",
      "19. walk_data_tree(new, data_mask, context_mask)",
      "20. as_indices_sel_impl(out, vars = vars, strict = strict, data = data, \n  .     allow_predicates = allow_predicates, call = error_call, arg = as_label(expr))",
      "21. as_indices_impl(x, vars, call = call, arg = arg, strict = strict)",
      "22. chr_as_locations(x, vars, call = call, arg = arg)",
      "23. vctrs::vec_as_location(x, n = length(vars), names = vars, call = call, \n  .     arg = arg)",
      "24. (function () \n  . stop_subscript_oob(i = i, subscript_type = subscript_type, names = names, \n  .     subscript_action = subscript_action, subscript_arg = subscript_arg, \n  .     call = call))()",
      "25. stop_subscript_oob(i = i, subscript_type = subscript_type, names = names, \n  .     subscript_action = subscript_action, subscript_arg = subscript_arg, \n  .     call = call)",
      "26. stop_subscript(class = \"vctrs_error_subscript_oob\", i = i, subscript_type = subscript_type, \n  .     ..., call = call)",
      "27. abort(class = c(class, \"vctrs_error_subscript\"), i = i, ..., \n  .     call = call)",
      "28. signal_abort(cnd, .file)",
      "29. signalCondition(cnd)",
      "30. (function (cnd) \n  . {\n  .     {\n  .         .__handler_frame__. <- TRUE\n  .         .__setup_frame__. <- frame\n  .         if (inherits(cnd, \"message\")) {\n  .             except <- c(\"warning\", \"error\")\n  .         }\n  .         else if (inherits(cnd, \"warning\")) {\n  .             except <- \"error\"\n  .         }\n  .         else {\n  .             except <- \"\"\n  .         }\n  .     }\n  .     while (!is_null(cnd)) {\n  .         if (inherits(cnd, \"vctrs_error_subscript\")) {\n  .             out <- handlers[[1L]](cnd)\n  .             if (!inherits(out, \"rlang_zap\")) \n  .                 throw(out)\n  .         }\n  .         inherit <- .subset2(.subset2(cnd, \"rlang\"), \"inherit\")\n  .         if (is_false(inherit)) {\n  .             return()\n  .         }\n  .         cnd <- .subset2(cnd, \"parent\")\n  .     }\n  . })(structure(list(message = \"\", trace = structure(list(call = list(\n  .     IRkernel::main(), kernel$run(), handle_shell(), executor$execute(msg), \n  .     tryCatch(evaluate(request$content$code, envir = .GlobalEnv, \n  .         output_handler = oh, stop_on_error = 1L), interrupt = function(cond) {\n  .         log_debug(\"Interrupt during execution\")\n  .         interrupted <<- TRUE\n  .     }, error = .self$handle_error), tryCatchList(expr, classes, \n  .         parentenv, handlers), tryCatchOne(tryCatchList(expr, \n  .         names[-nh], parentenv, handlers[-nh]), names[nh], parentenv, \n  .         handlers[[nh]]), doTryCatch(return(expr), name, parentenv, \n  .         handler), tryCatchList(expr, names[-nh], parentenv, handlers[-nh]), \n  .     tryCatchOne(expr, names, parentenv, handlers[[1L]]), doTryCatch(return(expr), \n  .         name, parentenv, handler), evaluate(request$content$code, \n  .         envir = .GlobalEnv, output_handler = oh, stop_on_error = 1L), \n  .     evaluate_call(expr, parsed$src[[i]], envir = envir, enclos = enclos, \n  .         debug = debug, last = i == length(out), use_try = stop_on_error != \n  .             2L, keep_warning = keep_warning, keep_message = keep_message, \n  .         log_echo = log_echo, log_warning = log_warning, output_handler = output_handler, \n  .         include_timing = include_timing), timing_fn(handle(ev <- withCallingHandlers(withVisible(eval_with_user_handlers(expr, \n  .         envir, enclos, user_handlers)), warning = wHandler, error = eHandler, \n  .         message = mHandler))), handle(ev <- withCallingHandlers(withVisible(eval_with_user_handlers(expr, \n  .         envir, enclos, user_handlers)), warning = wHandler, error = eHandler, \n  .         message = mHandler)), try(f, silent = TRUE), tryCatch(expr, \n  .         error = function(e) {\n  .             call <- conditionCall(e)\n  .             if (!is.null(call)) {\n  .                 if (identical(call[[1L]], quote(doTryCatch))) \n  .                   call <- sys.call(-4L)\n  .                 dcall <- deparse(call)[1L]\n  .                 prefix <- paste(\"Error in\", dcall, \": \")\n  .                 LONG <- 75L\n  .                 sm <- strsplit(conditionMessage(e), \"\\n\")[[1L]]\n  .                 w <- 14L + nchar(dcall, type = \"w\") + nchar(sm[1L], \n  .                   type = \"w\")\n  .                 if (is.na(w)) \n  .                   w <- 14L + nchar(dcall, type = \"b\") + nchar(sm[1L], \n  .                     type = \"b\")\n  .                 if (w > LONG) \n  .                   prefix <- paste0(prefix, \"\\n  \")\n  .             }\n  .             else prefix <- \"Error : \"\n  .             msg <- paste0(prefix, conditionMessage(e), \"\\n\")\n  .             .Internal(seterrmessage(msg[1L]))\n  .             if (!silent && isTRUE(getOption(\"show.error.messages\"))) {\n  .                 cat(msg, file = outFile)\n  .                 .Internal(printDeferredWarnings())\n  .             }\n  .             invisible(structure(msg, class = \"try-error\", condition = e))\n  .         }), tryCatchList(expr, classes, parentenv, handlers), \n  .     tryCatchOne(expr, names, parentenv, handlers[[1L]]), doTryCatch(return(expr), \n  .         name, parentenv, handler), withCallingHandlers(withVisible(eval_with_user_handlers(expr, \n  .         envir, enclos, user_handlers)), warning = wHandler, error = eHandler, \n  .         message = mHandler), withVisible(eval_with_user_handlers(expr, \n  .         envir, enclos, user_handlers)), eval_with_user_handlers(expr, \n  .         envir, enclos, user_handlers), eval(expr, envir, enclos), \n  .     eval(expr, envir, enclos), search_artists(\"Kanye West\"), \n  .     query_cont %>% purrr::pluck(\"message\", \"body\", \"artist_list\", \n  .         \"artist\") %>% dplyr::select(artist_id, artist_mbid, artist_name, \n  .         artist_country, artist_rating, artist_twitter_url, updated_time) %>% \n  .         tibble::as_tibble() %>% purrr::map_df(readr::parse_guess), \n  .     purrr::map_df(., readr::parse_guess), map(.x, .f, ...), map_(\"list\", \n  .         .x, .f, ..., .progress = .progress), vctrs_vec_compat(.x, \n  .         .purrr_user_env), tibble::as_tibble(.), dplyr::select(., \n  .         artist_id, artist_mbid, artist_name, artist_country, \n  .         artist_rating, artist_twitter_url, updated_time), select.data.frame(., \n  .         artist_id, artist_mbid, artist_name, artist_country, \n  .         artist_rating, artist_twitter_url, updated_time), tidyselect::eval_select(expr(c(...)), \n  .         data = .data, error_call = error_call), eval_select_impl(data, \n  .         names(data), as_quosure(expr, env), include = include, \n  .         exclude = exclude, strict = strict, name_spec = name_spec, \n  .         allow_rename = allow_rename, allow_empty = allow_empty, \n  .         allow_predicates = allow_predicates, error_call = error_call, \n  .         ), with_subscript_errors(out <- vars_select_eval(vars, \n  .         expr, strict = strict, data = x, name_spec = name_spec, \n  .         uniquely_named = uniquely_named, allow_rename = allow_rename, \n  .         allow_empty = allow_empty, allow_predicates = allow_predicates, \n  .         type = type, error_call = error_call), type = type), \n  .     try_fetch(expr, vctrs_error_subscript = function(cnd) {\n  .         cnd$subscript_action <- subscript_action(type)\n  .         cnd$subscript_elt <- \"column\"\n  .         cnd_signal(cnd)\n  .     }), withCallingHandlers(expr, condition = function(cnd) {\n  .         {\n  .             .__handler_frame__. <- TRUE\n  .             .__setup_frame__. <- frame\n  .             if (inherits(cnd, \"message\")) {\n  .                 except <- c(\"warning\", \"error\")\n  .             }\n  .             else if (inherits(cnd, \"warning\")) {\n  .                 except <- \"error\"\n  .             }\n  .             else {\n  .                 except <- \"\"\n  .             }\n  .         }\n  .         while (!is_null(cnd)) {\n  .             if (inherits(cnd, \"vctrs_error_subscript\")) {\n  .                 out <- handlers[[1L]](cnd)\n  .                 if (!inherits(out, \"rlang_zap\")) \n  .                   throw(out)\n  .             }\n  .             inherit <- .subset2(.subset2(cnd, \"rlang\"), \"inherit\")\n  .             if (is_false(inherit)) {\n  .                 return()\n  .             }\n  .             cnd <- .subset2(cnd, \"parent\")\n  .         }\n  .     }), vars_select_eval(vars, expr, strict = strict, data = x, \n  .         name_spec = name_spec, uniquely_named = uniquely_named, \n  .         allow_rename = allow_rename, allow_empty = allow_empty, \n  .         allow_predicates = allow_predicates, type = type, error_call = error_call), \n  .     walk_data_tree(expr, data_mask, context_mask), eval_c(expr, \n  .         data_mask, context_mask), reduce_sels(node, data_mask, \n  .         context_mask, init = init), walk_data_tree(new, data_mask, \n  .         context_mask), as_indices_sel_impl(out, vars = vars, \n  .         strict = strict, data = data, allow_predicates = allow_predicates, \n  .         call = error_call, arg = as_label(expr)), as_indices_impl(x, \n  .         vars, call = call, arg = arg, strict = strict), chr_as_locations(x, \n  .         vars, call = call, arg = arg), vctrs::vec_as_location(x, \n  .         n = length(vars), names = vars, call = call, arg = arg), \n  .     `<fn>`(), stop_subscript_oob(i = i, subscript_type = subscript_type, \n  .         names = names, subscript_action = subscript_action, subscript_arg = subscript_arg, \n  .         call = call), stop_subscript(class = \"vctrs_error_subscript_oob\", \n  .         i = i, subscript_type = subscript_type, ..., call = call), \n  .     abort(class = c(class, \"vctrs_error_subscript\"), i = i, ..., \n  .         call = call)), parent = c(0L, 1L, 2L, 3L, 4L, 5L, 6L, \n  . 7L, 6L, 9L, 10L, 4L, 12L, 13L, 13L, 15L, 16L, 17L, 18L, 19L, \n  . 13L, 13L, 13L, 23L, 24L, 0L, 26L, 0L, 28L, 29L, 30L, 0L, 0L, \n  . 0L, 34L, 35L, 36L, 37L, 38L, 36L, 40L, 41L, 42L, 43L, 44L, 45L, \n  . 46L, 47L, 0L, 49L, 50L, 51L), visible = c(TRUE, TRUE, TRUE, TRUE, \n  . TRUE, TRUE, TRUE, TRUE, TRUE, TRUE, TRUE, TRUE, TRUE, TRUE, TRUE, \n  . TRUE, TRUE, TRUE, TRUE, TRUE, TRUE, TRUE, TRUE, TRUE, TRUE, TRUE, \n  . TRUE, TRUE, TRUE, TRUE, TRUE, TRUE, TRUE, TRUE, FALSE, FALSE, \n  . FALSE, FALSE, FALSE, FALSE, FALSE, FALSE, FALSE, FALSE, FALSE, \n  . FALSE, FALSE, FALSE, FALSE, FALSE, FALSE, FALSE), namespace = c(\"IRkernel\", \n  . NA, \"IRkernel\", NA, \"base\", \"base\", \"base\", \"base\", \"base\", \"base\", \n  . \"base\", \"evaluate\", \"evaluate\", \"evaluate\", \"evaluate\", \"base\", \n  . \"base\", \"base\", \"base\", \"base\", \"base\", \"base\", \"evaluate\", \"base\", \n  . \"base\", \"rmusix\", NA, \"purrr\", \"purrr\", \"purrr\", \"purrr\", \"tibble\", \n  . \"dplyr\", \"dplyr\", \"tidyselect\", \"tidyselect\", \"tidyselect\", \"rlang\", \n  . \"base\", \"tidyselect\", \"tidyselect\", \"tidyselect\", \"tidyselect\", \n  . \"tidyselect\", \"tidyselect\", \"tidyselect\", \"tidyselect\", \"vctrs\", \n  . \"vctrs\", \"vctrs\", \"vctrs\", \"rlang\"), scope = c(\"::\", NA, \"local\", \n  . NA, \"::\", \"local\", \"local\", \"local\", \"local\", \"local\", \"local\", \n  . \"::\", \":::\", \"local\", \"local\", \"::\", \"::\", \"local\", \"local\", \n  . \"local\", \"::\", \"::\", \":::\", \"::\", \"::\", \"::\", NA, \"::\", \"::\", \n  . \":::\", \":::\", \"::\", \"::\", \":::\", \"::\", \":::\", \":::\", \"::\", \"::\", \n  . \":::\", \":::\", \":::\", \":::\", \":::\", \":::\", \":::\", \":::\", \"::\", \n  . \"local\", \":::\", \":::\", \"::\"), error_frame = c(FALSE, FALSE, FALSE, \n  . FALSE, FALSE, FALSE, FALSE, FALSE, FALSE, FALSE, FALSE, FALSE, \n  . FALSE, FALSE, FALSE, FALSE, FALSE, FALSE, FALSE, FALSE, FALSE, \n  . FALSE, FALSE, FALSE, FALSE, FALSE, FALSE, FALSE, FALSE, FALSE, \n  . FALSE, FALSE, FALSE, TRUE, FALSE, FALSE, FALSE, FALSE, FALSE, \n  . FALSE, FALSE, FALSE, FALSE, FALSE, FALSE, FALSE, FALSE, FALSE, \n  . FALSE, FALSE, FALSE, FALSE)), row.names = c(NA, -52L), version = 2L, class = c(\"rlang_trace\", \n  . \"rlib_trace\", \"tbl\", \"data.frame\")), parent = NULL, i = \"artist_mbid\", \n  .     subscript_type = \"character\", names = c(\"artist_id\", \"artist_name\", \n  .     \"artist_name_translation_list\", \"artist_comment\", \"artist_country\", \n  .     \"artist_alias_list\", \"artist_rating\", \"artist_twitter_url\", \n  .     \"artist_credits\", \"restricted\", \"updated_time\", \"begin_date_year\", \n  .     \"begin_date\", \"end_date_year\", \"end_date\"), subscript_action = NULL, \n  .     subscript_arg = \"artist_mbid\", rlang = list(inherit = TRUE), \n  .     call = dplyr::select(., artist_id, artist_mbid, artist_name, \n  .         artist_country, artist_rating, artist_twitter_url, updated_time)), class = c(\"vctrs_error_subscript_oob\", \n  . \"vctrs_error_subscript\", \"rlang_error\", \"error\", \"condition\")))",
      "31. handlers[[1L]](cnd)",
      "32. cnd_signal(cnd)",
      "33. signal_abort(cnd)"
     ]
    }
   ],
   "source": [
    "ts_search <- search_artists(\"Kanye West\")\n",
    "ts_search"
   ]
  },
  {
   "cell_type": "code",
   "execution_count": null,
   "id": "e621117e-3a3b-4da1-8ab5-1aeb64c809f6",
   "metadata": {},
   "outputs": [],
   "source": []
  }
 ],
 "metadata": {
  "kernelspec": {
   "display_name": "R",
   "language": "R",
   "name": "ir"
  },
  "language_info": {
   "codemirror_mode": "r",
   "file_extension": ".r",
   "mimetype": "text/x-r-source",
   "name": "R",
   "pygments_lexer": "r",
   "version": "3.6.3"
  }
 },
 "nbformat": 4,
 "nbformat_minor": 5
}
