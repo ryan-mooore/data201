{
 "cells": [
  {
   "cell_type": "code",
   "execution_count": 55,
   "metadata": {
    "vscode": {
     "languageId": "r"
    }
   },
   "outputs": [],
   "source": [
    "library(rvest)\n",
    "library(tidyverse)\n",
    "\n",
    "get_top_selling_albums <- function(year) {\n",
    "    albums <- \"https://bestsellingalbums.org/year/\" |>\n",
    "        paste0(year) |>\n",
    "        read_html() |>\n",
    "        html_elements(\".album_card\")\n",
    "\n",
    "    tibble(\n",
    "        Name = albums |>\n",
    "        html_element(\".album\") |>\n",
    "        html_text2(),\n",
    "        Artist = albums |>\n",
    "        html_element(\".artist\") |>\n",
    "        html_text2(),\n",
    "        Sales = albums |>\n",
    "        html_nodes(\".sales\") |>\n",
    "        html_text2() %>%\n",
    "        gsub(\"\\\\D\", \"\", .) |>\n",
    "        as.numeric(),\n",
    "        Rank = albums |>\n",
    "        html_element(\".rank\") |>\n",
    "        html_text() |>\n",
    "        as.numeric(),\n",
    "        `Rank (All time)` = albums |>\n",
    "        html_nodes(\".ranks_row\") |>\n",
    "        html_element(\":nth-child(3)\") |>\n",
    "        html_text() %>%\n",
    "        gsub(\"\\\\D\", \"\", .) |>\n",
    "        as.numeric()\n",
    "    )\n",
    "}"
   ]
  },
  {
   "cell_type": "markdown",
   "metadata": {},
   "source": [
    "Example"
   ]
  },
  {
   "cell_type": "code",
   "execution_count": 56,
   "metadata": {
    "vscode": {
     "languageId": "r"
    }
   },
   "outputs": [
    {
     "ename": "ERROR",
     "evalue": "Error: object 'albums_data' not found\n",
     "output_type": "error",
     "traceback": [
      "Error: object 'albums_data' not found\nTraceback:\n",
      "1. get_top_selling_albums(1987)",
      "2. tibble(Name = html_text2(html_element(albums, \".album\")), Artist = html_text2(html_element(albums, \n .     \".artist\")), Sales = as.numeric(html_text2(html_nodes(albums, \n .     \".sales\")) %>% gsub(\"\\\\D\", \"\", .)), Rank = as.numeric(html_text(html_element(albums_data, \n .     \".rank\"))), `Rank (All time)` = as.numeric(html_text(html_element(html_nodes(albums, \n .     \".ranks_row\"), \":nth-child(3)\")) %>% gsub(\"\\\\D\", \"\", .)))   # at line 10-32 of file <text>",
      "3. tibble_quos(xs, .rows, .name_repair)",
      "4. eval_tidy(xs[[j]], mask)",
      "5. html_text(html_element(albums_data, \".rank\"))",
      "6. xml_text(x, trim = trim)",
      "7. html_element(albums_data, \".rank\")"
     ]
    }
   ],
   "source": [
    "get_top_selling_albums(1987)"
   ]
  }
 ],
 "metadata": {
  "kernelspec": {
   "display_name": "R",
   "language": "R",
   "name": "ir"
  },
  "language_info": {
   "codemirror_mode": "r",
   "file_extension": ".r",
   "mimetype": "text/x-r-source",
   "name": "R",
   "pygments_lexer": "r",
   "version": "3.6.3"
  }
 },
 "nbformat": 4,
 "nbformat_minor": 4
}
