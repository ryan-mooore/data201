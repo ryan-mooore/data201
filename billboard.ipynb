{
 "cells": [
  {
   "cell_type": "markdown",
   "metadata": {},
   "source": [
    "Install reticulate if not installed"
   ]
  },
  {
   "cell_type": "code",
   "execution_count": 8,
   "metadata": {
    "vscode": {
     "languageId": "r"
    }
   },
   "outputs": [],
   "source": [
    "install.packages(\"reticulate\")"
   ]
  },
  {
   "cell_type": "markdown",
   "metadata": {},
   "source": [
    "Install tidyverse if not installed"
   ]
  },
  {
   "cell_type": "code",
   "execution_count": null,
   "metadata": {
    "vscode": {
     "languageId": "r"
    }
   },
   "outputs": [],
   "source": [
    "install.packages(\"tidyverse\")"
   ]
  },
  {
   "cell_type": "markdown",
   "metadata": {},
   "source": [
    "Install Python through reticulate if not installed"
   ]
  },
  {
   "cell_type": "code",
   "execution_count": null,
   "metadata": {
    "vscode": {
     "languageId": "r"
    }
   },
   "outputs": [],
   "source": [
    "library(reticulate)\n",
    "\n",
    "install_python(version = '3.11')\n",
    "use_virtualenv(\"r-reticulate\")"
   ]
  },
  {
   "cell_type": "markdown",
   "metadata": {},
   "source": [
    "Install billboard.py"
   ]
  },
  {
   "cell_type": "code",
   "execution_count": 9,
   "metadata": {
    "vscode": {
     "languageId": "r"
    }
   },
   "outputs": [
    {
     "name": "stdout",
     "output_type": "stream",
     "text": [
      "Using virtual environment '/Users/ryan/.virtualenvs/r-reticulate' ...\n"
     ]
    },
    {
     "name": "stderr",
     "output_type": "stream",
     "text": [
      "+ /Users/ryan/.virtualenvs/r-reticulate/bin/python -m pip install --upgrade --no-user billboard.py\n",
      "\n"
     ]
    }
   ],
   "source": [
    "library(reticulate)\n",
    "\n",
    "py_install(\"billboard.py\")"
   ]
  },
  {
   "cell_type": "markdown",
   "metadata": {},
   "source": [
    "wrap python API in R function to get a billboard top chart"
   ]
  },
  {
   "cell_type": "code",
   "execution_count": 2,
   "metadata": {
    "vscode": {
     "languageId": "r"
    }
   },
   "outputs": [
    {
     "name": "stderr",
     "output_type": "stream",
     "text": [
      "── \u001b[1mAttaching core tidyverse packages\u001b[22m ──────────────────────── tidyverse 2.0.0 ──\n",
      "\u001b[32m✔\u001b[39m \u001b[34mdplyr    \u001b[39m 1.1.2     \u001b[32m✔\u001b[39m \u001b[34mreadr    \u001b[39m 2.1.4\n",
      "\u001b[32m✔\u001b[39m \u001b[34mforcats  \u001b[39m 1.0.0     \u001b[32m✔\u001b[39m \u001b[34mstringr  \u001b[39m 1.5.0\n",
      "\u001b[32m✔\u001b[39m \u001b[34mggplot2  \u001b[39m 3.4.2     \u001b[32m✔\u001b[39m \u001b[34mtibble   \u001b[39m 3.2.1\n",
      "\u001b[32m✔\u001b[39m \u001b[34mlubridate\u001b[39m 1.9.2     \u001b[32m✔\u001b[39m \u001b[34mtidyr    \u001b[39m 1.3.0\n",
      "\u001b[32m✔\u001b[39m \u001b[34mpurrr    \u001b[39m 1.0.2     \n",
      "── \u001b[1mConflicts\u001b[22m ────────────────────────────────────────── tidyverse_conflicts() ──\n",
      "\u001b[31m✖\u001b[39m \u001b[34mdplyr\u001b[39m::\u001b[32mfilter()\u001b[39m masks \u001b[34mstats\u001b[39m::filter()\n",
      "\u001b[31m✖\u001b[39m \u001b[34mdplyr\u001b[39m::\u001b[32mlag()\u001b[39m    masks \u001b[34mstats\u001b[39m::lag()\n",
      "\u001b[36mℹ\u001b[39m Use the conflicted package (\u001b[3m\u001b[34m<http://conflicted.r-lib.org/>\u001b[39m\u001b[23m) to force all conflicts to become errors\n"
     ]
    }
   ],
   "source": [
    "library(reticulate)\n",
    "library(tidyverse)\n",
    "\n",
    "billboard <- import(\"billboard\")\n",
    "\n",
    "get_chart <- function(name, date) {\n",
    "    # call python function and convert from object to dict with __dict__\n",
    "    chart <- billboard$ChartData(name = name, year = 1970)$`__dict__`\n",
    "    chart$entries <- chart$entries |>\n",
    "        # convert each entry from object to dict\n",
    "        lapply(function(entry) entry$`__dict__`) %>%\n",
    "        # bind rows into a matrix\n",
    "        do.call(rbind, .) |>\n",
    "        # convert to df\n",
    "        as.tibble()\n",
    "    \n",
    "    chart\n",
    "}\n",
    "\n",
    "# TODO = add support for yearly charts"
   ]
  },
  {
   "cell_type": "markdown",
   "metadata": {},
   "source": [
    "Example"
   ]
  },
  {
   "cell_type": "code",
   "execution_count": 3,
   "metadata": {
    "vscode": {
     "languageId": "r"
    }
   },
   "outputs": [
    {
     "name": "stderr",
     "output_type": "stream",
     "text": [
      "Warning message:\n",
      "“\u001b[1m\u001b[22m`as.tibble()` was deprecated in tibble 2.0.0.\n",
      "\u001b[36mℹ\u001b[39m Please use `as_tibble()` instead.\n",
      "\u001b[36mℹ\u001b[39m The signature and semantics have changed, see `?as_tibble`.”\n"
     ]
    },
    {
     "data": {
      "text/html": [
       "<dl>\n",
       "\t<dt>$name</dt>\n",
       "\t\t<dd>'hot-100'</dd>\n",
       "\t<dt>$date</dt>\n",
       "\t\t<dd>'1970-06-06'</dd>\n",
       "\t<dt>$year</dt>\n",
       "\t\t<dd>NULL</dd>\n",
       "\t<dt>$title</dt>\n",
       "\t\t<dd>'Billboard Hot 100'</dd>\n",
       "\t<dt>$`_max_retries`</dt>\n",
       "\t\t<dd>5</dd>\n",
       "\t<dt>$`_timeout`</dt>\n",
       "\t\t<dd>25</dd>\n",
       "\t<dt>$entries</dt>\n",
       "\t\t<dd><table class=\"dataframe\">\n",
       "<caption>A tibble: 100 × 8</caption>\n",
       "<thead>\n",
       "\t<tr><th scope=col>title</th><th scope=col>artist</th><th scope=col>image</th><th scope=col>peakPos</th><th scope=col>lastPos</th><th scope=col>weeks</th><th scope=col>rank</th><th scope=col>isNew</th></tr>\n",
       "\t<tr><th scope=col>&lt;list&gt;</th><th scope=col>&lt;list&gt;</th><th scope=col>&lt;list&gt;</th><th scope=col>&lt;list&gt;</th><th scope=col>&lt;list&gt;</th><th scope=col>&lt;list&gt;</th><th scope=col>&lt;list&gt;</th><th scope=col>&lt;list&gt;</th></tr>\n",
       "</thead>\n",
       "<tbody>\n",
       "\t<tr><td>Everything Is Beautiful</td><td>Ray Stevens</td><td>NULL</td><td>1</td><td>1</td><td>10</td><td>1</td><td>FALSE</td></tr>\n",
       "\t<tr><td>Which Way You Goin' Billy?</td><td>The Poppy Family (Featuring Susan Jacks)</td><td>NULL</td><td>2</td><td>6</td><td>11</td><td>2</td><td>FALSE</td></tr>\n",
       "\t<tr><td>Love On A Two-Way Street</td><td>The Moments</td><td>NULL</td><td>3</td><td>3</td><td>9</td><td>3</td><td>FALSE</td></tr>\n",
       "\t<tr><td>Up Around The Bend/Run Through The Jungle</td><td>Creedence Clearwater Revival</td><td>NULL</td><td>4</td><td>5</td><td>7</td><td>4</td><td>FALSE</td></tr>\n",
       "\t<tr><td>Cecilia</td><td>Simon &amp; Garfunkel</td><td>NULL</td><td>4</td><td>4</td><td>9</td><td>5</td><td>FALSE</td></tr>\n",
       "\t<tr><td>Get Ready</td><td>Rare Earth</td><td>NULL</td><td>6</td><td>11</td><td>13</td><td>6</td><td>FALSE</td></tr>\n",
       "\t<tr><td>The Letter</td><td>Joe Cocker with Leon Russell &amp; The Shelter People</td><td>NULL</td><td>7</td><td>7</td><td>8</td><td>7</td><td>FALSE</td></tr>\n",
       "\t<tr><td>American Woman/No Sugar Tonight</td><td>The Guess Who</td><td>NULL</td><td>1</td><td>2</td><td>12</td><td>8</td><td>FALSE</td></tr>\n",
       "\t<tr><td>Make Me Smile</td><td>Chicago</td><td>NULL</td><td>9</td><td>17</td><td>10</td><td>9</td><td>FALSE</td></tr>\n",
       "\t<tr><td>The Long And Winding Road/For You Blue</td><td>The Beatles</td><td>NULL</td><td>10</td><td>12</td><td>3</td><td>10</td><td>FALSE</td></tr>\n",
       "\t<tr><td>Vehicle</td><td>The Ides Of March</td><td>NULL</td><td>2</td><td>9</td><td>11</td><td>11</td><td>FALSE</td></tr>\n",
       "\t<tr><td>Turn Back The Hands Of Time</td><td>Tyrone Davis</td><td>NULL</td><td>3</td><td>8</td><td>12</td><td>12</td><td>FALSE</td></tr>\n",
       "\t<tr><td>Daughter Of Darkness</td><td>Tom Jones</td><td>NULL</td><td>13</td><td>18</td><td>6</td><td>13</td><td>FALSE</td></tr>\n",
       "\t<tr><td>Reflections Of My Life</td><td>The Marmalade</td><td>NULL</td><td>10</td><td>13</td><td>13</td><td>14</td><td>FALSE</td></tr>\n",
       "\t<tr><td>The Love You Save/I Found That Girl</td><td>Jackson 5</td><td>NULL</td><td>15</td><td>45</td><td>2</td><td>15</td><td>FALSE</td></tr>\n",
       "\t<tr><td>Lay Down (Candles In The Rain)</td><td>Melanie With The Edwin Hawkins Singers</td><td>NULL</td><td>16</td><td>26</td><td>7</td><td>16</td><td>FALSE</td></tr>\n",
       "\t<tr><td>Ride Captain Ride</td><td>Blues Image</td><td>NULL</td><td>17</td><td>35</td><td>5</td><td>17</td><td>FALSE</td></tr>\n",
       "\t<tr><td>Come Saturday Morning</td><td>The Sandpipers</td><td>NULL</td><td>18</td><td>19</td><td>17</td><td>18</td><td>FALSE</td></tr>\n",
       "\t<tr><td>For The Love Of Him</td><td>Bobbi Martin</td><td>NULL</td><td>13</td><td>14</td><td>13</td><td>19</td><td>FALSE</td></tr>\n",
       "\t<tr><td>Reach Out And Touch (Somebody's Hand)</td><td>Diana Ross</td><td>NULL</td><td>20</td><td>22</td><td>7</td><td>20</td><td>FALSE</td></tr>\n",
       "\t<tr><td>Let It Be</td><td>The Beatles</td><td>NULL</td><td>1</td><td>10</td><td>12</td><td>21</td><td>FALSE</td></tr>\n",
       "\t<tr><td>Hitchin' A Ride</td><td>Vanity Fare</td><td>NULL</td><td>22</td><td>23</td><td>12</td><td>22</td><td>FALSE</td></tr>\n",
       "\t<tr><td>United We Stand</td><td>The Brotherhood Of Man</td><td>NULL</td><td>23</td><td>27</td><td>8</td><td>23</td><td>FALSE</td></tr>\n",
       "\t<tr><td>Ball Of Confusion (That's What The World Is Today)</td><td>The Temptations</td><td>NULL</td><td>24</td><td>41</td><td>3</td><td>24</td><td>FALSE</td></tr>\n",
       "\t<tr><td>My Baby Loves Lovin'</td><td>White Plains</td><td>NULL</td><td>25</td><td>25</td><td>8</td><td>25</td><td>FALSE</td></tr>\n",
       "\t<tr><td>Question</td><td>The Moody Blues</td><td>NULL</td><td>26</td><td>29</td><td>6</td><td>26</td><td>FALSE</td></tr>\n",
       "\t<tr><td>Woodstock</td><td>Crosby, Stills, Nash &amp; Young</td><td>NULL</td><td>11</td><td>16</td><td>11</td><td>27</td><td>FALSE</td></tr>\n",
       "\t<tr><td>Spirit In The Sky</td><td>Norman Greenbaum</td><td>NULL</td><td>3</td><td>20</td><td>15</td><td>28</td><td>FALSE</td></tr>\n",
       "\t<tr><td>The Wonder Of You/Mama Liked The Roses</td><td>Elvis Presley</td><td>NULL</td><td>29</td><td>33</td><td>4</td><td>29</td><td>FALSE</td></tr>\n",
       "\t<tr><td>ABC</td><td>Jackson 5</td><td>NULL</td><td>1</td><td>15</td><td>13</td><td>30</td><td>FALSE</td></tr>\n",
       "\t<tr><td>⋮</td><td>⋮</td><td>⋮</td><td>⋮</td><td>⋮</td><td>⋮</td><td>⋮</td><td>⋮</td></tr>\n",
       "\t<tr><td>She Didn't Know (She Kept On Talking)</td><td>Dee Dee Warwick</td><td>NULL</td><td>71</td><td>80</td><td>5</td><td>71</td><td>FALSE</td></tr>\n",
       "\t<tr><td>You, Me And Mexico</td><td>Edward Bear</td><td>NULL</td><td>72</td><td>75</td><td>2</td><td>72</td><td>FALSE</td></tr>\n",
       "\t<tr><td>Tighter, Tighter</td><td>Alive &amp; Kicking</td><td>NULL</td><td>73</td><td>0</td><td>1</td><td>73</td><td>TRUE</td></tr>\n",
       "\t<tr><td>That Same Old Feeling</td><td>The Fortunes</td><td>NULL</td><td>74</td><td>87</td><td>4</td><td>74</td><td>FALSE</td></tr>\n",
       "\t<tr><td>Free The People</td><td>Delaney &amp; Bonnie &amp; Friends</td><td>NULL</td><td>75</td><td>78</td><td>3</td><td>75</td><td>FALSE</td></tr>\n",
       "\t<tr><td>What Am I Gonna Do</td><td>Smith</td><td>NULL</td><td>76</td><td>0</td><td>1</td><td>76</td><td>TRUE</td></tr>\n",
       "\t<tr><td>(How Bout A Little Hand For) The Boys In The Band</td><td>The Boys In The Band</td><td>NULL</td><td>77</td><td>0</td><td>1</td><td>77</td><td>TRUE</td></tr>\n",
       "\t<tr><td>Lay A Little Lovin' On Me</td><td>Robin McNamara</td><td>NULL</td><td>78</td><td>93</td><td>2</td><td>78</td><td>FALSE</td></tr>\n",
       "\t<tr><td>Red Red Wine</td><td>Vic Dana</td><td>NULL</td><td>79</td><td>79</td><td>4</td><td>79</td><td>FALSE</td></tr>\n",
       "\t<tr><td>Friends</td><td>Feather</td><td>NULL</td><td>80</td><td>90</td><td>2</td><td>80</td><td>FALSE</td></tr>\n",
       "\t<tr><td>That Same Old Feeling</td><td>Pickettywitch</td><td>NULL</td><td>81</td><td>89</td><td>4</td><td>81</td><td>FALSE</td></tr>\n",
       "\t<tr><td>Them Changes</td><td>Buddy Miles &amp; The Freedom Express</td><td>NULL</td><td>82</td><td>0</td><td>4</td><td>82</td><td>FALSE</td></tr>\n",
       "\t<tr><td>Trying To Make A Fool Of Me</td><td>The Delfonics</td><td>NULL</td><td>83</td><td>0</td><td>1</td><td>83</td><td>TRUE</td></tr>\n",
       "\t<tr><td>Spill The Wine</td><td>Eric Burdon And War</td><td>NULL</td><td>84</td><td>95</td><td>3</td><td>84</td><td>FALSE</td></tr>\n",
       "\t<tr><td>Teach Your Children</td><td>Crosby, Stills, Nash &amp; Young</td><td>NULL</td><td>85</td><td>0</td><td>1</td><td>85</td><td>TRUE</td></tr>\n",
       "\t<tr><td>Primrose Lane</td><td>O.C. Smith</td><td>NULL</td><td>86</td><td>99</td><td>2</td><td>86</td><td>FALSE</td></tr>\n",
       "\t<tr><td>Long And Lonesome Road</td><td>The Shocking Blue</td><td>NULL</td><td>87</td><td>0</td><td>1</td><td>87</td><td>TRUE</td></tr>\n",
       "\t<tr><td>Steal Away</td><td>Johnnie Taylor</td><td>NULL</td><td>88</td><td>0</td><td>1</td><td>88</td><td>TRUE</td></tr>\n",
       "\t<tr><td>The Sly, Slick, And The Wicked</td><td>The Lost Generation</td><td>NULL</td><td>89</td><td>0</td><td>1</td><td>89</td><td>TRUE</td></tr>\n",
       "\t<tr><td>More Than I Can Stand</td><td>Bobby Womack</td><td>NULL</td><td>90</td><td>91</td><td>4</td><td>90</td><td>FALSE</td></tr>\n",
       "\t<tr><td>Melanie Makes Me Smile</td><td>Tony Burrows</td><td>NULL</td><td>91</td><td>0</td><td>1</td><td>91</td><td>TRUE</td></tr>\n",
       "\t<tr><td>Some Beautiful</td><td>Jack Wild</td><td>NULL</td><td>92</td><td>92</td><td>2</td><td>92</td><td>FALSE</td></tr>\n",
       "\t<tr><td>Maybe</td><td>The Three Degrees</td><td>NULL</td><td>93</td><td>0</td><td>1</td><td>93</td><td>TRUE</td></tr>\n",
       "\t<tr><td>Heighdy-Ho Princess</td><td>Neon Philharmonic</td><td>NULL</td><td>94</td><td>94</td><td>2</td><td>94</td><td>FALSE</td></tr>\n",
       "\t<tr><td>Feelings</td><td>Barry Mann</td><td>NULL</td><td>95</td><td>97</td><td>2</td><td>95</td><td>FALSE</td></tr>\n",
       "\t<tr><td>Gimme Shelter</td><td>Merry Clayton</td><td>NULL</td><td>96</td><td>0</td><td>1</td><td>96</td><td>TRUE</td></tr>\n",
       "\t<tr><td>I Think I Love You Again</td><td>Brenda Lee</td><td>NULL</td><td>97</td><td>98</td><td>2</td><td>97</td><td>FALSE</td></tr>\n",
       "\t<tr><td>I Can't Tell The Bottom From The Top</td><td>The Hollies</td><td>NULL</td><td>98</td><td>100</td><td>2</td><td>98</td><td>FALSE</td></tr>\n",
       "\t<tr><td>Oh My My</td><td>The Monkees</td><td>NULL</td><td>99</td><td>0</td><td>1</td><td>99</td><td>TRUE</td></tr>\n",
       "\t<tr><td>She Cried</td><td>The Lettermen</td><td>NULL</td><td>100</td><td>0</td><td>1</td><td>100</td><td>TRUE</td></tr>\n",
       "</tbody>\n",
       "</table>\n",
       "</dd>\n",
       "\t<dt>$previousDate</dt>\n",
       "\t\t<dd>NULL</dd>\n",
       "\t<dt>$nextDate</dt>\n",
       "\t\t<dd>NULL</dd>\n",
       "</dl>\n"
      ],
      "text/latex": [
       "\\begin{description}\n",
       "\\item[\\$name] 'hot-100'\n",
       "\\item[\\$date] '1970-06-06'\n",
       "\\item[\\$year] NULL\n",
       "\\item[\\$title] 'Billboard Hot 100'\n",
       "\\item[\\$`\\_max\\_retries`] 5\n",
       "\\item[\\$`\\_timeout`] 25\n",
       "\\item[\\$entries] A tibble: 100 × 8\n",
       "\\begin{tabular}{llllllll}\n",
       " title & artist & image & peakPos & lastPos & weeks & rank & isNew\\\\\n",
       " <list> & <list> & <list> & <list> & <list> & <list> & <list> & <list>\\\\\n",
       "\\hline\n",
       "\t Everything Is Beautiful & Ray Stevens & NULL & 1 & 1 & 10 & 1 & FALSE\\\\\n",
       "\t Which Way You Goin' Billy? & The Poppy Family (Featuring Susan Jacks) & NULL & 2 & 6 & 11 & 2 & FALSE\\\\\n",
       "\t Love On A Two-Way Street & The Moments & NULL & 3 & 3 & 9 & 3 & FALSE\\\\\n",
       "\t Up Around The Bend/Run Through The Jungle & Creedence Clearwater Revival & NULL & 4 & 5 & 7 & 4 & FALSE\\\\\n",
       "\t Cecilia & Simon \\& Garfunkel & NULL & 4 & 4 & 9 & 5 & FALSE\\\\\n",
       "\t Get Ready & Rare Earth & NULL & 6 & 11 & 13 & 6 & FALSE\\\\\n",
       "\t The Letter & Joe Cocker with Leon Russell \\& The Shelter People & NULL & 7 & 7 & 8 & 7 & FALSE\\\\\n",
       "\t American Woman/No Sugar Tonight & The Guess Who & NULL & 1 & 2 & 12 & 8 & FALSE\\\\\n",
       "\t Make Me Smile & Chicago & NULL & 9 & 17 & 10 & 9 & FALSE\\\\\n",
       "\t The Long And Winding Road/For You Blue & The Beatles & NULL & 10 & 12 & 3 & 10 & FALSE\\\\\n",
       "\t Vehicle & The Ides Of March & NULL & 2 & 9 & 11 & 11 & FALSE\\\\\n",
       "\t Turn Back The Hands Of Time & Tyrone Davis & NULL & 3 & 8 & 12 & 12 & FALSE\\\\\n",
       "\t Daughter Of Darkness & Tom Jones & NULL & 13 & 18 & 6 & 13 & FALSE\\\\\n",
       "\t Reflections Of My Life & The Marmalade & NULL & 10 & 13 & 13 & 14 & FALSE\\\\\n",
       "\t The Love You Save/I Found That Girl & Jackson 5 & NULL & 15 & 45 & 2 & 15 & FALSE\\\\\n",
       "\t Lay Down (Candles In The Rain) & Melanie With The Edwin Hawkins Singers & NULL & 16 & 26 & 7 & 16 & FALSE\\\\\n",
       "\t Ride Captain Ride & Blues Image & NULL & 17 & 35 & 5 & 17 & FALSE\\\\\n",
       "\t Come Saturday Morning & The Sandpipers & NULL & 18 & 19 & 17 & 18 & FALSE\\\\\n",
       "\t For The Love Of Him & Bobbi Martin & NULL & 13 & 14 & 13 & 19 & FALSE\\\\\n",
       "\t Reach Out And Touch (Somebody's Hand) & Diana Ross & NULL & 20 & 22 & 7 & 20 & FALSE\\\\\n",
       "\t Let It Be & The Beatles & NULL & 1 & 10 & 12 & 21 & FALSE\\\\\n",
       "\t Hitchin' A Ride & Vanity Fare & NULL & 22 & 23 & 12 & 22 & FALSE\\\\\n",
       "\t United We Stand & The Brotherhood Of Man & NULL & 23 & 27 & 8 & 23 & FALSE\\\\\n",
       "\t Ball Of Confusion (That's What The World Is Today) & The Temptations & NULL & 24 & 41 & 3 & 24 & FALSE\\\\\n",
       "\t My Baby Loves Lovin' & White Plains & NULL & 25 & 25 & 8 & 25 & FALSE\\\\\n",
       "\t Question & The Moody Blues & NULL & 26 & 29 & 6 & 26 & FALSE\\\\\n",
       "\t Woodstock & Crosby, Stills, Nash \\& Young & NULL & 11 & 16 & 11 & 27 & FALSE\\\\\n",
       "\t Spirit In The Sky & Norman Greenbaum & NULL & 3 & 20 & 15 & 28 & FALSE\\\\\n",
       "\t The Wonder Of You/Mama Liked The Roses & Elvis Presley & NULL & 29 & 33 & 4 & 29 & FALSE\\\\\n",
       "\t ABC & Jackson 5 & NULL & 1 & 15 & 13 & 30 & FALSE\\\\\n",
       "\t ⋮ & ⋮ & ⋮ & ⋮ & ⋮ & ⋮ & ⋮ & ⋮\\\\\n",
       "\t She Didn't Know (She Kept On Talking) & Dee Dee Warwick & NULL & 71 & 80 & 5 & 71 & FALSE\\\\\n",
       "\t You, Me And Mexico & Edward Bear & NULL & 72 & 75 & 2 & 72 & FALSE\\\\\n",
       "\t Tighter, Tighter & Alive \\& Kicking & NULL & 73 & 0 & 1 & 73 & TRUE\\\\\n",
       "\t That Same Old Feeling & The Fortunes & NULL & 74 & 87 & 4 & 74 & FALSE\\\\\n",
       "\t Free The People & Delaney \\& Bonnie \\& Friends & NULL & 75 & 78 & 3 & 75 & FALSE\\\\\n",
       "\t What Am I Gonna Do & Smith & NULL & 76 & 0 & 1 & 76 & TRUE\\\\\n",
       "\t (How Bout A Little Hand For) The Boys In The Band & The Boys In The Band & NULL & 77 & 0 & 1 & 77 & TRUE\\\\\n",
       "\t Lay A Little Lovin' On Me & Robin McNamara & NULL & 78 & 93 & 2 & 78 & FALSE\\\\\n",
       "\t Red Red Wine & Vic Dana & NULL & 79 & 79 & 4 & 79 & FALSE\\\\\n",
       "\t Friends & Feather & NULL & 80 & 90 & 2 & 80 & FALSE\\\\\n",
       "\t That Same Old Feeling & Pickettywitch & NULL & 81 & 89 & 4 & 81 & FALSE\\\\\n",
       "\t Them Changes & Buddy Miles \\& The Freedom Express & NULL & 82 & 0 & 4 & 82 & FALSE\\\\\n",
       "\t Trying To Make A Fool Of Me & The Delfonics & NULL & 83 & 0 & 1 & 83 & TRUE\\\\\n",
       "\t Spill The Wine & Eric Burdon And War & NULL & 84 & 95 & 3 & 84 & FALSE\\\\\n",
       "\t Teach Your Children & Crosby, Stills, Nash \\& Young & NULL & 85 & 0 & 1 & 85 & TRUE\\\\\n",
       "\t Primrose Lane & O.C. Smith & NULL & 86 & 99 & 2 & 86 & FALSE\\\\\n",
       "\t Long And Lonesome Road & The Shocking Blue & NULL & 87 & 0 & 1 & 87 & TRUE\\\\\n",
       "\t Steal Away & Johnnie Taylor & NULL & 88 & 0 & 1 & 88 & TRUE\\\\\n",
       "\t The Sly, Slick, And The Wicked & The Lost Generation & NULL & 89 & 0 & 1 & 89 & TRUE\\\\\n",
       "\t More Than I Can Stand & Bobby Womack & NULL & 90 & 91 & 4 & 90 & FALSE\\\\\n",
       "\t Melanie Makes Me Smile & Tony Burrows & NULL & 91 & 0 & 1 & 91 & TRUE\\\\\n",
       "\t Some Beautiful & Jack Wild & NULL & 92 & 92 & 2 & 92 & FALSE\\\\\n",
       "\t Maybe & The Three Degrees & NULL & 93 & 0 & 1 & 93 & TRUE\\\\\n",
       "\t Heighdy-Ho Princess & Neon Philharmonic & NULL & 94 & 94 & 2 & 94 & FALSE\\\\\n",
       "\t Feelings & Barry Mann & NULL & 95 & 97 & 2 & 95 & FALSE\\\\\n",
       "\t Gimme Shelter & Merry Clayton & NULL & 96 & 0 & 1 & 96 & TRUE\\\\\n",
       "\t I Think I Love You Again & Brenda Lee & NULL & 97 & 98 & 2 & 97 & FALSE\\\\\n",
       "\t I Can't Tell The Bottom From The Top & The Hollies & NULL & 98 & 100 & 2 & 98 & FALSE\\\\\n",
       "\t Oh My My & The Monkees & NULL & 99 & 0 & 1 & 99 & TRUE\\\\\n",
       "\t She Cried & The Lettermen & NULL & 100 & 0 & 1 & 100 & TRUE\\\\\n",
       "\\end{tabular}\n",
       "\n",
       "\\item[\\$previousDate] NULL\n",
       "\\item[\\$nextDate] NULL\n",
       "\\end{description}\n"
      ],
      "text/markdown": [
       "$name\n",
       ":   'hot-100'\n",
       "$date\n",
       ":   '1970-06-06'\n",
       "$year\n",
       ":   NULL\n",
       "$title\n",
       ":   'Billboard Hot 100'\n",
       "$`_max_retries`\n",
       ":   5\n",
       "$`_timeout`\n",
       ":   25\n",
       "$entries\n",
       ":   \n",
       "A tibble: 100 × 8\n",
       "\n",
       "| title &lt;list&gt; | artist &lt;list&gt; | image &lt;list&gt; | peakPos &lt;list&gt; | lastPos &lt;list&gt; | weeks &lt;list&gt; | rank &lt;list&gt; | isNew &lt;list&gt; |\n",
       "|---|---|---|---|---|---|---|---|\n",
       "| Everything Is Beautiful | Ray Stevens | NULL | 1 | 1 | 10 | 1 | FALSE |\n",
       "| Which Way You Goin' Billy? | The Poppy Family (Featuring Susan Jacks) | NULL | 2 | 6 | 11 | 2 | FALSE |\n",
       "| Love On A Two-Way Street | The Moments | NULL | 3 | 3 | 9 | 3 | FALSE |\n",
       "| Up Around The Bend/Run Through The Jungle | Creedence Clearwater Revival | NULL | 4 | 5 | 7 | 4 | FALSE |\n",
       "| Cecilia | Simon &amp; Garfunkel | NULL | 4 | 4 | 9 | 5 | FALSE |\n",
       "| Get Ready | Rare Earth | NULL | 6 | 11 | 13 | 6 | FALSE |\n",
       "| The Letter | Joe Cocker with Leon Russell &amp; The Shelter People | NULL | 7 | 7 | 8 | 7 | FALSE |\n",
       "| American Woman/No Sugar Tonight | The Guess Who | NULL | 1 | 2 | 12 | 8 | FALSE |\n",
       "| Make Me Smile | Chicago | NULL | 9 | 17 | 10 | 9 | FALSE |\n",
       "| The Long And Winding Road/For You Blue | The Beatles | NULL | 10 | 12 | 3 | 10 | FALSE |\n",
       "| Vehicle | The Ides Of March | NULL | 2 | 9 | 11 | 11 | FALSE |\n",
       "| Turn Back The Hands Of Time | Tyrone Davis | NULL | 3 | 8 | 12 | 12 | FALSE |\n",
       "| Daughter Of Darkness | Tom Jones | NULL | 13 | 18 | 6 | 13 | FALSE |\n",
       "| Reflections Of My Life | The Marmalade | NULL | 10 | 13 | 13 | 14 | FALSE |\n",
       "| The Love You Save/I Found That Girl | Jackson 5 | NULL | 15 | 45 | 2 | 15 | FALSE |\n",
       "| Lay Down (Candles In The Rain) | Melanie With The Edwin Hawkins Singers | NULL | 16 | 26 | 7 | 16 | FALSE |\n",
       "| Ride Captain Ride | Blues Image | NULL | 17 | 35 | 5 | 17 | FALSE |\n",
       "| Come Saturday Morning | The Sandpipers | NULL | 18 | 19 | 17 | 18 | FALSE |\n",
       "| For The Love Of Him | Bobbi Martin | NULL | 13 | 14 | 13 | 19 | FALSE |\n",
       "| Reach Out And Touch (Somebody's Hand) | Diana Ross | NULL | 20 | 22 | 7 | 20 | FALSE |\n",
       "| Let It Be | The Beatles | NULL | 1 | 10 | 12 | 21 | FALSE |\n",
       "| Hitchin' A Ride | Vanity Fare | NULL | 22 | 23 | 12 | 22 | FALSE |\n",
       "| United We Stand | The Brotherhood Of Man | NULL | 23 | 27 | 8 | 23 | FALSE |\n",
       "| Ball Of Confusion (That's What The World Is Today) | The Temptations | NULL | 24 | 41 | 3 | 24 | FALSE |\n",
       "| My Baby Loves Lovin' | White Plains | NULL | 25 | 25 | 8 | 25 | FALSE |\n",
       "| Question | The Moody Blues | NULL | 26 | 29 | 6 | 26 | FALSE |\n",
       "| Woodstock | Crosby, Stills, Nash &amp; Young | NULL | 11 | 16 | 11 | 27 | FALSE |\n",
       "| Spirit In The Sky | Norman Greenbaum | NULL | 3 | 20 | 15 | 28 | FALSE |\n",
       "| The Wonder Of You/Mama Liked The Roses | Elvis Presley | NULL | 29 | 33 | 4 | 29 | FALSE |\n",
       "| ABC | Jackson 5 | NULL | 1 | 15 | 13 | 30 | FALSE |\n",
       "| ⋮ | ⋮ | ⋮ | ⋮ | ⋮ | ⋮ | ⋮ | ⋮ |\n",
       "| She Didn't Know (She Kept On Talking) | Dee Dee Warwick | NULL | 71 | 80 | 5 | 71 | FALSE |\n",
       "| You, Me And Mexico | Edward Bear | NULL | 72 | 75 | 2 | 72 | FALSE |\n",
       "| Tighter, Tighter | Alive &amp; Kicking | NULL | 73 | 0 | 1 | 73 | TRUE |\n",
       "| That Same Old Feeling | The Fortunes | NULL | 74 | 87 | 4 | 74 | FALSE |\n",
       "| Free The People | Delaney &amp; Bonnie &amp; Friends | NULL | 75 | 78 | 3 | 75 | FALSE |\n",
       "| What Am I Gonna Do | Smith | NULL | 76 | 0 | 1 | 76 | TRUE |\n",
       "| (How Bout A Little Hand For) The Boys In The Band | The Boys In The Band | NULL | 77 | 0 | 1 | 77 | TRUE |\n",
       "| Lay A Little Lovin' On Me | Robin McNamara | NULL | 78 | 93 | 2 | 78 | FALSE |\n",
       "| Red Red Wine | Vic Dana | NULL | 79 | 79 | 4 | 79 | FALSE |\n",
       "| Friends | Feather | NULL | 80 | 90 | 2 | 80 | FALSE |\n",
       "| That Same Old Feeling | Pickettywitch | NULL | 81 | 89 | 4 | 81 | FALSE |\n",
       "| Them Changes | Buddy Miles &amp; The Freedom Express | NULL | 82 | 0 | 4 | 82 | FALSE |\n",
       "| Trying To Make A Fool Of Me | The Delfonics | NULL | 83 | 0 | 1 | 83 | TRUE |\n",
       "| Spill The Wine | Eric Burdon And War | NULL | 84 | 95 | 3 | 84 | FALSE |\n",
       "| Teach Your Children | Crosby, Stills, Nash &amp; Young | NULL | 85 | 0 | 1 | 85 | TRUE |\n",
       "| Primrose Lane | O.C. Smith | NULL | 86 | 99 | 2 | 86 | FALSE |\n",
       "| Long And Lonesome Road | The Shocking Blue | NULL | 87 | 0 | 1 | 87 | TRUE |\n",
       "| Steal Away | Johnnie Taylor | NULL | 88 | 0 | 1 | 88 | TRUE |\n",
       "| The Sly, Slick, And The Wicked | The Lost Generation | NULL | 89 | 0 | 1 | 89 | TRUE |\n",
       "| More Than I Can Stand | Bobby Womack | NULL | 90 | 91 | 4 | 90 | FALSE |\n",
       "| Melanie Makes Me Smile | Tony Burrows | NULL | 91 | 0 | 1 | 91 | TRUE |\n",
       "| Some Beautiful | Jack Wild | NULL | 92 | 92 | 2 | 92 | FALSE |\n",
       "| Maybe | The Three Degrees | NULL | 93 | 0 | 1 | 93 | TRUE |\n",
       "| Heighdy-Ho Princess | Neon Philharmonic | NULL | 94 | 94 | 2 | 94 | FALSE |\n",
       "| Feelings | Barry Mann | NULL | 95 | 97 | 2 | 95 | FALSE |\n",
       "| Gimme Shelter | Merry Clayton | NULL | 96 | 0 | 1 | 96 | TRUE |\n",
       "| I Think I Love You Again | Brenda Lee | NULL | 97 | 98 | 2 | 97 | FALSE |\n",
       "| I Can't Tell The Bottom From The Top | The Hollies | NULL | 98 | 100 | 2 | 98 | FALSE |\n",
       "| Oh My My | The Monkees | NULL | 99 | 0 | 1 | 99 | TRUE |\n",
       "| She Cried | The Lettermen | NULL | 100 | 0 | 1 | 100 | TRUE |\n",
       "\n",
       "\n",
       "$previousDate\n",
       ":   NULL\n",
       "$nextDate\n",
       ":   NULL\n",
       "\n",
       "\n"
      ],
      "text/plain": [
       "$name\n",
       "[1] \"hot-100\"\n",
       "\n",
       "$date\n",
       "[1] \"1970-06-06\"\n",
       "\n",
       "$year\n",
       "NULL\n",
       "\n",
       "$title\n",
       "[1] \"Billboard Hot 100\"\n",
       "\n",
       "$`_max_retries`\n",
       "[1] 5\n",
       "\n",
       "$`_timeout`\n",
       "[1] 25\n",
       "\n",
       "$entries\n",
       "\u001b[90m# A tibble: 100 × 8\u001b[39m\n",
       "   title     artist    image  peakPos   lastPos   weeks     rank      isNew    \n",
       "   \u001b[3m\u001b[90m<list>\u001b[39m\u001b[23m    \u001b[3m\u001b[90m<list>\u001b[39m\u001b[23m    \u001b[3m\u001b[90m<list>\u001b[39m\u001b[23m \u001b[3m\u001b[90m<list>\u001b[39m\u001b[23m    \u001b[3m\u001b[90m<list>\u001b[39m\u001b[23m    \u001b[3m\u001b[90m<list>\u001b[39m\u001b[23m    \u001b[3m\u001b[90m<list>\u001b[39m\u001b[23m    \u001b[3m\u001b[90m<list>\u001b[39m\u001b[23m   \n",
       "\u001b[90m 1\u001b[39m \u001b[90m<chr [1]>\u001b[39m \u001b[90m<chr [1]>\u001b[39m \u001b[90m<NULL>\u001b[39m \u001b[90m<int [1]>\u001b[39m \u001b[90m<int [1]>\u001b[39m \u001b[90m<int [1]>\u001b[39m \u001b[90m<int [1]>\u001b[39m \u001b[90m<lgl [1]>\u001b[39m\n",
       "\u001b[90m 2\u001b[39m \u001b[90m<chr [1]>\u001b[39m \u001b[90m<chr [1]>\u001b[39m \u001b[90m<NULL>\u001b[39m \u001b[90m<int [1]>\u001b[39m \u001b[90m<int [1]>\u001b[39m \u001b[90m<int [1]>\u001b[39m \u001b[90m<int [1]>\u001b[39m \u001b[90m<lgl [1]>\u001b[39m\n",
       "\u001b[90m 3\u001b[39m \u001b[90m<chr [1]>\u001b[39m \u001b[90m<chr [1]>\u001b[39m \u001b[90m<NULL>\u001b[39m \u001b[90m<int [1]>\u001b[39m \u001b[90m<int [1]>\u001b[39m \u001b[90m<int [1]>\u001b[39m \u001b[90m<int [1]>\u001b[39m \u001b[90m<lgl [1]>\u001b[39m\n",
       "\u001b[90m 4\u001b[39m \u001b[90m<chr [1]>\u001b[39m \u001b[90m<chr [1]>\u001b[39m \u001b[90m<NULL>\u001b[39m \u001b[90m<int [1]>\u001b[39m \u001b[90m<int [1]>\u001b[39m \u001b[90m<int [1]>\u001b[39m \u001b[90m<int [1]>\u001b[39m \u001b[90m<lgl [1]>\u001b[39m\n",
       "\u001b[90m 5\u001b[39m \u001b[90m<chr [1]>\u001b[39m \u001b[90m<chr [1]>\u001b[39m \u001b[90m<NULL>\u001b[39m \u001b[90m<int [1]>\u001b[39m \u001b[90m<int [1]>\u001b[39m \u001b[90m<int [1]>\u001b[39m \u001b[90m<int [1]>\u001b[39m \u001b[90m<lgl [1]>\u001b[39m\n",
       "\u001b[90m 6\u001b[39m \u001b[90m<chr [1]>\u001b[39m \u001b[90m<chr [1]>\u001b[39m \u001b[90m<NULL>\u001b[39m \u001b[90m<int [1]>\u001b[39m \u001b[90m<int [1]>\u001b[39m \u001b[90m<int [1]>\u001b[39m \u001b[90m<int [1]>\u001b[39m \u001b[90m<lgl [1]>\u001b[39m\n",
       "\u001b[90m 7\u001b[39m \u001b[90m<chr [1]>\u001b[39m \u001b[90m<chr [1]>\u001b[39m \u001b[90m<NULL>\u001b[39m \u001b[90m<int [1]>\u001b[39m \u001b[90m<int [1]>\u001b[39m \u001b[90m<int [1]>\u001b[39m \u001b[90m<int [1]>\u001b[39m \u001b[90m<lgl [1]>\u001b[39m\n",
       "\u001b[90m 8\u001b[39m \u001b[90m<chr [1]>\u001b[39m \u001b[90m<chr [1]>\u001b[39m \u001b[90m<NULL>\u001b[39m \u001b[90m<int [1]>\u001b[39m \u001b[90m<int [1]>\u001b[39m \u001b[90m<int [1]>\u001b[39m \u001b[90m<int [1]>\u001b[39m \u001b[90m<lgl [1]>\u001b[39m\n",
       "\u001b[90m 9\u001b[39m \u001b[90m<chr [1]>\u001b[39m \u001b[90m<chr [1]>\u001b[39m \u001b[90m<NULL>\u001b[39m \u001b[90m<int [1]>\u001b[39m \u001b[90m<int [1]>\u001b[39m \u001b[90m<int [1]>\u001b[39m \u001b[90m<int [1]>\u001b[39m \u001b[90m<lgl [1]>\u001b[39m\n",
       "\u001b[90m10\u001b[39m \u001b[90m<chr [1]>\u001b[39m \u001b[90m<chr [1]>\u001b[39m \u001b[90m<NULL>\u001b[39m \u001b[90m<int [1]>\u001b[39m \u001b[90m<int [1]>\u001b[39m \u001b[90m<int [1]>\u001b[39m \u001b[90m<int [1]>\u001b[39m \u001b[90m<lgl [1]>\u001b[39m\n",
       "\u001b[90m# ℹ 90 more rows\u001b[39m\n",
       "\n",
       "$previousDate\n",
       "NULL\n",
       "\n",
       "$nextDate\n",
       "NULL\n"
      ]
     },
     "metadata": {},
     "output_type": "display_data"
    }
   ],
   "source": [
    "get_chart(\"hot-100\", date = \"1970-06-02\")"
   ]
  }
 ],
 "metadata": {
  "kernelspec": {
   "display_name": "R",
   "language": "R",
   "name": "ir"
  },
  "language_info": {
   "codemirror_mode": "r",
   "file_extension": ".r",
   "mimetype": "text/x-r-source",
   "name": "R",
   "pygments_lexer": "r",
   "version": "4.3.1"
  }
 },
 "nbformat": 4,
 "nbformat_minor": 2
}
