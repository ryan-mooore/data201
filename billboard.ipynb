{
 "cells": [
  {
   "cell_type": "markdown",
   "metadata": {},
   "source": [
    "Install reticulate if not installed"
   ]
  },
  {
   "cell_type": "code",
   "execution_count": 8,
   "metadata": {
    "vscode": {
     "languageId": "r"
    }
   },
   "outputs": [],
   "source": [
    "install.packages(\"reticulate\")"
   ]
  },
  {
   "cell_type": "markdown",
   "metadata": {},
   "source": [
    "Install tidyverse if not installed"
   ]
  },
  {
   "cell_type": "code",
   "execution_count": null,
   "metadata": {
    "vscode": {
     "languageId": "r"
    }
   },
   "outputs": [],
   "source": [
    "install.packages(\"tidyverse\")"
   ]
  },
  {
   "cell_type": "markdown",
   "metadata": {},
   "source": [
    "Install Python through reticulate if not installed"
   ]
  },
  {
   "cell_type": "code",
   "execution_count": null,
   "metadata": {
    "vscode": {
     "languageId": "r"
    }
   },
   "outputs": [],
   "source": [
    "library(reticulate)\n",
    "\n",
    "install_python(version = '3.11')\n",
    "use_virtualenv(\"r-reticulate\")"
   ]
  },
  {
   "cell_type": "markdown",
   "metadata": {},
   "source": [
    "Install billboard.py"
   ]
  },
  {
   "cell_type": "code",
   "execution_count": 9,
   "metadata": {
    "vscode": {
     "languageId": "r"
    }
   },
   "outputs": [
    {
     "name": "stdout",
     "output_type": "stream",
     "text": [
      "Using virtual environment '/Users/ryan/.virtualenvs/r-reticulate' ...\n"
     ]
    },
    {
     "name": "stderr",
     "output_type": "stream",
     "text": [
      "+ /Users/ryan/.virtualenvs/r-reticulate/bin/python -m pip install --upgrade --no-user billboard.py\n",
      "\n"
     ]
    }
   ],
   "source": [
    "library(reticulate)\n",
    "\n",
    "py_install(\"billboard.py\")"
   ]
  },
  {
   "cell_type": "markdown",
   "metadata": {},
   "source": [
    "wrap python API in R function to get a billboard top chart"
   ]
  },
  {
   "cell_type": "code",
   "execution_count": 59,
   "metadata": {
    "vscode": {
     "languageId": "r"
    }
   },
   "outputs": [],
   "source": [
    "library(reticulate)\n",
    "library(tidyverse)\n",
    "\n",
    "billboard <- import(\"billboard\")\n",
    "\n",
    "get_chart <- function(name, date) {\n",
    "    # call python function and convert from object to dict with __dict__\n",
    "    chart <- billboard$ChartData(name = name, date = date)$`__dict__`\n",
    "    chart$entries <- chart$entries |>\n",
    "        # convert each entry from object to dict\n",
    "        lapply(function(entry) entry$`__dict__`) %>%\n",
    "        # bind rows into a matrix\n",
    "        do.call(rbind, .) |>\n",
    "        # convert to df\n",
    "        as.tibble()\n",
    "    \n",
    "    chart\n",
    "}\n",
    "\n",
    "# TODO = add support for yearly charts"
   ]
  },
  {
   "cell_type": "markdown",
   "metadata": {},
   "source": [
    "Example"
   ]
  },
  {
   "cell_type": "code",
   "execution_count": 58,
   "metadata": {
    "vscode": {
     "languageId": "r"
    }
   },
   "outputs": [
    {
     "data": {
      "text/html": [
       "<dl>\n",
       "\t<dt>$name</dt>\n",
       "\t\t<dd>'hot-100'</dd>\n",
       "\t<dt>$date</dt>\n",
       "\t\t<dd>'2015-06-06'</dd>\n",
       "\t<dt>$year</dt>\n",
       "\t\t<dd>NULL</dd>\n",
       "\t<dt>$title</dt>\n",
       "\t\t<dd>'Billboard Hot 100'</dd>\n",
       "\t<dt>$`_max_retries`</dt>\n",
       "\t\t<dd>5</dd>\n",
       "\t<dt>$`_timeout`</dt>\n",
       "\t\t<dd>25</dd>\n",
       "\t<dt>$entries</dt>\n",
       "\t\t<dd><table class=\"dataframe\">\n",
       "<caption>A tibble: 100 × 8</caption>\n",
       "<thead>\n",
       "\t<tr><th scope=col>title</th><th scope=col>artist</th><th scope=col>image</th><th scope=col>peakPos</th><th scope=col>lastPos</th><th scope=col>weeks</th><th scope=col>rank</th><th scope=col>isNew</th></tr>\n",
       "\t<tr><th scope=col>&lt;list&gt;</th><th scope=col>&lt;list&gt;</th><th scope=col>&lt;list&gt;</th><th scope=col>&lt;list&gt;</th><th scope=col>&lt;list&gt;</th><th scope=col>&lt;list&gt;</th><th scope=col>&lt;list&gt;</th><th scope=col>&lt;list&gt;</th></tr>\n",
       "</thead>\n",
       "<tbody>\n",
       "\t<tr><td>Bad Blood</td><td>Taylor Swift Featuring Kendrick Lamar</td><td>NULL</td><td>1</td><td>53</td><td>4</td><td>1</td><td>FALSE</td></tr>\n",
       "\t<tr><td>See You Again</td><td>Wiz Khalifa Featuring Charlie Puth</td><td>NULL</td><td>1</td><td>1</td><td>11</td><td>2</td><td>FALSE</td></tr>\n",
       "\t<tr><td>Trap Queen</td><td>Fetty Wap</td><td>NULL</td><td>2</td><td>2</td><td>18</td><td>3</td><td>FALSE</td></tr>\n",
       "\t<tr><td>Shut Up And Dance</td><td>WALK THE MOON</td><td>NULL</td><td>4</td><td>4</td><td>28</td><td>4</td><td>FALSE</td></tr>\n",
       "\t<tr><td>Earned It (Fifty Shades Of Grey)</td><td>The Weeknd</td><td>NULL</td><td>3</td><td>3</td><td>22</td><td>5</td><td>FALSE</td></tr>\n",
       "\t<tr><td>Uptown Funk!</td><td>Mark Ronson Featuring Bruno Mars</td><td>NULL</td><td>1</td><td>5</td><td>28</td><td>6</td><td>FALSE</td></tr>\n",
       "\t<tr><td>Want To Want Me</td><td>Jason Derulo</td><td>NULL</td><td>6</td><td>6</td><td>11</td><td>7</td><td>FALSE</td></tr>\n",
       "\t<tr><td>Hey Mama</td><td>David Guetta Featuring Nicki Minaj, Bebe Rexha &amp; Afrojack</td><td>NULL</td><td>8</td><td>11</td><td>9</td><td>8</td><td>FALSE</td></tr>\n",
       "\t<tr><td>Sugar</td><td>Maroon 5</td><td>NULL</td><td>2</td><td>7</td><td>19</td><td>9</td><td>FALSE</td></tr>\n",
       "\t<tr><td>Nasty Freestyle</td><td>T-Wayne</td><td>NULL</td><td>9</td><td>9</td><td>6</td><td>10</td><td>FALSE</td></tr>\n",
       "\t<tr><td>Love Me Like You Do</td><td>Ellie Goulding</td><td>NULL</td><td>3</td><td>8</td><td>20</td><td>11</td><td>FALSE</td></tr>\n",
       "\t<tr><td>Honey, I'm Good.</td><td>Andy Grammer</td><td>NULL</td><td>12</td><td>12</td><td>13</td><td>12</td><td>FALSE</td></tr>\n",
       "\t<tr><td>Talking Body</td><td>Tove Lo</td><td>NULL</td><td>13</td><td>13</td><td>17</td><td>13</td><td>FALSE</td></tr>\n",
       "\t<tr><td>Dear Future Husband</td><td>Meghan Trainor</td><td>NULL</td><td>14</td><td>17</td><td>19</td><td>14</td><td>FALSE</td></tr>\n",
       "\t<tr><td>Post To Be</td><td>Omarion Featuring Chris Brown &amp; Jhene Aiko</td><td>NULL</td><td>13</td><td>15</td><td>20</td><td>15</td><td>FALSE</td></tr>\n",
       "\t<tr><td>Thinking Out Loud</td><td>Ed Sheeran</td><td>NULL</td><td>2</td><td>10</td><td>33</td><td>16</td><td>FALSE</td></tr>\n",
       "\t<tr><td>Worth It</td><td>Fifth Harmony Featuring Kid Ink</td><td>NULL</td><td>17</td><td>19</td><td>14</td><td>17</td><td>FALSE</td></tr>\n",
       "\t<tr><td>You Know You Like It</td><td>DJ Snake &amp; AlunaGeorge</td><td>NULL</td><td>18</td><td>18</td><td>9</td><td>18</td><td>FALSE</td></tr>\n",
       "\t<tr><td>Somebody</td><td>Natalie La Rose Featuring Jeremih</td><td>NULL</td><td>10</td><td>16</td><td>18</td><td>19</td><td>FALSE</td></tr>\n",
       "\t<tr><td>Where Are U Now</td><td>Skrillex &amp; Diplo With Justin Bieber</td><td>NULL</td><td>20</td><td>22</td><td>12</td><td>20</td><td>FALSE</td></tr>\n",
       "\t<tr><td>G.D.F.R.</td><td>Flo Rida Featuring Sage The Gemini &amp; Lookas</td><td>NULL</td><td>8</td><td>14</td><td>28</td><td>21</td><td>FALSE</td></tr>\n",
       "\t<tr><td>Girl Crush</td><td>Little Big Town</td><td>NULL</td><td>18</td><td>23</td><td>14</td><td>22</td><td>FALSE</td></tr>\n",
       "\t<tr><td>Style</td><td>Taylor Swift</td><td>NULL</td><td>6</td><td>20</td><td>24</td><td>23</td><td>FALSE</td></tr>\n",
       "\t<tr><td>B**** Better Have My Money</td><td>Rihanna</td><td>NULL</td><td>17</td><td>25</td><td>9</td><td>24</td><td>FALSE</td></tr>\n",
       "\t<tr><td>Watch Me</td><td>Silento</td><td>NULL</td><td>25</td><td>27</td><td>13</td><td>25</td><td>FALSE</td></tr>\n",
       "\t<tr><td>Kick The Dust Up</td><td>Luke Bryan</td><td>NULL</td><td>26</td><td>0</td><td>1</td><td>26</td><td>TRUE</td></tr>\n",
       "\t<tr><td>Cheerleader</td><td>OMI</td><td>NULL</td><td>27</td><td>31</td><td>5</td><td>27</td><td>FALSE</td></tr>\n",
       "\t<tr><td>Chains</td><td>Nick Jonas</td><td>NULL</td><td>13</td><td>21</td><td>17</td><td>28</td><td>FALSE</td></tr>\n",
       "\t<tr><td>Slow Motion</td><td>Trey Songz</td><td>NULL</td><td>26</td><td>26</td><td>15</td><td>29</td><td>FALSE</td></tr>\n",
       "\t<tr><td>Fight Song</td><td>Rachel Platten</td><td>NULL</td><td>28</td><td>28</td><td>6</td><td>30</td><td>FALSE</td></tr>\n",
       "\t<tr><td>⋮</td><td>⋮</td><td>⋮</td><td>⋮</td><td>⋮</td><td>⋮</td><td>⋮</td><td>⋮</td></tr>\n",
       "\t<tr><td>Heartbeat Song</td><td>Kelly Clarkson</td><td>NULL</td><td>21</td><td>61</td><td>19</td><td>71</td><td>FALSE</td></tr>\n",
       "\t<tr><td>Love You Like That</td><td>Canaan Smith</td><td>NULL</td><td>70</td><td>70</td><td>9</td><td>72</td><td>FALSE</td></tr>\n",
       "\t<tr><td>I Need Your Love</td><td>Shaggy Featuring Mohombi, Faydee, Costi</td><td>NULL</td><td>73</td><td>84</td><td>3</td><td>73</td><td>FALSE</td></tr>\n",
       "\t<tr><td>Classic Man</td><td>Jidenna Featuring Roman GianArthur</td><td>NULL</td><td>74</td><td>81</td><td>3</td><td>74</td><td>FALSE</td></tr>\n",
       "\t<tr><td>Like A Wrecking Ball</td><td>Eric Church</td><td>NULL</td><td>75</td><td>79</td><td>9</td><td>75</td><td>FALSE</td></tr>\n",
       "\t<tr><td>Wet Dreamz</td><td>J. Cole</td><td>NULL</td><td>73</td><td>85</td><td>7</td><td>76</td><td>FALSE</td></tr>\n",
       "\t<tr><td>One Hell Of An Amen</td><td>Brantley Gilbert</td><td>NULL</td><td>77</td><td>90</td><td>4</td><td>77</td><td>FALSE</td></tr>\n",
       "\t<tr><td>The Matrimony</td><td>Wale Featuring Usher</td><td>NULL</td><td>73</td><td>73</td><td>8</td><td>78</td><td>FALSE</td></tr>\n",
       "\t<tr><td>Know Yourself</td><td>Drake</td><td>NULL</td><td>53</td><td>75</td><td>14</td><td>79</td><td>FALSE</td></tr>\n",
       "\t<tr><td>I Really Like You</td><td>Carly Rae Jepsen</td><td>NULL</td><td>39</td><td>76</td><td>12</td><td>80</td><td>FALSE</td></tr>\n",
       "\t<tr><td>Baby Be My Love Song</td><td>Easton Corbin</td><td>NULL</td><td>79</td><td>89</td><td>7</td><td>81</td><td>FALSE</td></tr>\n",
       "\t<tr><td>Energy</td><td>Drake</td><td>NULL</td><td>26</td><td>78</td><td>15</td><td>82</td><td>FALSE</td></tr>\n",
       "\t<tr><td>Believe</td><td>Mumford &amp; Sons</td><td>NULL</td><td>31</td><td>63</td><td>11</td><td>83</td><td>FALSE</td></tr>\n",
       "\t<tr><td>Raise 'Em Up</td><td>Keith Urban Featuring Eric Church</td><td>NULL</td><td>56</td><td>65</td><td>13</td><td>84</td><td>FALSE</td></tr>\n",
       "\t<tr><td>Diamond Rings And Old Barstools</td><td>Tim McGraw With Catherine Dunn</td><td>NULL</td><td>75</td><td>82</td><td>10</td><td>85</td><td>FALSE</td></tr>\n",
       "\t<tr><td>I Bet</td><td>Ciara</td><td>NULL</td><td>43</td><td>71</td><td>13</td><td>86</td><td>FALSE</td></tr>\n",
       "\t<tr><td>El Perdon (Forgiveness)</td><td>Nicky Jam &amp; Enrique Iglesias</td><td>NULL</td><td>66</td><td>86</td><td>9</td><td>87</td><td>FALSE</td></tr>\n",
       "\t<tr><td>Beautiful Now</td><td>Zedd Featuring Jon Bellion</td><td>NULL</td><td>88</td><td>0</td><td>1</td><td>88</td><td>TRUE</td></tr>\n",
       "\t<tr><td>How Many Times</td><td>DJ Khaled Featuring Chris Brown, Lil Wayne &amp; Big Sean</td><td>NULL</td><td>74</td><td>74</td><td>2</td><td>89</td><td>FALSE</td></tr>\n",
       "\t<tr><td>King Kunta</td><td>Kendrick Lamar</td><td>NULL</td><td>58</td><td>83</td><td>10</td><td>90</td><td>FALSE</td></tr>\n",
       "\t<tr><td>Crash And Burn</td><td>Thomas Rhett</td><td>NULL</td><td>91</td><td>0</td><td>2</td><td>91</td><td>FALSE</td></tr>\n",
       "\t<tr><td>Change My Mind</td><td>Meghan Linsey</td><td>NULL</td><td>92</td><td>0</td><td>1</td><td>92</td><td>TRUE</td></tr>\n",
       "\t<tr><td>She Don't Love You</td><td>Eric Paslay</td><td>NULL</td><td>77</td><td>91</td><td>12</td><td>93</td><td>FALSE</td></tr>\n",
       "\t<tr><td>Tonight Looks Good On You</td><td>Jason Aldean</td><td>NULL</td><td>53</td><td>97</td><td>5</td><td>94</td><td>FALSE</td></tr>\n",
       "\t<tr><td>Get Low</td><td>Dillon Francis &amp; DJ Snake</td><td>NULL</td><td>61</td><td>96</td><td>8</td><td>95</td><td>FALSE</td></tr>\n",
       "\t<tr><td>Crushin' It</td><td>Brad Paisley</td><td>NULL</td><td>96</td><td>100</td><td>4</td><td>96</td><td>FALSE</td></tr>\n",
       "\t<tr><td>Stressed Out</td><td>twenty one pilots</td><td>NULL</td><td>87</td><td>0</td><td>2</td><td>97</td><td>FALSE</td></tr>\n",
       "\t<tr><td>Renegades</td><td>X Ambassadors</td><td>NULL</td><td>69</td><td>95</td><td>6</td><td>98</td><td>FALSE</td></tr>\n",
       "\t<tr><td>Games</td><td>Luke Bryan</td><td>NULL</td><td>92</td><td>98</td><td>5</td><td>99</td><td>FALSE</td></tr>\n",
       "\t<tr><td>I Don't Get Tired (#IDGT)</td><td>Kevin Gates Featuring August Alsina</td><td>NULL</td><td>90</td><td>99</td><td>5</td><td>100</td><td>FALSE</td></tr>\n",
       "</tbody>\n",
       "</table>\n",
       "</dd>\n",
       "\t<dt>$previousDate</dt>\n",
       "\t\t<dd>NULL</dd>\n",
       "\t<dt>$nextDate</dt>\n",
       "\t\t<dd>NULL</dd>\n",
       "</dl>\n"
      ],
      "text/latex": [
       "\\begin{description}\n",
       "\\item[\\$name] 'hot-100'\n",
       "\\item[\\$date] '2015-06-06'\n",
       "\\item[\\$year] NULL\n",
       "\\item[\\$title] 'Billboard Hot 100'\n",
       "\\item[\\$`\\_max\\_retries`] 5\n",
       "\\item[\\$`\\_timeout`] 25\n",
       "\\item[\\$entries] A tibble: 100 × 8\n",
       "\\begin{tabular}{llllllll}\n",
       " title & artist & image & peakPos & lastPos & weeks & rank & isNew\\\\\n",
       " <list> & <list> & <list> & <list> & <list> & <list> & <list> & <list>\\\\\n",
       "\\hline\n",
       "\t Bad Blood & Taylor Swift Featuring Kendrick Lamar & NULL & 1 & 53 & 4 & 1 & FALSE\\\\\n",
       "\t See You Again & Wiz Khalifa Featuring Charlie Puth & NULL & 1 & 1 & 11 & 2 & FALSE\\\\\n",
       "\t Trap Queen & Fetty Wap & NULL & 2 & 2 & 18 & 3 & FALSE\\\\\n",
       "\t Shut Up And Dance & WALK THE MOON & NULL & 4 & 4 & 28 & 4 & FALSE\\\\\n",
       "\t Earned It (Fifty Shades Of Grey) & The Weeknd & NULL & 3 & 3 & 22 & 5 & FALSE\\\\\n",
       "\t Uptown Funk! & Mark Ronson Featuring Bruno Mars & NULL & 1 & 5 & 28 & 6 & FALSE\\\\\n",
       "\t Want To Want Me & Jason Derulo & NULL & 6 & 6 & 11 & 7 & FALSE\\\\\n",
       "\t Hey Mama & David Guetta Featuring Nicki Minaj, Bebe Rexha \\& Afrojack & NULL & 8 & 11 & 9 & 8 & FALSE\\\\\n",
       "\t Sugar & Maroon 5 & NULL & 2 & 7 & 19 & 9 & FALSE\\\\\n",
       "\t Nasty Freestyle & T-Wayne & NULL & 9 & 9 & 6 & 10 & FALSE\\\\\n",
       "\t Love Me Like You Do & Ellie Goulding & NULL & 3 & 8 & 20 & 11 & FALSE\\\\\n",
       "\t Honey, I'm Good. & Andy Grammer & NULL & 12 & 12 & 13 & 12 & FALSE\\\\\n",
       "\t Talking Body & Tove Lo & NULL & 13 & 13 & 17 & 13 & FALSE\\\\\n",
       "\t Dear Future Husband & Meghan Trainor & NULL & 14 & 17 & 19 & 14 & FALSE\\\\\n",
       "\t Post To Be & Omarion Featuring Chris Brown \\& Jhene Aiko & NULL & 13 & 15 & 20 & 15 & FALSE\\\\\n",
       "\t Thinking Out Loud & Ed Sheeran & NULL & 2 & 10 & 33 & 16 & FALSE\\\\\n",
       "\t Worth It & Fifth Harmony Featuring Kid Ink & NULL & 17 & 19 & 14 & 17 & FALSE\\\\\n",
       "\t You Know You Like It & DJ Snake \\& AlunaGeorge & NULL & 18 & 18 & 9 & 18 & FALSE\\\\\n",
       "\t Somebody & Natalie La Rose Featuring Jeremih & NULL & 10 & 16 & 18 & 19 & FALSE\\\\\n",
       "\t Where Are U Now & Skrillex \\& Diplo With Justin Bieber & NULL & 20 & 22 & 12 & 20 & FALSE\\\\\n",
       "\t G.D.F.R. & Flo Rida Featuring Sage The Gemini \\& Lookas & NULL & 8 & 14 & 28 & 21 & FALSE\\\\\n",
       "\t Girl Crush & Little Big Town & NULL & 18 & 23 & 14 & 22 & FALSE\\\\\n",
       "\t Style & Taylor Swift & NULL & 6 & 20 & 24 & 23 & FALSE\\\\\n",
       "\t B**** Better Have My Money & Rihanna & NULL & 17 & 25 & 9 & 24 & FALSE\\\\\n",
       "\t Watch Me & Silento & NULL & 25 & 27 & 13 & 25 & FALSE\\\\\n",
       "\t Kick The Dust Up & Luke Bryan & NULL & 26 & 0 & 1 & 26 & TRUE\\\\\n",
       "\t Cheerleader & OMI & NULL & 27 & 31 & 5 & 27 & FALSE\\\\\n",
       "\t Chains & Nick Jonas & NULL & 13 & 21 & 17 & 28 & FALSE\\\\\n",
       "\t Slow Motion & Trey Songz & NULL & 26 & 26 & 15 & 29 & FALSE\\\\\n",
       "\t Fight Song & Rachel Platten & NULL & 28 & 28 & 6 & 30 & FALSE\\\\\n",
       "\t ⋮ & ⋮ & ⋮ & ⋮ & ⋮ & ⋮ & ⋮ & ⋮\\\\\n",
       "\t Heartbeat Song & Kelly Clarkson & NULL & 21 & 61 & 19 & 71 & FALSE\\\\\n",
       "\t Love You Like That & Canaan Smith & NULL & 70 & 70 & 9 & 72 & FALSE\\\\\n",
       "\t I Need Your Love & Shaggy Featuring Mohombi, Faydee, Costi & NULL & 73 & 84 & 3 & 73 & FALSE\\\\\n",
       "\t Classic Man & Jidenna Featuring Roman GianArthur & NULL & 74 & 81 & 3 & 74 & FALSE\\\\\n",
       "\t Like A Wrecking Ball & Eric Church & NULL & 75 & 79 & 9 & 75 & FALSE\\\\\n",
       "\t Wet Dreamz & J. Cole & NULL & 73 & 85 & 7 & 76 & FALSE\\\\\n",
       "\t One Hell Of An Amen & Brantley Gilbert & NULL & 77 & 90 & 4 & 77 & FALSE\\\\\n",
       "\t The Matrimony & Wale Featuring Usher & NULL & 73 & 73 & 8 & 78 & FALSE\\\\\n",
       "\t Know Yourself & Drake & NULL & 53 & 75 & 14 & 79 & FALSE\\\\\n",
       "\t I Really Like You & Carly Rae Jepsen & NULL & 39 & 76 & 12 & 80 & FALSE\\\\\n",
       "\t Baby Be My Love Song & Easton Corbin & NULL & 79 & 89 & 7 & 81 & FALSE\\\\\n",
       "\t Energy & Drake & NULL & 26 & 78 & 15 & 82 & FALSE\\\\\n",
       "\t Believe & Mumford \\& Sons & NULL & 31 & 63 & 11 & 83 & FALSE\\\\\n",
       "\t Raise 'Em Up & Keith Urban Featuring Eric Church & NULL & 56 & 65 & 13 & 84 & FALSE\\\\\n",
       "\t Diamond Rings And Old Barstools & Tim McGraw With Catherine Dunn & NULL & 75 & 82 & 10 & 85 & FALSE\\\\\n",
       "\t I Bet & Ciara & NULL & 43 & 71 & 13 & 86 & FALSE\\\\\n",
       "\t El Perdon (Forgiveness) & Nicky Jam \\& Enrique Iglesias & NULL & 66 & 86 & 9 & 87 & FALSE\\\\\n",
       "\t Beautiful Now & Zedd Featuring Jon Bellion & NULL & 88 & 0 & 1 & 88 & TRUE\\\\\n",
       "\t How Many Times & DJ Khaled Featuring Chris Brown, Lil Wayne \\& Big Sean & NULL & 74 & 74 & 2 & 89 & FALSE\\\\\n",
       "\t King Kunta & Kendrick Lamar & NULL & 58 & 83 & 10 & 90 & FALSE\\\\\n",
       "\t Crash And Burn & Thomas Rhett & NULL & 91 & 0 & 2 & 91 & FALSE\\\\\n",
       "\t Change My Mind & Meghan Linsey & NULL & 92 & 0 & 1 & 92 & TRUE\\\\\n",
       "\t She Don't Love You & Eric Paslay & NULL & 77 & 91 & 12 & 93 & FALSE\\\\\n",
       "\t Tonight Looks Good On You & Jason Aldean & NULL & 53 & 97 & 5 & 94 & FALSE\\\\\n",
       "\t Get Low & Dillon Francis \\& DJ Snake & NULL & 61 & 96 & 8 & 95 & FALSE\\\\\n",
       "\t Crushin' It & Brad Paisley & NULL & 96 & 100 & 4 & 96 & FALSE\\\\\n",
       "\t Stressed Out & twenty one pilots & NULL & 87 & 0 & 2 & 97 & FALSE\\\\\n",
       "\t Renegades & X Ambassadors & NULL & 69 & 95 & 6 & 98 & FALSE\\\\\n",
       "\t Games & Luke Bryan & NULL & 92 & 98 & 5 & 99 & FALSE\\\\\n",
       "\t I Don't Get Tired (\\#IDGT) & Kevin Gates Featuring August Alsina & NULL & 90 & 99 & 5 & 100 & FALSE\\\\\n",
       "\\end{tabular}\n",
       "\n",
       "\\item[\\$previousDate] NULL\n",
       "\\item[\\$nextDate] NULL\n",
       "\\end{description}\n"
      ],
      "text/markdown": [
       "$name\n",
       ":   'hot-100'\n",
       "$date\n",
       ":   '2015-06-06'\n",
       "$year\n",
       ":   NULL\n",
       "$title\n",
       ":   'Billboard Hot 100'\n",
       "$`_max_retries`\n",
       ":   5\n",
       "$`_timeout`\n",
       ":   25\n",
       "$entries\n",
       ":   \n",
       "A tibble: 100 × 8\n",
       "\n",
       "| title &lt;list&gt; | artist &lt;list&gt; | image &lt;list&gt; | peakPos &lt;list&gt; | lastPos &lt;list&gt; | weeks &lt;list&gt; | rank &lt;list&gt; | isNew &lt;list&gt; |\n",
       "|---|---|---|---|---|---|---|---|\n",
       "| Bad Blood | Taylor Swift Featuring Kendrick Lamar | NULL | 1 | 53 | 4 | 1 | FALSE |\n",
       "| See You Again | Wiz Khalifa Featuring Charlie Puth | NULL | 1 | 1 | 11 | 2 | FALSE |\n",
       "| Trap Queen | Fetty Wap | NULL | 2 | 2 | 18 | 3 | FALSE |\n",
       "| Shut Up And Dance | WALK THE MOON | NULL | 4 | 4 | 28 | 4 | FALSE |\n",
       "| Earned It (Fifty Shades Of Grey) | The Weeknd | NULL | 3 | 3 | 22 | 5 | FALSE |\n",
       "| Uptown Funk! | Mark Ronson Featuring Bruno Mars | NULL | 1 | 5 | 28 | 6 | FALSE |\n",
       "| Want To Want Me | Jason Derulo | NULL | 6 | 6 | 11 | 7 | FALSE |\n",
       "| Hey Mama | David Guetta Featuring Nicki Minaj, Bebe Rexha &amp; Afrojack | NULL | 8 | 11 | 9 | 8 | FALSE |\n",
       "| Sugar | Maroon 5 | NULL | 2 | 7 | 19 | 9 | FALSE |\n",
       "| Nasty Freestyle | T-Wayne | NULL | 9 | 9 | 6 | 10 | FALSE |\n",
       "| Love Me Like You Do | Ellie Goulding | NULL | 3 | 8 | 20 | 11 | FALSE |\n",
       "| Honey, I'm Good. | Andy Grammer | NULL | 12 | 12 | 13 | 12 | FALSE |\n",
       "| Talking Body | Tove Lo | NULL | 13 | 13 | 17 | 13 | FALSE |\n",
       "| Dear Future Husband | Meghan Trainor | NULL | 14 | 17 | 19 | 14 | FALSE |\n",
       "| Post To Be | Omarion Featuring Chris Brown &amp; Jhene Aiko | NULL | 13 | 15 | 20 | 15 | FALSE |\n",
       "| Thinking Out Loud | Ed Sheeran | NULL | 2 | 10 | 33 | 16 | FALSE |\n",
       "| Worth It | Fifth Harmony Featuring Kid Ink | NULL | 17 | 19 | 14 | 17 | FALSE |\n",
       "| You Know You Like It | DJ Snake &amp; AlunaGeorge | NULL | 18 | 18 | 9 | 18 | FALSE |\n",
       "| Somebody | Natalie La Rose Featuring Jeremih | NULL | 10 | 16 | 18 | 19 | FALSE |\n",
       "| Where Are U Now | Skrillex &amp; Diplo With Justin Bieber | NULL | 20 | 22 | 12 | 20 | FALSE |\n",
       "| G.D.F.R. | Flo Rida Featuring Sage The Gemini &amp; Lookas | NULL | 8 | 14 | 28 | 21 | FALSE |\n",
       "| Girl Crush | Little Big Town | NULL | 18 | 23 | 14 | 22 | FALSE |\n",
       "| Style | Taylor Swift | NULL | 6 | 20 | 24 | 23 | FALSE |\n",
       "| B**** Better Have My Money | Rihanna | NULL | 17 | 25 | 9 | 24 | FALSE |\n",
       "| Watch Me | Silento | NULL | 25 | 27 | 13 | 25 | FALSE |\n",
       "| Kick The Dust Up | Luke Bryan | NULL | 26 | 0 | 1 | 26 | TRUE |\n",
       "| Cheerleader | OMI | NULL | 27 | 31 | 5 | 27 | FALSE |\n",
       "| Chains | Nick Jonas | NULL | 13 | 21 | 17 | 28 | FALSE |\n",
       "| Slow Motion | Trey Songz | NULL | 26 | 26 | 15 | 29 | FALSE |\n",
       "| Fight Song | Rachel Platten | NULL | 28 | 28 | 6 | 30 | FALSE |\n",
       "| ⋮ | ⋮ | ⋮ | ⋮ | ⋮ | ⋮ | ⋮ | ⋮ |\n",
       "| Heartbeat Song | Kelly Clarkson | NULL | 21 | 61 | 19 | 71 | FALSE |\n",
       "| Love You Like That | Canaan Smith | NULL | 70 | 70 | 9 | 72 | FALSE |\n",
       "| I Need Your Love | Shaggy Featuring Mohombi, Faydee, Costi | NULL | 73 | 84 | 3 | 73 | FALSE |\n",
       "| Classic Man | Jidenna Featuring Roman GianArthur | NULL | 74 | 81 | 3 | 74 | FALSE |\n",
       "| Like A Wrecking Ball | Eric Church | NULL | 75 | 79 | 9 | 75 | FALSE |\n",
       "| Wet Dreamz | J. Cole | NULL | 73 | 85 | 7 | 76 | FALSE |\n",
       "| One Hell Of An Amen | Brantley Gilbert | NULL | 77 | 90 | 4 | 77 | FALSE |\n",
       "| The Matrimony | Wale Featuring Usher | NULL | 73 | 73 | 8 | 78 | FALSE |\n",
       "| Know Yourself | Drake | NULL | 53 | 75 | 14 | 79 | FALSE |\n",
       "| I Really Like You | Carly Rae Jepsen | NULL | 39 | 76 | 12 | 80 | FALSE |\n",
       "| Baby Be My Love Song | Easton Corbin | NULL | 79 | 89 | 7 | 81 | FALSE |\n",
       "| Energy | Drake | NULL | 26 | 78 | 15 | 82 | FALSE |\n",
       "| Believe | Mumford &amp; Sons | NULL | 31 | 63 | 11 | 83 | FALSE |\n",
       "| Raise 'Em Up | Keith Urban Featuring Eric Church | NULL | 56 | 65 | 13 | 84 | FALSE |\n",
       "| Diamond Rings And Old Barstools | Tim McGraw With Catherine Dunn | NULL | 75 | 82 | 10 | 85 | FALSE |\n",
       "| I Bet | Ciara | NULL | 43 | 71 | 13 | 86 | FALSE |\n",
       "| El Perdon (Forgiveness) | Nicky Jam &amp; Enrique Iglesias | NULL | 66 | 86 | 9 | 87 | FALSE |\n",
       "| Beautiful Now | Zedd Featuring Jon Bellion | NULL | 88 | 0 | 1 | 88 | TRUE |\n",
       "| How Many Times | DJ Khaled Featuring Chris Brown, Lil Wayne &amp; Big Sean | NULL | 74 | 74 | 2 | 89 | FALSE |\n",
       "| King Kunta | Kendrick Lamar | NULL | 58 | 83 | 10 | 90 | FALSE |\n",
       "| Crash And Burn | Thomas Rhett | NULL | 91 | 0 | 2 | 91 | FALSE |\n",
       "| Change My Mind | Meghan Linsey | NULL | 92 | 0 | 1 | 92 | TRUE |\n",
       "| She Don't Love You | Eric Paslay | NULL | 77 | 91 | 12 | 93 | FALSE |\n",
       "| Tonight Looks Good On You | Jason Aldean | NULL | 53 | 97 | 5 | 94 | FALSE |\n",
       "| Get Low | Dillon Francis &amp; DJ Snake | NULL | 61 | 96 | 8 | 95 | FALSE |\n",
       "| Crushin' It | Brad Paisley | NULL | 96 | 100 | 4 | 96 | FALSE |\n",
       "| Stressed Out | twenty one pilots | NULL | 87 | 0 | 2 | 97 | FALSE |\n",
       "| Renegades | X Ambassadors | NULL | 69 | 95 | 6 | 98 | FALSE |\n",
       "| Games | Luke Bryan | NULL | 92 | 98 | 5 | 99 | FALSE |\n",
       "| I Don't Get Tired (#IDGT) | Kevin Gates Featuring August Alsina | NULL | 90 | 99 | 5 | 100 | FALSE |\n",
       "\n",
       "\n",
       "$previousDate\n",
       ":   NULL\n",
       "$nextDate\n",
       ":   NULL\n",
       "\n",
       "\n"
      ],
      "text/plain": [
       "$name\n",
       "[1] \"hot-100\"\n",
       "\n",
       "$date\n",
       "[1] \"2015-06-06\"\n",
       "\n",
       "$year\n",
       "NULL\n",
       "\n",
       "$title\n",
       "[1] \"Billboard Hot 100\"\n",
       "\n",
       "$`_max_retries`\n",
       "[1] 5\n",
       "\n",
       "$`_timeout`\n",
       "[1] 25\n",
       "\n",
       "$entries\n",
       "\u001b[90m# A tibble: 100 × 8\u001b[39m\n",
       "   title     artist    image  peakPos   lastPos   weeks     rank      isNew    \n",
       "   \u001b[3m\u001b[90m<list>\u001b[39m\u001b[23m    \u001b[3m\u001b[90m<list>\u001b[39m\u001b[23m    \u001b[3m\u001b[90m<list>\u001b[39m\u001b[23m \u001b[3m\u001b[90m<list>\u001b[39m\u001b[23m    \u001b[3m\u001b[90m<list>\u001b[39m\u001b[23m    \u001b[3m\u001b[90m<list>\u001b[39m\u001b[23m    \u001b[3m\u001b[90m<list>\u001b[39m\u001b[23m    \u001b[3m\u001b[90m<list>\u001b[39m\u001b[23m   \n",
       "\u001b[90m 1\u001b[39m \u001b[90m<chr [1]>\u001b[39m \u001b[90m<chr [1]>\u001b[39m \u001b[90m<NULL>\u001b[39m \u001b[90m<int [1]>\u001b[39m \u001b[90m<int [1]>\u001b[39m \u001b[90m<int [1]>\u001b[39m \u001b[90m<int [1]>\u001b[39m \u001b[90m<lgl [1]>\u001b[39m\n",
       "\u001b[90m 2\u001b[39m \u001b[90m<chr [1]>\u001b[39m \u001b[90m<chr [1]>\u001b[39m \u001b[90m<NULL>\u001b[39m \u001b[90m<int [1]>\u001b[39m \u001b[90m<int [1]>\u001b[39m \u001b[90m<int [1]>\u001b[39m \u001b[90m<int [1]>\u001b[39m \u001b[90m<lgl [1]>\u001b[39m\n",
       "\u001b[90m 3\u001b[39m \u001b[90m<chr [1]>\u001b[39m \u001b[90m<chr [1]>\u001b[39m \u001b[90m<NULL>\u001b[39m \u001b[90m<int [1]>\u001b[39m \u001b[90m<int [1]>\u001b[39m \u001b[90m<int [1]>\u001b[39m \u001b[90m<int [1]>\u001b[39m \u001b[90m<lgl [1]>\u001b[39m\n",
       "\u001b[90m 4\u001b[39m \u001b[90m<chr [1]>\u001b[39m \u001b[90m<chr [1]>\u001b[39m \u001b[90m<NULL>\u001b[39m \u001b[90m<int [1]>\u001b[39m \u001b[90m<int [1]>\u001b[39m \u001b[90m<int [1]>\u001b[39m \u001b[90m<int [1]>\u001b[39m \u001b[90m<lgl [1]>\u001b[39m\n",
       "\u001b[90m 5\u001b[39m \u001b[90m<chr [1]>\u001b[39m \u001b[90m<chr [1]>\u001b[39m \u001b[90m<NULL>\u001b[39m \u001b[90m<int [1]>\u001b[39m \u001b[90m<int [1]>\u001b[39m \u001b[90m<int [1]>\u001b[39m \u001b[90m<int [1]>\u001b[39m \u001b[90m<lgl [1]>\u001b[39m\n",
       "\u001b[90m 6\u001b[39m \u001b[90m<chr [1]>\u001b[39m \u001b[90m<chr [1]>\u001b[39m \u001b[90m<NULL>\u001b[39m \u001b[90m<int [1]>\u001b[39m \u001b[90m<int [1]>\u001b[39m \u001b[90m<int [1]>\u001b[39m \u001b[90m<int [1]>\u001b[39m \u001b[90m<lgl [1]>\u001b[39m\n",
       "\u001b[90m 7\u001b[39m \u001b[90m<chr [1]>\u001b[39m \u001b[90m<chr [1]>\u001b[39m \u001b[90m<NULL>\u001b[39m \u001b[90m<int [1]>\u001b[39m \u001b[90m<int [1]>\u001b[39m \u001b[90m<int [1]>\u001b[39m \u001b[90m<int [1]>\u001b[39m \u001b[90m<lgl [1]>\u001b[39m\n",
       "\u001b[90m 8\u001b[39m \u001b[90m<chr [1]>\u001b[39m \u001b[90m<chr [1]>\u001b[39m \u001b[90m<NULL>\u001b[39m \u001b[90m<int [1]>\u001b[39m \u001b[90m<int [1]>\u001b[39m \u001b[90m<int [1]>\u001b[39m \u001b[90m<int [1]>\u001b[39m \u001b[90m<lgl [1]>\u001b[39m\n",
       "\u001b[90m 9\u001b[39m \u001b[90m<chr [1]>\u001b[39m \u001b[90m<chr [1]>\u001b[39m \u001b[90m<NULL>\u001b[39m \u001b[90m<int [1]>\u001b[39m \u001b[90m<int [1]>\u001b[39m \u001b[90m<int [1]>\u001b[39m \u001b[90m<int [1]>\u001b[39m \u001b[90m<lgl [1]>\u001b[39m\n",
       "\u001b[90m10\u001b[39m \u001b[90m<chr [1]>\u001b[39m \u001b[90m<chr [1]>\u001b[39m \u001b[90m<NULL>\u001b[39m \u001b[90m<int [1]>\u001b[39m \u001b[90m<int [1]>\u001b[39m \u001b[90m<int [1]>\u001b[39m \u001b[90m<int [1]>\u001b[39m \u001b[90m<lgl [1]>\u001b[39m\n",
       "\u001b[90m# ℹ 90 more rows\u001b[39m\n",
       "\n",
       "$previousDate\n",
       "NULL\n",
       "\n",
       "$nextDate\n",
       "NULL\n"
      ]
     },
     "metadata": {},
     "output_type": "display_data"
    }
   ],
   "source": [
    "get_chart(\"hot-100\", date = \"2015-06-02\")"
   ]
  }
 ],
 "metadata": {
  "kernelspec": {
   "display_name": "R",
   "language": "R",
   "name": "ir"
  },
  "language_info": {
   "codemirror_mode": "r",
   "file_extension": ".r",
   "mimetype": "text/x-r-source",
   "name": "R",
   "pygments_lexer": "r",
   "version": "4.3.1"
  }
 },
 "nbformat": 4,
 "nbformat_minor": 2
}
