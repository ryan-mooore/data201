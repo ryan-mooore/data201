{
 "cells": [
  {
   "cell_type": "markdown",
   "metadata": {},
   "source": [
    "Install spotifyr if not installed already"
   ]
  },
  {
   "cell_type": "code",
   "execution_count": null,
   "metadata": {
    "vscode": {
     "languageId": "r"
    }
   },
   "outputs": [
    {
     "name": "stderr",
     "output_type": "stream",
     "text": [
      "also installing the dependencies ‘snakecase’, ‘janitor’, ‘assertthat’\n",
      "\n",
      "\n"
     ]
    },
    {
     "name": "stdout",
     "output_type": "stream",
     "text": [
      "\n",
      "The downloaded binary packages are in\n",
      "\t/var/folders/dk/fbw09gbs3_q7rcjts5635j5r0000gn/T//RtmpzTLOoZ/downloaded_packages\n"
     ]
    }
   ],
   "source": [
    "install.packages(\"spotifyr\")"
   ]
  },
  {
   "cell_type": "markdown",
   "metadata": {},
   "source": [
    "Set Client ID and secret (DO NOT MAKE PUBLIC)"
   ]
  },
  {
   "cell_type": "code",
   "execution_count": 20,
   "metadata": {
    "vscode": {
     "languageId": "r"
    }
   },
   "outputs": [],
   "source": [
    "Sys.setenv(SPOTIFY_CLIENT_ID = \"4897f93fed274f22ae0ab93206c86b68\")\n",
    "Sys.setenv(SPOTIFY_CLIENT_SECRET = \"84f21d258b0b4d0a8e2ecf9f077e1204\")"
   ]
  },
  {
   "cell_type": "markdown",
   "metadata": {},
   "source": [
    "Get access token"
   ]
  },
  {
   "cell_type": "code",
   "execution_count": 2,
   "metadata": {
    "vscode": {
     "languageId": "r"
    }
   },
   "outputs": [
    {
     "name": "stderr",
     "output_type": "stream",
     "text": [
      "── \u001b[1mAttaching core tidyverse packages\u001b[22m ──────────────────────── tidyverse 2.0.0 ──\n",
      "\u001b[32m✔\u001b[39m \u001b[34mdplyr    \u001b[39m 1.1.3     \u001b[32m✔\u001b[39m \u001b[34mreadr    \u001b[39m 2.1.2\n",
      "\u001b[32m✔\u001b[39m \u001b[34mforcats  \u001b[39m 1.0.0     \u001b[32m✔\u001b[39m \u001b[34mstringr  \u001b[39m 1.5.0\n",
      "\u001b[32m✔\u001b[39m \u001b[34mggplot2  \u001b[39m 3.4.1     \u001b[32m✔\u001b[39m \u001b[34mtibble   \u001b[39m 3.2.1\n",
      "\u001b[32m✔\u001b[39m \u001b[34mlubridate\u001b[39m 1.9.2     \u001b[32m✔\u001b[39m \u001b[34mtidyr    \u001b[39m 1.3.0\n",
      "\u001b[32m✔\u001b[39m \u001b[34mpurrr    \u001b[39m 1.0.2     \n",
      "── \u001b[1mConflicts\u001b[22m ────────────────────────────────────────── tidyverse_conflicts() ──\n",
      "\u001b[31m✖\u001b[39m \u001b[34mdplyr\u001b[39m::\u001b[32mfilter()\u001b[39m masks \u001b[34mstats\u001b[39m::filter()\n",
      "\u001b[31m✖\u001b[39m \u001b[34mdplyr\u001b[39m::\u001b[32mlag()\u001b[39m    masks \u001b[34mstats\u001b[39m::lag()\n",
      "\u001b[36mℹ\u001b[39m Use the conflicted package (\u001b[3m\u001b[34m<http://conflicted.r-lib.org/>\u001b[39m\u001b[23m) to force all conflicts to become errors\n",
      "Request failed [400]. Retrying in 2 seconds...\n",
      "\n",
      "Request failed [400]. Retrying in 1 seconds...\n",
      "\n"
     ]
    },
    {
     "ename": "ERROR",
     "evalue": "Error in get_spotify_access_token(): \n",
     "output_type": "error",
     "traceback": [
      "Error in get_spotify_access_token(): \nTraceback:\n",
      "1. get_spotify_access_token()",
      "2. stop(str_glue(\"Could not authenticate with given Spotify credentials:\\n\\t{post$error_description}\"))"
     ]
    }
   ],
   "source": [
    "\n",
    "library(spotifyr)\n",
    "library(tidyverse)\n",
    "access_token <- get_spotify_access_token()"
   ]
  },
  {
   "cell_type": "code",
   "execution_count": null,
   "metadata": {
    "vscode": {
     "languageId": "r"
    }
   },
   "outputs": [],
   "source": [
    "get_spotify_album <- function(album_name) {\n",
    "    album <- album_name |> \n",
    "        search_spotify(type=c(\"album\")) %>%\n",
    "        .[1, ] %>%\n",
    "        .$id |>\n",
    "        get_album()\n",
    "\n",
    "    album$tracks <- album$tracks$items |>\n",
    "        mutate(duration_s = round(duration_ms / 1000)) |>\n",
    "        select(name, track_number, disc_number, duration_s, explicit, id)\n",
    "\n",
    "    album$artists <- album$artists |>\n",
    "        select(name, id)\n",
    "\n",
    "    album[c(\"artists\", \"id\", \"label\", \"name\", \"popularity\", \"release_date\", \"tracks\")]\n",
    "\n",
    "}\n",
    "\n",
    "get_spotify_song <- function(song_name) {\n",
    "    song <- song_name |>\n",
    "        search_spotify(type = c(\"track\")) %>%\n",
    "        .[1, ] %>%\n",
    "        .$id |>\n",
    "        get_track()\n",
    "\n",
    "    song$artists <- song$artists |>\n",
    "        select(name, id)\n",
    "    \n",
    "    song$duration_s <- round(song$duration_ms / 1000)\n",
    "\n",
    "    song$features <- get_track_audio_features(song$id) |>\n",
    "        select(-id, -uri, -track_href, -analysis_url, -duration_ms, -type)\n",
    "\n",
    "    # todo: song analysis\n",
    "\n",
    "    song[c(\"artists\", \"id\", \"name\",  \"duration_s\", \"explicit\", \"popularity\", \"track_number\", \"features\")]\n",
    "}\n",
    "\n",
    "get_spotify_artist <- function(artist_name) {\n",
    "    artist <- artist_name |>\n",
    "        search_spotify(type = c(\"artist\")) %>%\n",
    "        .[1, ] %>%\n",
    "        .$id |>\n",
    "        get_artist()\n",
    "\n",
    "    artist$followers <- artist$followers$total\n",
    "\n",
    "    artist[c(\"followers\", \"genres\", \"id\", \"name\", \"popularity\")]\n",
    "}"
   ]
  },
  {
   "cell_type": "code",
   "execution_count": null,
   "metadata": {
    "vscode": {
     "languageId": "r"
    }
   },
   "outputs": [],
   "source": [
    "# Examples \n",
    "get_spotify_album(\"DAMN.\")\n",
    "\n",
    "#get_spotify_song(\"Pacific State\")\n",
    "\n",
    "#get_spotify_artist(\"St Germain\")"
   ]
  },
  {
   "cell_type": "code",
   "execution_count": null,
   "metadata": {},
   "outputs": [],
   "source": []
  }
 ],
 "metadata": {
  "kernelspec": {
   "display_name": "R",
   "language": "R",
   "name": "ir"
  },
  "language_info": {
   "codemirror_mode": "r",
   "file_extension": ".r",
   "mimetype": "text/x-r-source",
   "name": "R",
   "pygments_lexer": "r",
   "version": "3.6.3"
  }
 },
 "nbformat": 4,
 "nbformat_minor": 4
}
