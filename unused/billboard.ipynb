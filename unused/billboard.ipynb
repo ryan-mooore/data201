{
 "cells": [
  {
   "cell_type": "markdown",
   "metadata": {},
   "source": [
    "Install reticulate if not installed"
   ]
  },
  {
   "cell_type": "code",
   "execution_count": 8,
   "metadata": {
    "vscode": {
     "languageId": "r"
    }
   },
   "outputs": [],
   "source": [
    "install.packages(\"reticulate\")"
   ]
  },
  {
   "cell_type": "markdown",
   "metadata": {},
   "source": [
    "Install Python through reticulate if not installed"
   ]
  },
  {
   "cell_type": "code",
   "execution_count": null,
   "metadata": {
    "vscode": {
     "languageId": "r"
    }
   },
   "outputs": [],
   "source": [
    "library(reticulate)\n",
    "\n",
    "install_python(version = '3.11')\n",
    "use_virtualenv(\"r-reticulate\")"
   ]
  },
  {
   "cell_type": "markdown",
   "metadata": {},
   "source": [
    "Install billboard.py"
   ]
  },
  {
   "cell_type": "code",
   "execution_count": 9,
   "metadata": {
    "vscode": {
     "languageId": "r"
    }
   },
   "outputs": [
    {
     "name": "stdout",
     "output_type": "stream",
     "text": [
      "Using virtual environment '/Users/ryan/.virtualenvs/r-reticulate' ...\n"
     ]
    },
    {
     "name": "stderr",
     "output_type": "stream",
     "text": [
      "+ /Users/ryan/.virtualenvs/r-reticulate/bin/python -m pip install --upgrade --no-user billboard.py\n",
      "\n"
     ]
    }
   ],
   "source": [
    "library(reticulate)\n",
    "\n",
    "py_install(\"billboard.py\")"
   ]
  },
  {
   "cell_type": "markdown",
   "metadata": {},
   "source": [
    "wrap python API in R function to get a billboard top chart"
   ]
  },
  {
   "cell_type": "code",
   "execution_count": 15,
   "metadata": {
    "vscode": {
     "languageId": "r"
    }
   },
   "outputs": [],
   "source": [
    "library(reticulate)\n",
    "library(tidyverse)\n",
    "\n",
    "billboard <- import(\"billboard\")\n",
    "\n",
    "get_billboard_chart <- function(name, date) {\n",
    "    # call python function and convert from object to dict with __dict__\n",
    "    chart <- billboard$ChartData(name = name, date = date)$`__dict__`\n",
    "    chart$entries <- chart$entries %>%\n",
    "        # convert each entry from object to dict\n",
    "        lapply(function(entry) entry$`__dict__`) %>%\n",
    "        # bind rows into a matrix\n",
    "        do.call(rbind, .) %>%\n",
    "        # convert to df\n",
    "        as.tibble()\n",
    "    \n",
    "    chart\n",
    "}\n",
    "\n",
    "# TODO = add support for yearly charts"
   ]
  },
  {
   "cell_type": "markdown",
   "metadata": {},
   "source": [
    "Now, to define some higher-level functions"
   ]
  },
  {
   "cell_type": "code",
   "execution_count": 16,
   "metadata": {
    "vscode": {
     "languageId": "r"
    }
   },
   "outputs": [],
   "source": [
    "get_billboard_hot_100 <- function(date) get_billboard_chart(\"hot-100\", date)\n",
    "get_billboard_pop <- function(date) get_billboard_chart(\"pop-songs\", date)"
   ]
  },
  {
   "cell_type": "markdown",
   "metadata": {},
   "source": [
    "Example"
   ]
  },
  {
   "cell_type": "code",
   "execution_count": 17,
   "metadata": {
    "vscode": {
     "languageId": "r"
    }
   },
   "outputs": [
    {
     "data": {
      "text/html": [
       "<dl>\n",
       "\t<dt>$name</dt>\n",
       "\t\t<dd>'hot-100'</dd>\n",
       "\t<dt>$date</dt>\n",
       "\t\t<dd>'2019-11-16'</dd>\n",
       "\t<dt>$year</dt>\n",
       "\t\t<dd>NULL</dd>\n",
       "\t<dt>$title</dt>\n",
       "\t\t<dd>'Billboard Hot 100'</dd>\n",
       "\t<dt>$`_max_retries`</dt>\n",
       "\t\t<dd>5</dd>\n",
       "\t<dt>$`_timeout`</dt>\n",
       "\t\t<dd>25</dd>\n",
       "\t<dt>$entries</dt>\n",
       "\t\t<dd><table class=\"dataframe\">\n",
       "<caption>A tibble: 100 × 8</caption>\n",
       "<thead>\n",
       "\t<tr><th scope=col>title</th><th scope=col>artist</th><th scope=col>image</th><th scope=col>peakPos</th><th scope=col>lastPos</th><th scope=col>weeks</th><th scope=col>rank</th><th scope=col>isNew</th></tr>\n",
       "\t<tr><th scope=col>&lt;list&gt;</th><th scope=col>&lt;list&gt;</th><th scope=col>&lt;list&gt;</th><th scope=col>&lt;list&gt;</th><th scope=col>&lt;list&gt;</th><th scope=col>&lt;list&gt;</th><th scope=col>&lt;list&gt;</th><th scope=col>&lt;list&gt;</th></tr>\n",
       "</thead>\n",
       "<tbody>\n",
       "\t<tr><td>Someone You Loved</td><td>Lewis Capaldi</td><td>NULL</td><td>1</td><td>2</td><td>26</td><td>1</td><td>FALSE</td></tr>\n",
       "\t<tr><td>Circles</td><td>Post Malone</td><td>NULL</td><td>2</td><td>3</td><td>10</td><td>2</td><td>FALSE</td></tr>\n",
       "\t<tr><td>Senorita</td><td>Shawn Mendes &amp; Camila Cabello</td><td>NULL</td><td>1</td><td>4</td><td>20</td><td>3</td><td>FALSE</td></tr>\n",
       "\t<tr><td>Truth Hurts</td><td>Lizzo</td><td>NULL</td><td>1</td><td>5</td><td>27</td><td>4</td><td>FALSE</td></tr>\n",
       "\t<tr><td>Lose You To Love Me</td><td>Selena Gomez</td><td>NULL</td><td>1</td><td>1</td><td>3</td><td>5</td><td>FALSE</td></tr>\n",
       "\t<tr><td>Good As Hell</td><td>Lizzo</td><td>NULL</td><td>6</td><td>6</td><td>11</td><td>6</td><td>FALSE</td></tr>\n",
       "\t<tr><td>No Guidance</td><td>Chris Brown Featuring Drake</td><td>NULL</td><td>5</td><td>8</td><td>22</td><td>7</td><td>FALSE</td></tr>\n",
       "\t<tr><td>Panini</td><td>Lil Nas X</td><td>NULL</td><td>5</td><td>9</td><td>20</td><td>8</td><td>FALSE</td></tr>\n",
       "\t<tr><td>Memories</td><td>Maroon 5</td><td>NULL</td><td>9</td><td>11</td><td>7</td><td>9</td><td>FALSE</td></tr>\n",
       "\t<tr><td>10,000 Hours</td><td>Dan + Shay &amp; Justin Bieber</td><td>NULL</td><td>4</td><td>12</td><td>5</td><td>10</td><td>FALSE</td></tr>\n",
       "\t<tr><td>Hot</td><td>Young Thug Featuring Gunna</td><td>NULL</td><td>11</td><td>35</td><td>12</td><td>11</td><td>FALSE</td></tr>\n",
       "\t<tr><td>Bad Guy</td><td>Billie Eilish</td><td>NULL</td><td>1</td><td>10</td><td>32</td><td>12</td><td>FALSE</td></tr>\n",
       "\t<tr><td>Ran$om</td><td>Lil Tecca</td><td>NULL</td><td>4</td><td>13</td><td>23</td><td>13</td><td>FALSE</td></tr>\n",
       "\t<tr><td>HIGHEST IN THE ROOM</td><td>Travis Scott</td><td>NULL</td><td>1</td><td>14</td><td>5</td><td>14</td><td>FALSE</td></tr>\n",
       "\t<tr><td>Beautiful People</td><td>Ed Sheeran Featuring Khalid</td><td>NULL</td><td>13</td><td>15</td><td>19</td><td>15</td><td>FALSE</td></tr>\n",
       "\t<tr><td>Trampoline</td><td>SHAED</td><td>NULL</td><td>16</td><td>16</td><td>23</td><td>16</td><td>FALSE</td></tr>\n",
       "\t<tr><td>Bandit</td><td>Juice WRLD &amp; YoungBoy Never Broke Again</td><td>NULL</td><td>10</td><td>18</td><td>5</td><td>17</td><td>FALSE</td></tr>\n",
       "\t<tr><td>Old Town Road</td><td>Lil Nas X Featuring Billy Ray Cyrus</td><td>NULL</td><td>1</td><td>21</td><td>36</td><td>18</td><td>FALSE</td></tr>\n",
       "\t<tr><td>Only Human</td><td>Jonas Brothers</td><td>NULL</td><td>19</td><td>22</td><td>21</td><td>19</td><td>FALSE</td></tr>\n",
       "\t<tr><td>I Don't Care</td><td>Ed Sheeran &amp; Justin Bieber</td><td>NULL</td><td>2</td><td>20</td><td>26</td><td>20</td><td>FALSE</td></tr>\n",
       "\t<tr><td>Goodbyes</td><td>Post Malone Featuring Young Thug</td><td>NULL</td><td>3</td><td>24</td><td>18</td><td>21</td><td>FALSE</td></tr>\n",
       "\t<tr><td>On Chill</td><td>Wale Featuring Jeremih</td><td>NULL</td><td>22</td><td>29</td><td>13</td><td>22</td><td>FALSE</td></tr>\n",
       "\t<tr><td>Dance Monkey</td><td>Tones And I</td><td>NULL</td><td>23</td><td>41</td><td>5</td><td>23</td><td>FALSE</td></tr>\n",
       "\t<tr><td>Talk</td><td>Khalid</td><td>NULL</td><td>3</td><td>25</td><td>39</td><td>24</td><td>FALSE</td></tr>\n",
       "\t<tr><td>Sucker</td><td>Jonas Brothers</td><td>NULL</td><td>1</td><td>26</td><td>36</td><td>25</td><td>FALSE</td></tr>\n",
       "\t<tr><td>Ballin'</td><td>Mustard &amp; Roddy Ricch</td><td>NULL</td><td>26</td><td>31</td><td>16</td><td>26</td><td>FALSE</td></tr>\n",
       "\t<tr><td>How Do You Sleep?</td><td>Sam Smith</td><td>NULL</td><td>24</td><td>30</td><td>16</td><td>27</td><td>FALSE</td></tr>\n",
       "\t<tr><td>One Man Band</td><td>Old Dominion</td><td>NULL</td><td>28</td><td>28</td><td>11</td><td>28</td><td>FALSE</td></tr>\n",
       "\t<tr><td>Playing Games</td><td>Summer Walker</td><td>NULL</td><td>16</td><td>34</td><td>10</td><td>29</td><td>FALSE</td></tr>\n",
       "\t<tr><td>Don't Start Now</td><td>Dua Lipa</td><td>NULL</td><td>30</td><td>0</td><td>1</td><td>30</td><td>TRUE</td></tr>\n",
       "\t<tr><td>⋮</td><td>⋮</td><td>⋮</td><td>⋮</td><td>⋮</td><td>⋮</td><td>⋮</td><td>⋮</td></tr>\n",
       "\t<tr><td>We Were</td><td>Keith Urban</td><td>NULL</td><td>71</td><td>72</td><td>10</td><td>71</td><td>FALSE</td></tr>\n",
       "\t<tr><td>Kinfolks</td><td>Sam Hunt</td><td>NULL</td><td>64</td><td>87</td><td>4</td><td>72</td><td>FALSE</td></tr>\n",
       "\t<tr><td>Tip Of My Tongue</td><td>Kenny Chesney</td><td>NULL</td><td>73</td><td>82</td><td>17</td><td>73</td><td>FALSE</td></tr>\n",
       "\t<tr><td>Self Control</td><td>YoungBoy Never Broke Again</td><td>NULL</td><td>50</td><td>76</td><td>9</td><td>74</td><td>FALSE</td></tr>\n",
       "\t<tr><td>Heartache Medication</td><td>Jon Pardi</td><td>NULL</td><td>75</td><td>85</td><td>6</td><td>75</td><td>FALSE</td></tr>\n",
       "\t<tr><td>I Don't Know About You</td><td>Chris Lane</td><td>NULL</td><td>39</td><td>79</td><td>18</td><td>76</td><td>FALSE</td></tr>\n",
       "\t<tr><td>What If I Never Get Over You</td><td>Lady Antebellum</td><td>NULL</td><td>77</td><td>94</td><td>11</td><td>77</td><td>FALSE</td></tr>\n",
       "\t<tr><td>Nice To Meet Ya</td><td>Niall Horan</td><td>NULL</td><td>78</td><td>86</td><td>4</td><td>78</td><td>FALSE</td></tr>\n",
       "\t<tr><td>Love Me More</td><td>Trippie Redd</td><td>NULL</td><td>79</td><td>0</td><td>1</td><td>79</td><td>TRUE</td></tr>\n",
       "\t<tr><td>Cash Shit</td><td>Megan Thee Stallion Featuring DaBaby</td><td>NULL</td><td>36</td><td>80</td><td>20</td><td>80</td><td>FALSE</td></tr>\n",
       "\t<tr><td>F.N</td><td>Lil Tjay</td><td>NULL</td><td>56</td><td>77</td><td>13</td><td>81</td><td>FALSE</td></tr>\n",
       "\t<tr><td>Start Wit Me</td><td>Roddy Ricch &amp; Gunna</td><td>NULL</td><td>75</td><td>75</td><td>2</td><td>82</td><td>FALSE</td></tr>\n",
       "\t<tr><td>Hot Now</td><td>YoungBoy Never Broke Again</td><td>NULL</td><td>66</td><td>91</td><td>4</td><td>83</td><td>FALSE</td></tr>\n",
       "\t<tr><td>Closed On Sunday</td><td>Kanye West</td><td>NULL</td><td>17</td><td>17</td><td>2</td><td>84</td><td>FALSE</td></tr>\n",
       "\t<tr><td>In My Room</td><td>Frank Ocean</td><td>NULL</td><td>85</td><td>0</td><td>1</td><td>85</td><td>TRUE</td></tr>\n",
       "\t<tr><td>Love You Too Late</td><td>Cole Swindell</td><td>NULL</td><td>49</td><td>74</td><td>14</td><td>86</td><td>FALSE</td></tr>\n",
       "\t<tr><td>Stuck In A Dream</td><td>Lil Mosey x Gunna</td><td>NULL</td><td>87</td><td>0</td><td>2</td><td>87</td><td>FALSE</td></tr>\n",
       "\t<tr><td>Ridin' Roads</td><td>Dustin Lynch</td><td>NULL</td><td>88</td><td>0</td><td>1</td><td>88</td><td>TRUE</td></tr>\n",
       "\t<tr><td>All The Good Girls Go To Hell</td><td>Billie Eilish</td><td>NULL</td><td>46</td><td>0</td><td>3</td><td>89</td><td>FALSE</td></tr>\n",
       "\t<tr><td>For My Daughter</td><td>Kane Brown</td><td>NULL</td><td>90</td><td>0</td><td>1</td><td>90</td><td>TRUE</td></tr>\n",
       "\t<tr><td>Easy</td><td>DaniLeigh Featuring Chris Brown</td><td>NULL</td><td>91</td><td>0</td><td>1</td><td>91</td><td>TRUE</td></tr>\n",
       "\t<tr><td>Selah</td><td>Kanye West</td><td>NULL</td><td>19</td><td>19</td><td>2</td><td>92</td><td>FALSE</td></tr>\n",
       "\t<tr><td>Living</td><td>Dierks Bentley</td><td>NULL</td><td>51</td><td>96</td><td>15</td><td>93</td><td>FALSE</td></tr>\n",
       "\t<tr><td>China</td><td>Anuel AA, Daddy Yankee, Karol G, Ozuna &amp; J Balvin</td><td>NULL</td><td>43</td><td>84</td><td>16</td><td>94</td><td>FALSE</td></tr>\n",
       "\t<tr><td>Heartless</td><td>Diplo Presents Thomas Wesley Featuring Morgan Wallen</td><td>NULL</td><td>78</td><td>0</td><td>2</td><td>95</td><td>FALSE</td></tr>\n",
       "\t<tr><td>On God</td><td>Kanye West</td><td>NULL</td><td>23</td><td>23</td><td>2</td><td>96</td><td>FALSE</td></tr>\n",
       "\t<tr><td>Come Thru</td><td>Summer Walker &amp; Usher</td><td>NULL</td><td>42</td><td>89</td><td>5</td><td>97</td><td>FALSE</td></tr>\n",
       "\t<tr><td>Higher Love</td><td>Kygo X Whitney Houston</td><td>NULL</td><td>63</td><td>99</td><td>9</td><td>98</td><td>FALSE</td></tr>\n",
       "\t<tr><td>Somebody</td><td>Internet Money, Lil Tecca &amp; A Boogie Wit da Hoodie</td><td>NULL</td><td>97</td><td>100</td><td>3</td><td>99</td><td>FALSE</td></tr>\n",
       "\t<tr><td>Big Boy Diamonds</td><td>Gucci Mane Featuring Kodak Black &amp; London On Da Track</td><td>NULL</td><td>100</td><td>0</td><td>1</td><td>100</td><td>TRUE</td></tr>\n",
       "</tbody>\n",
       "</table>\n",
       "</dd>\n",
       "\t<dt>$previousDate</dt>\n",
       "\t\t<dd>NULL</dd>\n",
       "\t<dt>$nextDate</dt>\n",
       "\t\t<dd>NULL</dd>\n",
       "</dl>\n"
      ],
      "text/latex": [
       "\\begin{description}\n",
       "\\item[\\$name] 'hot-100'\n",
       "\\item[\\$date] '2019-11-16'\n",
       "\\item[\\$year] NULL\n",
       "\\item[\\$title] 'Billboard Hot 100'\n",
       "\\item[\\$`\\_max\\_retries`] 5\n",
       "\\item[\\$`\\_timeout`] 25\n",
       "\\item[\\$entries] A tibble: 100 × 8\n",
       "\\begin{tabular}{llllllll}\n",
       " title & artist & image & peakPos & lastPos & weeks & rank & isNew\\\\\n",
       " <list> & <list> & <list> & <list> & <list> & <list> & <list> & <list>\\\\\n",
       "\\hline\n",
       "\t Someone You Loved & Lewis Capaldi & NULL & 1 & 2 & 26 & 1 & FALSE\\\\\n",
       "\t Circles & Post Malone & NULL & 2 & 3 & 10 & 2 & FALSE\\\\\n",
       "\t Senorita & Shawn Mendes \\& Camila Cabello & NULL & 1 & 4 & 20 & 3 & FALSE\\\\\n",
       "\t Truth Hurts & Lizzo & NULL & 1 & 5 & 27 & 4 & FALSE\\\\\n",
       "\t Lose You To Love Me & Selena Gomez & NULL & 1 & 1 & 3 & 5 & FALSE\\\\\n",
       "\t Good As Hell & Lizzo & NULL & 6 & 6 & 11 & 6 & FALSE\\\\\n",
       "\t No Guidance & Chris Brown Featuring Drake & NULL & 5 & 8 & 22 & 7 & FALSE\\\\\n",
       "\t Panini & Lil Nas X & NULL & 5 & 9 & 20 & 8 & FALSE\\\\\n",
       "\t Memories & Maroon 5 & NULL & 9 & 11 & 7 & 9 & FALSE\\\\\n",
       "\t 10,000 Hours & Dan + Shay \\& Justin Bieber & NULL & 4 & 12 & 5 & 10 & FALSE\\\\\n",
       "\t Hot & Young Thug Featuring Gunna & NULL & 11 & 35 & 12 & 11 & FALSE\\\\\n",
       "\t Bad Guy & Billie Eilish & NULL & 1 & 10 & 32 & 12 & FALSE\\\\\n",
       "\t Ran\\$om & Lil Tecca & NULL & 4 & 13 & 23 & 13 & FALSE\\\\\n",
       "\t HIGHEST IN THE ROOM & Travis Scott & NULL & 1 & 14 & 5 & 14 & FALSE\\\\\n",
       "\t Beautiful People & Ed Sheeran Featuring Khalid & NULL & 13 & 15 & 19 & 15 & FALSE\\\\\n",
       "\t Trampoline & SHAED & NULL & 16 & 16 & 23 & 16 & FALSE\\\\\n",
       "\t Bandit & Juice WRLD \\& YoungBoy Never Broke Again & NULL & 10 & 18 & 5 & 17 & FALSE\\\\\n",
       "\t Old Town Road & Lil Nas X Featuring Billy Ray Cyrus & NULL & 1 & 21 & 36 & 18 & FALSE\\\\\n",
       "\t Only Human & Jonas Brothers & NULL & 19 & 22 & 21 & 19 & FALSE\\\\\n",
       "\t I Don't Care & Ed Sheeran \\& Justin Bieber & NULL & 2 & 20 & 26 & 20 & FALSE\\\\\n",
       "\t Goodbyes & Post Malone Featuring Young Thug & NULL & 3 & 24 & 18 & 21 & FALSE\\\\\n",
       "\t On Chill & Wale Featuring Jeremih & NULL & 22 & 29 & 13 & 22 & FALSE\\\\\n",
       "\t Dance Monkey & Tones And I & NULL & 23 & 41 & 5 & 23 & FALSE\\\\\n",
       "\t Talk & Khalid & NULL & 3 & 25 & 39 & 24 & FALSE\\\\\n",
       "\t Sucker & Jonas Brothers & NULL & 1 & 26 & 36 & 25 & FALSE\\\\\n",
       "\t Ballin' & Mustard \\& Roddy Ricch & NULL & 26 & 31 & 16 & 26 & FALSE\\\\\n",
       "\t How Do You Sleep? & Sam Smith & NULL & 24 & 30 & 16 & 27 & FALSE\\\\\n",
       "\t One Man Band & Old Dominion & NULL & 28 & 28 & 11 & 28 & FALSE\\\\\n",
       "\t Playing Games & Summer Walker & NULL & 16 & 34 & 10 & 29 & FALSE\\\\\n",
       "\t Don't Start Now & Dua Lipa & NULL & 30 & 0 & 1 & 30 & TRUE\\\\\n",
       "\t ⋮ & ⋮ & ⋮ & ⋮ & ⋮ & ⋮ & ⋮ & ⋮\\\\\n",
       "\t We Were & Keith Urban & NULL & 71 & 72 & 10 & 71 & FALSE\\\\\n",
       "\t Kinfolks & Sam Hunt & NULL & 64 & 87 & 4 & 72 & FALSE\\\\\n",
       "\t Tip Of My Tongue & Kenny Chesney & NULL & 73 & 82 & 17 & 73 & FALSE\\\\\n",
       "\t Self Control & YoungBoy Never Broke Again & NULL & 50 & 76 & 9 & 74 & FALSE\\\\\n",
       "\t Heartache Medication & Jon Pardi & NULL & 75 & 85 & 6 & 75 & FALSE\\\\\n",
       "\t I Don't Know About You & Chris Lane & NULL & 39 & 79 & 18 & 76 & FALSE\\\\\n",
       "\t What If I Never Get Over You & Lady Antebellum & NULL & 77 & 94 & 11 & 77 & FALSE\\\\\n",
       "\t Nice To Meet Ya & Niall Horan & NULL & 78 & 86 & 4 & 78 & FALSE\\\\\n",
       "\t Love Me More & Trippie Redd & NULL & 79 & 0 & 1 & 79 & TRUE\\\\\n",
       "\t Cash Shit & Megan Thee Stallion Featuring DaBaby & NULL & 36 & 80 & 20 & 80 & FALSE\\\\\n",
       "\t F.N & Lil Tjay & NULL & 56 & 77 & 13 & 81 & FALSE\\\\\n",
       "\t Start Wit Me & Roddy Ricch \\& Gunna & NULL & 75 & 75 & 2 & 82 & FALSE\\\\\n",
       "\t Hot Now & YoungBoy Never Broke Again & NULL & 66 & 91 & 4 & 83 & FALSE\\\\\n",
       "\t Closed On Sunday & Kanye West & NULL & 17 & 17 & 2 & 84 & FALSE\\\\\n",
       "\t In My Room & Frank Ocean & NULL & 85 & 0 & 1 & 85 & TRUE\\\\\n",
       "\t Love You Too Late & Cole Swindell & NULL & 49 & 74 & 14 & 86 & FALSE\\\\\n",
       "\t Stuck In A Dream & Lil Mosey x Gunna & NULL & 87 & 0 & 2 & 87 & FALSE\\\\\n",
       "\t Ridin' Roads & Dustin Lynch & NULL & 88 & 0 & 1 & 88 & TRUE\\\\\n",
       "\t All The Good Girls Go To Hell & Billie Eilish & NULL & 46 & 0 & 3 & 89 & FALSE\\\\\n",
       "\t For My Daughter & Kane Brown & NULL & 90 & 0 & 1 & 90 & TRUE\\\\\n",
       "\t Easy & DaniLeigh Featuring Chris Brown & NULL & 91 & 0 & 1 & 91 & TRUE\\\\\n",
       "\t Selah & Kanye West & NULL & 19 & 19 & 2 & 92 & FALSE\\\\\n",
       "\t Living & Dierks Bentley & NULL & 51 & 96 & 15 & 93 & FALSE\\\\\n",
       "\t China & Anuel AA, Daddy Yankee, Karol G, Ozuna \\& J Balvin & NULL & 43 & 84 & 16 & 94 & FALSE\\\\\n",
       "\t Heartless & Diplo Presents Thomas Wesley Featuring Morgan Wallen & NULL & 78 & 0 & 2 & 95 & FALSE\\\\\n",
       "\t On God & Kanye West & NULL & 23 & 23 & 2 & 96 & FALSE\\\\\n",
       "\t Come Thru & Summer Walker \\& Usher & NULL & 42 & 89 & 5 & 97 & FALSE\\\\\n",
       "\t Higher Love & Kygo X Whitney Houston & NULL & 63 & 99 & 9 & 98 & FALSE\\\\\n",
       "\t Somebody & Internet Money, Lil Tecca \\& A Boogie Wit da Hoodie & NULL & 97 & 100 & 3 & 99 & FALSE\\\\\n",
       "\t Big Boy Diamonds & Gucci Mane Featuring Kodak Black \\& London On Da Track & NULL & 100 & 0 & 1 & 100 & TRUE\\\\\n",
       "\\end{tabular}\n",
       "\n",
       "\\item[\\$previousDate] NULL\n",
       "\\item[\\$nextDate] NULL\n",
       "\\end{description}\n"
      ],
      "text/markdown": [
       "$name\n",
       ":   'hot-100'\n",
       "$date\n",
       ":   '2019-11-16'\n",
       "$year\n",
       ":   NULL\n",
       "$title\n",
       ":   'Billboard Hot 100'\n",
       "$`_max_retries`\n",
       ":   5\n",
       "$`_timeout`\n",
       ":   25\n",
       "$entries\n",
       ":   \n",
       "A tibble: 100 × 8\n",
       "\n",
       "| title &lt;list&gt; | artist &lt;list&gt; | image &lt;list&gt; | peakPos &lt;list&gt; | lastPos &lt;list&gt; | weeks &lt;list&gt; | rank &lt;list&gt; | isNew &lt;list&gt; |\n",
       "|---|---|---|---|---|---|---|---|\n",
       "| Someone You Loved | Lewis Capaldi | NULL | 1 | 2 | 26 | 1 | FALSE |\n",
       "| Circles | Post Malone | NULL | 2 | 3 | 10 | 2 | FALSE |\n",
       "| Senorita | Shawn Mendes &amp; Camila Cabello | NULL | 1 | 4 | 20 | 3 | FALSE |\n",
       "| Truth Hurts | Lizzo | NULL | 1 | 5 | 27 | 4 | FALSE |\n",
       "| Lose You To Love Me | Selena Gomez | NULL | 1 | 1 | 3 | 5 | FALSE |\n",
       "| Good As Hell | Lizzo | NULL | 6 | 6 | 11 | 6 | FALSE |\n",
       "| No Guidance | Chris Brown Featuring Drake | NULL | 5 | 8 | 22 | 7 | FALSE |\n",
       "| Panini | Lil Nas X | NULL | 5 | 9 | 20 | 8 | FALSE |\n",
       "| Memories | Maroon 5 | NULL | 9 | 11 | 7 | 9 | FALSE |\n",
       "| 10,000 Hours | Dan + Shay &amp; Justin Bieber | NULL | 4 | 12 | 5 | 10 | FALSE |\n",
       "| Hot | Young Thug Featuring Gunna | NULL | 11 | 35 | 12 | 11 | FALSE |\n",
       "| Bad Guy | Billie Eilish | NULL | 1 | 10 | 32 | 12 | FALSE |\n",
       "| Ran$om | Lil Tecca | NULL | 4 | 13 | 23 | 13 | FALSE |\n",
       "| HIGHEST IN THE ROOM | Travis Scott | NULL | 1 | 14 | 5 | 14 | FALSE |\n",
       "| Beautiful People | Ed Sheeran Featuring Khalid | NULL | 13 | 15 | 19 | 15 | FALSE |\n",
       "| Trampoline | SHAED | NULL | 16 | 16 | 23 | 16 | FALSE |\n",
       "| Bandit | Juice WRLD &amp; YoungBoy Never Broke Again | NULL | 10 | 18 | 5 | 17 | FALSE |\n",
       "| Old Town Road | Lil Nas X Featuring Billy Ray Cyrus | NULL | 1 | 21 | 36 | 18 | FALSE |\n",
       "| Only Human | Jonas Brothers | NULL | 19 | 22 | 21 | 19 | FALSE |\n",
       "| I Don't Care | Ed Sheeran &amp; Justin Bieber | NULL | 2 | 20 | 26 | 20 | FALSE |\n",
       "| Goodbyes | Post Malone Featuring Young Thug | NULL | 3 | 24 | 18 | 21 | FALSE |\n",
       "| On Chill | Wale Featuring Jeremih | NULL | 22 | 29 | 13 | 22 | FALSE |\n",
       "| Dance Monkey | Tones And I | NULL | 23 | 41 | 5 | 23 | FALSE |\n",
       "| Talk | Khalid | NULL | 3 | 25 | 39 | 24 | FALSE |\n",
       "| Sucker | Jonas Brothers | NULL | 1 | 26 | 36 | 25 | FALSE |\n",
       "| Ballin' | Mustard &amp; Roddy Ricch | NULL | 26 | 31 | 16 | 26 | FALSE |\n",
       "| How Do You Sleep? | Sam Smith | NULL | 24 | 30 | 16 | 27 | FALSE |\n",
       "| One Man Band | Old Dominion | NULL | 28 | 28 | 11 | 28 | FALSE |\n",
       "| Playing Games | Summer Walker | NULL | 16 | 34 | 10 | 29 | FALSE |\n",
       "| Don't Start Now | Dua Lipa | NULL | 30 | 0 | 1 | 30 | TRUE |\n",
       "| ⋮ | ⋮ | ⋮ | ⋮ | ⋮ | ⋮ | ⋮ | ⋮ |\n",
       "| We Were | Keith Urban | NULL | 71 | 72 | 10 | 71 | FALSE |\n",
       "| Kinfolks | Sam Hunt | NULL | 64 | 87 | 4 | 72 | FALSE |\n",
       "| Tip Of My Tongue | Kenny Chesney | NULL | 73 | 82 | 17 | 73 | FALSE |\n",
       "| Self Control | YoungBoy Never Broke Again | NULL | 50 | 76 | 9 | 74 | FALSE |\n",
       "| Heartache Medication | Jon Pardi | NULL | 75 | 85 | 6 | 75 | FALSE |\n",
       "| I Don't Know About You | Chris Lane | NULL | 39 | 79 | 18 | 76 | FALSE |\n",
       "| What If I Never Get Over You | Lady Antebellum | NULL | 77 | 94 | 11 | 77 | FALSE |\n",
       "| Nice To Meet Ya | Niall Horan | NULL | 78 | 86 | 4 | 78 | FALSE |\n",
       "| Love Me More | Trippie Redd | NULL | 79 | 0 | 1 | 79 | TRUE |\n",
       "| Cash Shit | Megan Thee Stallion Featuring DaBaby | NULL | 36 | 80 | 20 | 80 | FALSE |\n",
       "| F.N | Lil Tjay | NULL | 56 | 77 | 13 | 81 | FALSE |\n",
       "| Start Wit Me | Roddy Ricch &amp; Gunna | NULL | 75 | 75 | 2 | 82 | FALSE |\n",
       "| Hot Now | YoungBoy Never Broke Again | NULL | 66 | 91 | 4 | 83 | FALSE |\n",
       "| Closed On Sunday | Kanye West | NULL | 17 | 17 | 2 | 84 | FALSE |\n",
       "| In My Room | Frank Ocean | NULL | 85 | 0 | 1 | 85 | TRUE |\n",
       "| Love You Too Late | Cole Swindell | NULL | 49 | 74 | 14 | 86 | FALSE |\n",
       "| Stuck In A Dream | Lil Mosey x Gunna | NULL | 87 | 0 | 2 | 87 | FALSE |\n",
       "| Ridin' Roads | Dustin Lynch | NULL | 88 | 0 | 1 | 88 | TRUE |\n",
       "| All The Good Girls Go To Hell | Billie Eilish | NULL | 46 | 0 | 3 | 89 | FALSE |\n",
       "| For My Daughter | Kane Brown | NULL | 90 | 0 | 1 | 90 | TRUE |\n",
       "| Easy | DaniLeigh Featuring Chris Brown | NULL | 91 | 0 | 1 | 91 | TRUE |\n",
       "| Selah | Kanye West | NULL | 19 | 19 | 2 | 92 | FALSE |\n",
       "| Living | Dierks Bentley | NULL | 51 | 96 | 15 | 93 | FALSE |\n",
       "| China | Anuel AA, Daddy Yankee, Karol G, Ozuna &amp; J Balvin | NULL | 43 | 84 | 16 | 94 | FALSE |\n",
       "| Heartless | Diplo Presents Thomas Wesley Featuring Morgan Wallen | NULL | 78 | 0 | 2 | 95 | FALSE |\n",
       "| On God | Kanye West | NULL | 23 | 23 | 2 | 96 | FALSE |\n",
       "| Come Thru | Summer Walker &amp; Usher | NULL | 42 | 89 | 5 | 97 | FALSE |\n",
       "| Higher Love | Kygo X Whitney Houston | NULL | 63 | 99 | 9 | 98 | FALSE |\n",
       "| Somebody | Internet Money, Lil Tecca &amp; A Boogie Wit da Hoodie | NULL | 97 | 100 | 3 | 99 | FALSE |\n",
       "| Big Boy Diamonds | Gucci Mane Featuring Kodak Black &amp; London On Da Track | NULL | 100 | 0 | 1 | 100 | TRUE |\n",
       "\n",
       "\n",
       "$previousDate\n",
       ":   NULL\n",
       "$nextDate\n",
       ":   NULL\n",
       "\n",
       "\n"
      ],
      "text/plain": [
       "$name\n",
       "[1] \"hot-100\"\n",
       "\n",
       "$date\n",
       "[1] \"2019-11-16\"\n",
       "\n",
       "$year\n",
       "NULL\n",
       "\n",
       "$title\n",
       "[1] \"Billboard Hot 100\"\n",
       "\n",
       "$`_max_retries`\n",
       "[1] 5\n",
       "\n",
       "$`_timeout`\n",
       "[1] 25\n",
       "\n",
       "$entries\n",
       "\u001b[90m# A tibble: 100 × 8\u001b[39m\n",
       "   title     artist    image  peakPos   lastPos   weeks     rank      isNew    \n",
       "   \u001b[3m\u001b[90m<list>\u001b[39m\u001b[23m    \u001b[3m\u001b[90m<list>\u001b[39m\u001b[23m    \u001b[3m\u001b[90m<list>\u001b[39m\u001b[23m \u001b[3m\u001b[90m<list>\u001b[39m\u001b[23m    \u001b[3m\u001b[90m<list>\u001b[39m\u001b[23m    \u001b[3m\u001b[90m<list>\u001b[39m\u001b[23m    \u001b[3m\u001b[90m<list>\u001b[39m\u001b[23m    \u001b[3m\u001b[90m<list>\u001b[39m\u001b[23m   \n",
       "\u001b[90m 1\u001b[39m \u001b[90m<chr [1]>\u001b[39m \u001b[90m<chr [1]>\u001b[39m \u001b[90m<NULL>\u001b[39m \u001b[90m<int [1]>\u001b[39m \u001b[90m<int [1]>\u001b[39m \u001b[90m<int [1]>\u001b[39m \u001b[90m<int [1]>\u001b[39m \u001b[90m<lgl [1]>\u001b[39m\n",
       "\u001b[90m 2\u001b[39m \u001b[90m<chr [1]>\u001b[39m \u001b[90m<chr [1]>\u001b[39m \u001b[90m<NULL>\u001b[39m \u001b[90m<int [1]>\u001b[39m \u001b[90m<int [1]>\u001b[39m \u001b[90m<int [1]>\u001b[39m \u001b[90m<int [1]>\u001b[39m \u001b[90m<lgl [1]>\u001b[39m\n",
       "\u001b[90m 3\u001b[39m \u001b[90m<chr [1]>\u001b[39m \u001b[90m<chr [1]>\u001b[39m \u001b[90m<NULL>\u001b[39m \u001b[90m<int [1]>\u001b[39m \u001b[90m<int [1]>\u001b[39m \u001b[90m<int [1]>\u001b[39m \u001b[90m<int [1]>\u001b[39m \u001b[90m<lgl [1]>\u001b[39m\n",
       "\u001b[90m 4\u001b[39m \u001b[90m<chr [1]>\u001b[39m \u001b[90m<chr [1]>\u001b[39m \u001b[90m<NULL>\u001b[39m \u001b[90m<int [1]>\u001b[39m \u001b[90m<int [1]>\u001b[39m \u001b[90m<int [1]>\u001b[39m \u001b[90m<int [1]>\u001b[39m \u001b[90m<lgl [1]>\u001b[39m\n",
       "\u001b[90m 5\u001b[39m \u001b[90m<chr [1]>\u001b[39m \u001b[90m<chr [1]>\u001b[39m \u001b[90m<NULL>\u001b[39m \u001b[90m<int [1]>\u001b[39m \u001b[90m<int [1]>\u001b[39m \u001b[90m<int [1]>\u001b[39m \u001b[90m<int [1]>\u001b[39m \u001b[90m<lgl [1]>\u001b[39m\n",
       "\u001b[90m 6\u001b[39m \u001b[90m<chr [1]>\u001b[39m \u001b[90m<chr [1]>\u001b[39m \u001b[90m<NULL>\u001b[39m \u001b[90m<int [1]>\u001b[39m \u001b[90m<int [1]>\u001b[39m \u001b[90m<int [1]>\u001b[39m \u001b[90m<int [1]>\u001b[39m \u001b[90m<lgl [1]>\u001b[39m\n",
       "\u001b[90m 7\u001b[39m \u001b[90m<chr [1]>\u001b[39m \u001b[90m<chr [1]>\u001b[39m \u001b[90m<NULL>\u001b[39m \u001b[90m<int [1]>\u001b[39m \u001b[90m<int [1]>\u001b[39m \u001b[90m<int [1]>\u001b[39m \u001b[90m<int [1]>\u001b[39m \u001b[90m<lgl [1]>\u001b[39m\n",
       "\u001b[90m 8\u001b[39m \u001b[90m<chr [1]>\u001b[39m \u001b[90m<chr [1]>\u001b[39m \u001b[90m<NULL>\u001b[39m \u001b[90m<int [1]>\u001b[39m \u001b[90m<int [1]>\u001b[39m \u001b[90m<int [1]>\u001b[39m \u001b[90m<int [1]>\u001b[39m \u001b[90m<lgl [1]>\u001b[39m\n",
       "\u001b[90m 9\u001b[39m \u001b[90m<chr [1]>\u001b[39m \u001b[90m<chr [1]>\u001b[39m \u001b[90m<NULL>\u001b[39m \u001b[90m<int [1]>\u001b[39m \u001b[90m<int [1]>\u001b[39m \u001b[90m<int [1]>\u001b[39m \u001b[90m<int [1]>\u001b[39m \u001b[90m<lgl [1]>\u001b[39m\n",
       "\u001b[90m10\u001b[39m \u001b[90m<chr [1]>\u001b[39m \u001b[90m<chr [1]>\u001b[39m \u001b[90m<NULL>\u001b[39m \u001b[90m<int [1]>\u001b[39m \u001b[90m<int [1]>\u001b[39m \u001b[90m<int [1]>\u001b[39m \u001b[90m<int [1]>\u001b[39m \u001b[90m<lgl [1]>\u001b[39m\n",
       "\u001b[90m# ℹ 90 more rows\u001b[39m\n",
       "\n",
       "$previousDate\n",
       "NULL\n",
       "\n",
       "$nextDate\n",
       "NULL\n"
      ]
     },
     "metadata": {},
     "output_type": "display_data"
    }
   ],
   "source": [
    "get_billboard_hot_100(\"2019-11-11\")"
   ]
  }
 ],
 "metadata": {
  "kernelspec": {
   "display_name": "R",
   "language": "R",
   "name": "ir"
  },
  "language_info": {
   "codemirror_mode": "r",
   "file_extension": ".r",
   "mimetype": "text/x-r-source",
   "name": "R",
   "pygments_lexer": "r",
   "version": "3.6.3"
  }
 },
 "nbformat": 4,
 "nbformat_minor": 4
}
