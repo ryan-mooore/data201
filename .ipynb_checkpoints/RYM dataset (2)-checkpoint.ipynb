{
 "cells": [
  {
   "cell_type": "code",
   "execution_count": 2,
   "id": "faaa9756",
   "metadata": {},
   "outputs": [
    {
     "name": "stderr",
     "output_type": "stream",
     "text": [
      "Installing package into ‘/srv/rlibs’\n",
      "(as ‘lib’ is unspecified)\n",
      "\n",
      "Installing package into ‘/srv/rlibs’\n",
      "(as ‘lib’ is unspecified)\n",
      "\n",
      "Installing package into ‘/srv/rlibs’\n",
      "(as ‘lib’ is unspecified)\n",
      "\n"
     ]
    }
   ],
   "source": [
    "# Ensure necessary library is installed\n",
    "install.packages(\"rvest\")\n",
    "install.packages(\"tidyverse\")\n",
    "install.packages(\"lubridate\")"
   ]
  },
  {
   "cell_type": "code",
   "execution_count": 3,
   "id": "b1599031",
   "metadata": {},
   "outputs": [
    {
     "name": "stderr",
     "output_type": "stream",
     "text": [
      "── \u001b[1mAttaching packages\u001b[22m ─────────────────────────────────────── tidyverse 1.3.1 ──\n",
      "\n",
      "\u001b[32m✔\u001b[39m \u001b[34mggplot2\u001b[39m 3.3.5     \u001b[32m✔\u001b[39m \u001b[34mpurrr  \u001b[39m 0.3.4\n",
      "\u001b[32m✔\u001b[39m \u001b[34mtibble \u001b[39m 3.1.6     \u001b[32m✔\u001b[39m \u001b[34mdplyr  \u001b[39m 1.0.7\n",
      "\u001b[32m✔\u001b[39m \u001b[34mtidyr  \u001b[39m 1.1.4     \u001b[32m✔\u001b[39m \u001b[34mstringr\u001b[39m 1.4.0\n",
      "\u001b[32m✔\u001b[39m \u001b[34mreadr  \u001b[39m 2.1.1     \u001b[32m✔\u001b[39m \u001b[34mforcats\u001b[39m 0.5.1\n",
      "\n",
      "── \u001b[1mConflicts\u001b[22m ────────────────────────────────────────── tidyverse_conflicts() ──\n",
      "\u001b[31m✖\u001b[39m \u001b[34mdplyr\u001b[39m::\u001b[32mfilter()\u001b[39m         masks \u001b[34mstats\u001b[39m::filter()\n",
      "\u001b[31m✖\u001b[39m \u001b[34mreadr\u001b[39m::\u001b[32mguess_encoding()\u001b[39m masks \u001b[34mrvest\u001b[39m::guess_encoding()\n",
      "\u001b[31m✖\u001b[39m \u001b[34mdplyr\u001b[39m::\u001b[32mlag()\u001b[39m            masks \u001b[34mstats\u001b[39m::lag()\n",
      "\n",
      "\n",
      "Attaching package: ‘lubridate’\n",
      "\n",
      "\n",
      "The following objects are masked from ‘package:base’:\n",
      "\n",
      "    date, intersect, setdiff, union\n",
      "\n",
      "\n"
     ]
    }
   ],
   "source": [
    "# Loading Libraries\n",
    "library(rvest)\n",
    "library(tidyverse)\n",
    "library(lubridate)"
   ]
  },
  {
   "cell_type": "code",
   "execution_count": 8,
   "id": "55586cf7",
   "metadata": {},
   "outputs": [],
   "source": [
    "#Scrape Data from the Web Page\n",
    "url <- \"https://rateyourmusic.com/charts/top/album/all-time/\"\n",
    "webpage <- read_html(url)"
   ]
  },
  {
   "cell_type": "code",
   "execution_count": 13,
   "id": "9244075e",
   "metadata": {},
   "outputs": [],
   "source": [
    "# Extract CSS Selectors\n",
    "album_names <- webpage %>% \n",
    "  html_nodes(\".page_charts_section_charts_item_title\") %>% \n",
    "  html_text() %>%\n",
    "  str_trim() # Remove any leading or trailing white spaces\n",
    "artists <- webpage %>% \n",
    "  html_nodes(\".page_charts_section_charts_item_credited_links_primary\") %>% \n",
    "  html_text() %>%\n",
    "  str_trim() # Remove any leading or trailing white spaces\n",
    "ratings <- webpage %>%\n",
    "  html_nodes(\".page_charts_section_charts_item_details_average_num\") %>%\n",
    "  html_text(trim = TRUE) %>%\n",
    "  as.numeric() # convert to numeric\n",
    "ratings <- ratings[seq(1, length(ratings), 2)]\n",
    "release_date <- webpage %>% \n",
    "  html_nodes(\".page_charts_section_charts_item_date span:first-child\") %>% \n",
    "  html_text() %>%\n",
    "  str_trim() %>% # Remove any leading or trailing white spaces\n",
    "  parse_date_time(orders = c(\"dmY\", \"my\")) %>%  # parse using multiple formats\n",
    "  format(\"%d-%m-%Y\")  # format as dd-mm-yyyy\n",
    "genres <- webpage %>% \n",
    "  html_nodes(\".page_charts_section_charts_item_genres_primary\") %>% \n",
    "  map_chr(~.x %>% # This function from the purrr package is used to apply the nested function to each node, and ensures that the results are returned as character vectors.\n",
    "            html_nodes(\"a\") %>% \n",
    "            html_text() %>% \n",
    "            paste(collapse = \", \") #This results in a single string for each album that lists all associated genres in one go.\n",
    "  )\n",
    "num_ratings <- webpage %>% \n",
    "  html_nodes(\".page_charts_section_charts_item_details_ratings .full\") %>% \n",
    "  html_text() %>%\n",
    "  str_trim() %>% # Remove any leading or trailing white spaces\n",
    "  str_remove_all(\",\") %>%  # remove commas from numbers\n",
    "  as.numeric() # convert to numeric\n",
    "num_views <- webpage %>% \n",
    "  html_nodes(\".page_charts_section_charts_item_details_reviews .full\") %>% \n",
    "  html_text() %>%\n",
    "  str_trim() %>%\n",
    "  str_replace_all(\",\", \"\") %>%  # Removing commas\n",
    "  as.numeric() # convert to numeric\n",
    "descriptors <- webpage %>% \n",
    "  html_nodes(\".page_charts_section_charts_item_genre_descriptors\") %>% \n",
    "  html_text(trim = TRUE) %>%\n",
    "  str_replace_all(\"\\n\", \", \") %>%\n",
    "  str_squish()\n"
   ]
  },
  {
   "cell_type": "code",
   "execution_count": 17,
   "id": "a5f769da",
   "metadata": {},
   "outputs": [
    {
     "data": {
      "text/html": [
       "<table class=\"dataframe\">\n",
       "<caption>A data.frame: 6 × 9</caption>\n",
       "<thead>\n",
       "\t<tr><th></th><th scope=col>Ranking</th><th scope=col>Album</th><th scope=col>Artist</th><th scope=col>Rating</th><th scope=col>ReleaseDate</th><th scope=col>Genres</th><th scope=col>Descriptors</th><th scope=col>NumberOfRatings</th><th scope=col>NumberOfViews</th></tr>\n",
       "\t<tr><th></th><th scope=col>&lt;int&gt;</th><th scope=col>&lt;chr&gt;</th><th scope=col>&lt;chr&gt;</th><th scope=col>&lt;dbl&gt;</th><th scope=col>&lt;chr&gt;</th><th scope=col>&lt;chr&gt;</th><th scope=col>&lt;chr&gt;</th><th scope=col>&lt;dbl&gt;</th><th scope=col>&lt;dbl&gt;</th></tr>\n",
       "</thead>\n",
       "<tbody>\n",
       "\t<tr><th scope=row>1</th><td>1</td><td>To Pimp a Butterfly             </td><td>Kendrick Lamar</td><td>4.36</td><td>15-03-2015</td><td>Conscious Hip Hop, West Coast Hip Hop, Jazz Rap</td><td>political, conscious, concept album, poetic, introspective, urban, protest, eclectic             </td><td>69640</td><td> 597</td></tr>\n",
       "\t<tr><th scope=row>2</th><td>2</td><td>OK Computer                     </td><td>Radiohead     </td><td>4.27</td><td>16-06-1997</td><td>Alternative Rock, Art Rock                     </td><td>melancholic, anxious, alienation, futuristic, existential, lonely, atmospheric, cold             </td><td>94735</td><td>1713</td></tr>\n",
       "\t<tr><th scope=row>3</th><td>3</td><td>Wish You Were Here              </td><td>Pink Floyd    </td><td>4.32</td><td>12-09-1975</td><td>Progressive Rock, Art Rock                     </td><td>melancholic, atmospheric, progressive, concept album, serious, longing, introspective, alienation</td><td>65282</td><td> 997</td></tr>\n",
       "\t<tr><th scope=row>4</th><td>4</td><td>Madvillainy                     </td><td>Madvillain    </td><td>4.33</td><td>23-03-2004</td><td>Abstract Hip Hop                               </td><td>sampling, playful, abstract, humorous, cryptic, mysterious, eclectic, surreal                    </td><td>54310</td><td> 469</td></tr>\n",
       "\t<tr><th scope=row>5</th><td>5</td><td>In the Court of the Crimson King</td><td>King Crimson  </td><td>4.31</td><td>10-10-1969</td><td>Progressive Rock, Art Rock                     </td><td>fantasy, epic, progressive, complex, poetic, surreal, philosophical, melancholic                 </td><td>59998</td><td> 939</td></tr>\n",
       "\t<tr><th scope=row>6</th><td>6</td><td>In Rainbows                     </td><td>Radiohead     </td><td>4.29</td><td>10-10-2007</td><td>Art Rock, Alternative Rock                     </td><td>lush, melancholic, introspective, bittersweet, atmospheric, mellow, warm, ethereal               </td><td>68581</td><td> 872</td></tr>\n",
       "</tbody>\n",
       "</table>\n"
      ],
      "text/latex": [
       "A data.frame: 6 × 9\n",
       "\\begin{tabular}{r|lllllllll}\n",
       "  & Ranking & Album & Artist & Rating & ReleaseDate & Genres & Descriptors & NumberOfRatings & NumberOfViews\\\\\n",
       "  & <int> & <chr> & <chr> & <dbl> & <chr> & <chr> & <chr> & <dbl> & <dbl>\\\\\n",
       "\\hline\n",
       "\t1 & 1 & To Pimp a Butterfly              & Kendrick Lamar & 4.36 & 15-03-2015 & Conscious Hip Hop, West Coast Hip Hop, Jazz Rap & political, conscious, concept album, poetic, introspective, urban, protest, eclectic              & 69640 &  597\\\\\n",
       "\t2 & 2 & OK Computer                      & Radiohead      & 4.27 & 16-06-1997 & Alternative Rock, Art Rock                      & melancholic, anxious, alienation, futuristic, existential, lonely, atmospheric, cold              & 94735 & 1713\\\\\n",
       "\t3 & 3 & Wish You Were Here               & Pink Floyd     & 4.32 & 12-09-1975 & Progressive Rock, Art Rock                      & melancholic, atmospheric, progressive, concept album, serious, longing, introspective, alienation & 65282 &  997\\\\\n",
       "\t4 & 4 & Madvillainy                      & Madvillain     & 4.33 & 23-03-2004 & Abstract Hip Hop                                & sampling, playful, abstract, humorous, cryptic, mysterious, eclectic, surreal                     & 54310 &  469\\\\\n",
       "\t5 & 5 & In the Court of the Crimson King & King Crimson   & 4.31 & 10-10-1969 & Progressive Rock, Art Rock                      & fantasy, epic, progressive, complex, poetic, surreal, philosophical, melancholic                  & 59998 &  939\\\\\n",
       "\t6 & 6 & In Rainbows                      & Radiohead      & 4.29 & 10-10-2007 & Art Rock, Alternative Rock                      & lush, melancholic, introspective, bittersweet, atmospheric, mellow, warm, ethereal                & 68581 &  872\\\\\n",
       "\\end{tabular}\n"
      ],
      "text/markdown": [
       "\n",
       "A data.frame: 6 × 9\n",
       "\n",
       "| <!--/--> | Ranking &lt;int&gt; | Album &lt;chr&gt; | Artist &lt;chr&gt; | Rating &lt;dbl&gt; | ReleaseDate &lt;chr&gt; | Genres &lt;chr&gt; | Descriptors &lt;chr&gt; | NumberOfRatings &lt;dbl&gt; | NumberOfViews &lt;dbl&gt; |\n",
       "|---|---|---|---|---|---|---|---|---|---|\n",
       "| 1 | 1 | To Pimp a Butterfly              | Kendrick Lamar | 4.36 | 15-03-2015 | Conscious Hip Hop, West Coast Hip Hop, Jazz Rap | political, conscious, concept album, poetic, introspective, urban, protest, eclectic              | 69640 |  597 |\n",
       "| 2 | 2 | OK Computer                      | Radiohead      | 4.27 | 16-06-1997 | Alternative Rock, Art Rock                      | melancholic, anxious, alienation, futuristic, existential, lonely, atmospheric, cold              | 94735 | 1713 |\n",
       "| 3 | 3 | Wish You Were Here               | Pink Floyd     | 4.32 | 12-09-1975 | Progressive Rock, Art Rock                      | melancholic, atmospheric, progressive, concept album, serious, longing, introspective, alienation | 65282 |  997 |\n",
       "| 4 | 4 | Madvillainy                      | Madvillain     | 4.33 | 23-03-2004 | Abstract Hip Hop                                | sampling, playful, abstract, humorous, cryptic, mysterious, eclectic, surreal                     | 54310 |  469 |\n",
       "| 5 | 5 | In the Court of the Crimson King | King Crimson   | 4.31 | 10-10-1969 | Progressive Rock, Art Rock                      | fantasy, epic, progressive, complex, poetic, surreal, philosophical, melancholic                  | 59998 |  939 |\n",
       "| 6 | 6 | In Rainbows                      | Radiohead      | 4.29 | 10-10-2007 | Art Rock, Alternative Rock                      | lush, melancholic, introspective, bittersweet, atmospheric, mellow, warm, ethereal                | 68581 |  872 |\n",
       "\n"
      ],
      "text/plain": [
       "  Ranking Album                            Artist         Rating ReleaseDate\n",
       "1 1       To Pimp a Butterfly              Kendrick Lamar 4.36   15-03-2015 \n",
       "2 2       OK Computer                      Radiohead      4.27   16-06-1997 \n",
       "3 3       Wish You Were Here               Pink Floyd     4.32   12-09-1975 \n",
       "4 4       Madvillainy                      Madvillain     4.33   23-03-2004 \n",
       "5 5       In the Court of the Crimson King King Crimson   4.31   10-10-1969 \n",
       "6 6       In Rainbows                      Radiohead      4.29   10-10-2007 \n",
       "  Genres                                         \n",
       "1 Conscious Hip Hop, West Coast Hip Hop, Jazz Rap\n",
       "2 Alternative Rock, Art Rock                     \n",
       "3 Progressive Rock, Art Rock                     \n",
       "4 Abstract Hip Hop                               \n",
       "5 Progressive Rock, Art Rock                     \n",
       "6 Art Rock, Alternative Rock                     \n",
       "  Descriptors                                                                                      \n",
       "1 political, conscious, concept album, poetic, introspective, urban, protest, eclectic             \n",
       "2 melancholic, anxious, alienation, futuristic, existential, lonely, atmospheric, cold             \n",
       "3 melancholic, atmospheric, progressive, concept album, serious, longing, introspective, alienation\n",
       "4 sampling, playful, abstract, humorous, cryptic, mysterious, eclectic, surreal                    \n",
       "5 fantasy, epic, progressive, complex, poetic, surreal, philosophical, melancholic                 \n",
       "6 lush, melancholic, introspective, bittersweet, atmospheric, mellow, warm, ethereal               \n",
       "  NumberOfRatings NumberOfViews\n",
       "1 69640            597         \n",
       "2 94735           1713         \n",
       "3 65282            997         \n",
       "4 54310            469         \n",
       "5 59998            939         \n",
       "6 68581            872         "
      ]
     },
     "metadata": {},
     "output_type": "display_data"
    }
   ],
   "source": [
    "# Transform into a data frame\n",
    "df <- data.frame(\n",
    "  Album = album_names,\n",
    "  Artist = artists,\n",
    "  Rating = ratings,\n",
    "  ReleaseDate = release_date,\n",
    "  Genres = genres,\n",
    "  Descriptors = descriptors,\n",
    "  NumberOfRatings = num_ratings,\n",
    "  NumberOfViews = num_views\n",
    ")\n",
    "# Adding a ranking column\n",
    "df <- df %>% mutate(Ranking = row_number())\n",
    "# To ensure the Ranking column is first\n",
    "df <- df %>% select(Ranking, everything())\n",
    "head(df)\n"
   ]
  },
  {
   "cell_type": "code",
   "execution_count": 18,
   "id": "b08c3d2c",
   "metadata": {},
   "outputs": [
    {
     "data": {
      "text/html": [
       "'The rating for In Rainbows is 4.29'"
      ],
      "text/latex": [
       "'The rating for In Rainbows is 4.29'"
      ],
      "text/markdown": [
       "'The rating for In Rainbows is 4.29'"
      ],
      "text/plain": [
       "[1] \"The rating for In Rainbows is 4.29\""
      ]
     },
     "metadata": {},
     "output_type": "display_data"
    }
   ],
   "source": [
    "get_album_rating <- function(album_name) {\n",
    "  # Find the rating of the album\n",
    "  rating <- df$Rating[df$Album == album_name]\n",
    "  \n",
    "  # Check if rating is found or not\n",
    "  if(length(rating) == 0) {\n",
    "    return(paste(\"No rating found for\", album_name))\n",
    "  } else {\n",
    "    return(paste(\"The rating for\", album_name, \"is\", rating))\n",
    "  }\n",
    "}\n",
    "\n",
    "# Example usage\n",
    "get_album_rating(\"In Rainbows\")"
   ]
  }
 ],
 "metadata": {
  "kernelspec": {
   "display_name": "R",
   "language": "R",
   "name": "ir"
  },
  "language_info": {
   "codemirror_mode": "r",
   "file_extension": ".r",
   "mimetype": "text/x-r-source",
   "name": "R",
   "pygments_lexer": "r",
   "version": "3.6.3"
  }
 },
 "nbformat": 4,
 "nbformat_minor": 5
}
