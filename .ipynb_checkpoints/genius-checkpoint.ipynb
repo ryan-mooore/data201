{
 "cells": [
  {
   "cell_type": "code",
   "execution_count": 1,
   "id": "0a38145a-9b0e-4bb7-9ccf-127ac05a5d55",
   "metadata": {},
   "outputs": [
    {
     "name": "stderr",
     "output_type": "stream",
     "text": [
      "Skipping install of 'geniusr' from a github remote, the SHA1 (12746bb5) has not changed since last install.\n",
      "  Use `force = TRUE` to force installation\n",
      "\n"
     ]
    }
   ],
   "source": [
    "remotes::install_github(\"ewenme/geniusr\")"
   ]
  },
  {
   "cell_type": "code",
   "execution_count": 2,
   "id": "a271d948-73d9-4291-ace1-38b4423dedbb",
   "metadata": {},
   "outputs": [
    {
     "name": "stderr",
     "output_type": "stream",
     "text": [
      "Warning message:\n",
      "“unable to access index for repository https://cran.r-project.org/bin/macosx/el-capitan/contrib/3.6:\n",
      "  cannot open URL 'https://cran.r-project.org/bin/macosx/el-capitan/contrib/3.6/PACKAGES'”\n",
      "installing the source package ‘pillar’\n",
      "\n",
      "\n"
     ]
    }
   ],
   "source": [
    "install.packages(\"pillar\")"
   ]
  },
  {
   "cell_type": "code",
   "execution_count": 3,
   "id": "1d0b835f-e0a5-4a2c-ac1c-180e35b0f577",
   "metadata": {},
   "outputs": [
    {
     "name": "stderr",
     "output_type": "stream",
     "text": [
      "Warning message:\n",
      "“unable to access index for repository https://cran.r-project.org/bin/macosx/el-capitan/contrib/3.6:\n",
      "  cannot open URL 'https://cran.r-project.org/bin/macosx/el-capitan/contrib/3.6/PACKAGES'”\n",
      "installing the source package ‘tidytext’\n",
      "\n",
      "\n"
     ]
    }
   ],
   "source": [
    "install.packages(\"tidytext\")"
   ]
  },
  {
   "cell_type": "code",
   "execution_count": 4,
   "id": "5009a615-28ee-4f94-92d0-6075d96110e9",
   "metadata": {},
   "outputs": [
    {
     "name": "stderr",
     "output_type": "stream",
     "text": [
      "\n",
      "Attaching package: ‘dplyr’\n",
      "\n",
      "\n",
      "The following object is masked from ‘package:pillar’:\n",
      "\n",
      "    dim_desc\n",
      "\n",
      "\n",
      "The following objects are masked from ‘package:stats’:\n",
      "\n",
      "    filter, lag\n",
      "\n",
      "\n",
      "The following objects are masked from ‘package:base’:\n",
      "\n",
      "    intersect, setdiff, setequal, union\n",
      "\n",
      "\n"
     ]
    }
   ],
   "source": [
    "library(pillar)\n",
    "library(geniusr)\n",
    "library(dplyr)\n",
    "library(tidytext)"
   ]
  },
  {
   "cell_type": "code",
   "execution_count": 5,
   "id": "ac67e411-c3e2-4e9a-802b-fda64667c16b",
   "metadata": {},
   "outputs": [],
   "source": [
    "Sys.setenv(client_id = \"4WFEPdvzAZyFCt8TWmg1HMl03IH5HMSoh8rD5nihrkUmtbpyjnbDpwYCIO8Z5kVV\")\n",
    "Sys.setenv(client_secret = \"1Jil5U-YpEc9WtvXondQBsDC5AqYbg9C_g26OL3dKYpFfwCD-IswD85fjPd89bRe_iHL7JtlWn_xLiCRWHHeIQ\")\n",
    "Sys.setenv(client_access_token = \"mec3jMj62qHw5_iyiG76T_-QbMqb-aWxGig7y4cQJkGCtn4NJffib0HVuQl55AOO\")\n",
    "Sys.setenv(GENIUS_API_TOKEN = \"mec3jMj62qHw5_iyiG76T_-QbMqb-aWxGig7y4cQJkGCtn4NJffib0HVuQl55AOO\")"
   ]
  },
  {
   "cell_type": "code",
   "execution_count": 13,
   "id": "9d220b9f-dc3e-4099-a84f-7760d340e9e2",
   "metadata": {},
   "outputs": [
    {
     "data": {
      "text/plain": [
       "Can I Live by JAY-Z <api.genius.com/songs/3>\n",
       "List of 45\n",
       " $ annotation_count                               : int 34\n",
       " $ api_path                                       : chr \"/songs/3\"\n",
       " $ apple_music_id                                 : NULL\n",
       " $ apple_music_player_url                         : chr \"https://genius.com/songs/3/apple_music_player\"\n",
       " $ artist_names                                   : chr \"JAY-Z\"\n",
       " $ description                                    :List of 1\n",
       " $ embed_content                                  : chr \"<div id='rg_embed_link_3' class='rg_embed_link' data-song-id='3'>Read <a href='https://genius.com/Jay-z-can-i-l\"| __truncated__\n",
       " $ featured_video                                 : logi FALSE\n",
       " $ full_title                                     : chr \"Can I Live by JAY-Z\"\n",
       " $ header_image_thumbnail_url                     : chr \"https://images.genius.com/18040c4f503942a16d6577d9820644cb.300x300x1.jpg\"\n",
       " $ header_image_url                               : chr \"https://images.genius.com/18040c4f503942a16d6577d9820644cb.1000x1000x1.jpg\"\n",
       " $ id                                             : int 3\n",
       " $ language                                       : chr \"en\"\n",
       " $ lyrics_owner_id                                : int 2\n",
       " $ lyrics_placeholder_reason                      : NULL\n",
       " $ lyrics_state                                   : chr \"complete\"\n",
       " $ path                                           : chr \"/Jay-z-can-i-live-lyrics\"\n",
       " $ pyongs_count                                   : int 43\n",
       " $ recording_location                             : chr \"D&D Studios\"\n",
       " $ relationships_index_url                        : chr \"https://genius.com/Jay-z-can-i-live-sample\"\n",
       " $ release_date                                   : chr \"1996-06-25\"\n",
       " $ release_date_for_display                       : chr \"June 25, 1996\"\n",
       " $ release_date_with_abbreviated_month_for_display: chr \"Jun. 25, 1996\"\n",
       " $ song_art_image_thumbnail_url                   : chr \"https://images.genius.com/18040c4f503942a16d6577d9820644cb.300x300x1.jpg\"\n",
       " $ song_art_image_url                             : chr \"https://images.genius.com/18040c4f503942a16d6577d9820644cb.1000x1000x1.jpg\"\n",
       " $ stats                                          :List of 8\n",
       " $ title                                          : chr \"Can I Live\"\n",
       " $ title_with_featured                            : chr \"Can I Live\"\n",
       " $ url                                            : chr \"https://genius.com/Jay-z-can-i-live-lyrics\"\n",
       " $ current_user_metadata                          :List of 5\n",
       " $ album                                          :List of 8\n",
       " $ custom_performances                            :List of 6\n",
       " $ description_annotation                         :List of 15\n",
       " $ featured_artists                               : list()\n",
       " $ lyrics_marked_complete_by                      : NULL\n",
       " $ lyrics_marked_staff_approved_by                : NULL\n",
       " $ media                                          :List of 2\n",
       " $ primary_artist                                 :List of 9\n",
       " $ producer_artists                               :List of 1\n",
       " $ song_relationships                             :List of 12\n",
       " $ translation_songs                              : list()\n",
       " $ verified_annotations_by                        :List of 1\n",
       " $ verified_contributors                          :List of 1\n",
       " $ verified_lyrics_by                             : list()\n",
       " $ writer_artists                                 :List of 5"
      ]
     },
     "metadata": {},
     "output_type": "display_data"
    }
   ],
   "source": [
    "get_song(song_id = 3)"
   ]
  },
  {
   "cell_type": "code",
   "execution_count": 7,
   "id": "c6e3bdf3-7490-467c-8928-8e1733ce2a5e",
   "metadata": {},
   "outputs": [
    {
     "data": {
      "text/plain": [
       "Kendrick Lamar <api.genius.com/artists/1421>\n",
       "List of 19\n",
       " $ alternate_names       :List of 7\n",
       " $ api_path              : chr \"/artists/1421\"\n",
       " $ description           :List of 1\n",
       " $ facebook_name         : chr \"kendricklamar\"\n",
       " $ followers_count       : int 28008\n",
       " $ header_image_url      : chr \"https://images.genius.com/3514a6d32afe88c48f22263e303f55d0.1000x601x1.jpg\"\n",
       " $ id                    : int 1421\n",
       " $ image_url             : chr \"https://images.genius.com/d6d96651b423fa5a83c38ee2a4c6c939.1000x1000x1.jpg\"\n",
       " $ instagram_name        : chr \"kendricklamar\"\n",
       " $ is_meme_verified      : logi TRUE\n",
       " $ is_verified           : logi TRUE\n",
       " $ name                  : chr \"Kendrick Lamar\"\n",
       " $ translation_artist    : logi FALSE\n",
       " $ twitter_name          : chr \"kendricklamar\"\n",
       " $ url                   : chr \"https://genius.com/artists/Kendrick-lamar\"\n",
       " $ current_user_metadata :List of 3\n",
       " $ iq                    : int 56058\n",
       " $ description_annotation:List of 15\n",
       " $ user                  :List of 11"
      ]
     },
     "metadata": {},
     "output_type": "display_data"
    }
   ],
   "source": [
    "get_artist(artist_id = 1421)"
   ]
  },
  {
   "cell_type": "code",
   "execution_count": 8,
   "id": "5b8e7963-e5ef-486d-aec0-73f90cfc8420",
   "metadata": {},
   "outputs": [
    {
     "data": {
      "text/plain": [
       "good kid, m.A.A.d city (Deluxe Version) by Kendrick Lamar <api.genius.com/albums/491200>\n",
       "List of 21\n",
       " $ api_path                : chr \"/albums/491200\"\n",
       " $ comment_count           : int 15\n",
       " $ cover_art_url           : chr \"https://images.genius.com/1efc5de2af228d2e49d91bd0dac4dc49.1000x1000x1.jpg\"\n",
       " $ custom_header_image_url : NULL\n",
       " $ full_title              : chr \"good kid, m.A.A.d city (Deluxe Version) by Kendrick Lamar\"\n",
       " $ header_image_url        : chr \"https://images.genius.com/1efc5de2af228d2e49d91bd0dac4dc49.1000x1000x1.jpg\"\n",
       " $ id                      : int 491200\n",
       " $ lock_state              : chr \"super_locked\"\n",
       " $ name                    : chr \"good kid, m.A.A.d city (Deluxe Version)\"\n",
       " $ pyongs_count            : int 32\n",
       " $ release_date            : chr \"2012-10-22\"\n",
       " $ release_date_components :List of 3\n",
       " $ release_date_for_display: chr \"October 22, 2012\"\n",
       " $ url                     : chr \"https://genius.com/albums/Kendrick-lamar/Good-kid-m-a-a-d-city-deluxe-version\"\n",
       " $ current_user_metadata   :List of 3\n",
       " $ song_pageviews          : int 46978083\n",
       " $ artist                  :List of 9\n",
       " $ cover_arts              :List of 1\n",
       " $ description_annotation  :List of 15\n",
       " $ performance_groups      : list()\n",
       " $ song_performances       :List of 31"
      ]
     },
     "metadata": {},
     "output_type": "display_data"
    }
   ],
   "source": [
    "get_album(album_id = 491200)"
   ]
  },
  {
   "cell_type": "code",
   "execution_count": 9,
   "id": "92edb071-2c2e-44d2-8c47-9e74ed6d5723",
   "metadata": {},
   "outputs": [
    {
     "ename": "ERROR",
     "evalue": "Error in section_artist[is.na(section_artist)] <- artist: replacement has length zero\n",
     "output_type": "error",
     "traceback": [
      "Error in section_artist[is.na(section_artist)] <- artist: replacement has length zero\nTraceback:\n",
      "1. get_lyrics_id(song_id = 90479, access_token = )",
      "2. get_lyrics(session)"
     ]
    }
   ],
   "source": [
    "## Not available anymore due to legal issues\n",
    "#get_lyrics_id(song_id = 90479, access_token = )"
   ]
  },
  {
   "cell_type": "code",
   "execution_count": 10,
   "id": "ac4b1f33-ab25-42ba-87ea-d7b2a9394cd6",
   "metadata": {},
   "outputs": [
    {
     "ename": "ERROR",
     "evalue": "Error in section_artist[is.na(section_artist)] <- artist: replacement has length zero\n",
     "output_type": "error",
     "traceback": [
      "Error in section_artist[is.na(section_artist)] <- artist: replacement has length zero\nTraceback:\n",
      "1. get_lyrics_search(artist_name = \"Kanye West\", song_title = \"Good Morning\") %>% \n .     unnest_tokens(bigram, line, token = \"ngrams\", n = 2) %>% \n .     filter(bigram == \"good morning\") %>% nrow()",
      "2. nrow(.)",
      "3. filter(., bigram == \"good morning\")",
      "4. unnest_tokens(., bigram, line, token = \"ngrams\", n = 2)",
      "5. is_grouped_df(tbl)",
      "6. get_lyrics_search(artist_name = \"Kanye West\", song_title = \"Good Morning\")",
      "7. get_lyrics(session)"
     ]
    }
   ],
   "source": [
    "## Not available anymore due to legal issues\n",
    "# get lyrics\n",
    "get_lyrics_search(artist_name = \"Kanye West\",\n",
    "                  song_title = \"Good Morning\") %>%\n",
    "  # get lyric bigrams\n",
    "  unnest_tokens(bigram, line, token = \"ngrams\", n = 2) %>%\n",
    "  # look for good morning\n",
    "  filter(bigram == \"good morning\") %>%\n",
    "  # count bigram frequency\n",
    "  nrow()"
   ]
  },
  {
   "cell_type": "markdown",
   "id": "a2aaed03-3db2-46a0-a296-628a393535a6",
   "metadata": {},
   "source": [
    "Similarly to the million songs dataset, Genius API is very large so here we take a subset of it."
   ]
  },
  {
   "cell_type": "code",
   "execution_count": null,
   "id": "b9e15071-fa14-435c-b893-1877598ac144",
   "metadata": {},
   "outputs": [],
   "source": []
  },
  {
   "cell_type": "code",
   "execution_count": null,
   "id": "1513f304-99fd-4d96-8982-a6375e7cd11d",
   "metadata": {},
   "outputs": [],
   "source": []
  }
 ],
 "metadata": {
  "kernelspec": {
   "display_name": "R",
   "language": "R",
   "name": "ir"
  },
  "language_info": {
   "codemirror_mode": "r",
   "file_extension": ".r",
   "mimetype": "text/x-r-source",
   "name": "R",
   "pygments_lexer": "r",
   "version": "3.6.3"
  }
 },
 "nbformat": 4,
 "nbformat_minor": 5
}
