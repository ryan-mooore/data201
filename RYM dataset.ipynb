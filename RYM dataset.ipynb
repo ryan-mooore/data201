{
 "cells": [
  {
   "cell_type": "code",
   "execution_count": 2,
   "id": "faaa9756",
   "metadata": {},
   "outputs": [
    {
     "name": "stderr",
     "output_type": "stream",
     "text": [
      "Installing package into ‘/srv/rlibs’\n",
      "(as ‘lib’ is unspecified)\n",
      "\n",
      "Installing package into ‘/srv/rlibs’\n",
      "(as ‘lib’ is unspecified)\n",
      "\n",
      "Installing package into ‘/srv/rlibs’\n",
      "(as ‘lib’ is unspecified)\n",
      "\n"
     ]
    }
   ],
   "source": [
    "# Ensure necessary library is installed\n",
    "install.packages(\"rvest\")\n",
    "install.packages(\"tidyverse\")\n",
    "install.packages(\"lubridate\")"
   ]
  },
  {
   "cell_type": "code",
   "execution_count": 3,
   "id": "b1599031",
   "metadata": {},
   "outputs": [],
   "source": [
    "# Loading Libraries\n",
    "library(rvest)\n",
    "library(tidyverse)\n",
    "library(lubridate)"
   ]
  },
  {
   "cell_type": "code",
   "execution_count": 4,
   "id": "55586cf7",
   "metadata": {},
   "outputs": [],
   "source": [
    "#Scrape Data from the Web Page\n",
    "url <- \"https://rateyourmusic.com/charts/top/album/all-time/\"\n",
    "webpage <- read_html(url)"
   ]
  },
  {
   "cell_type": "code",
   "execution_count": 5,
   "id": "9244075e",
   "metadata": {},
   "outputs": [
    {
     "name": "stderr",
     "output_type": "stream",
     "text": [
      "Warning message:\n",
      "“ 2 failed to parse.”\n",
      "Warning message in webpage %>% html_nodes(\".page_charts_section_charts_item_details_reviews .full\") %>% :\n",
      "“NAs introduced by coercion”\n"
     ]
    }
   ],
   "source": [
    "# Extract CSS Selectors\n",
    "album_names <- webpage %>% \n",
    "  html_nodes(\".page_charts_section_charts_item_title\") %>% \n",
    "  html_text() %>%\n",
    "  str_trim() # Remove any leading or trailing white spaces\n",
    "artists <- webpage %>% \n",
    "  html_nodes(\".page_charts_section_charts_item_credited_links_primary\") %>% \n",
    "  html_text() %>%\n",
    "  str_trim() # Remove any leading or trailing white spaces\n",
    "ratings <- webpage %>%\n",
    "  html_nodes(\".page_charts_section_charts_item_details_average_num\") %>%\n",
    "  html_text(trim = TRUE) %>%\n",
    "  as.numeric() # convert to numeric\n",
    "ratings <- ratings[seq(1, length(ratings), 2)]\n",
    "release_date <- webpage %>% \n",
    "  html_nodes(\".page_charts_section_charts_item_date span:first-child\") %>% \n",
    "  html_text() %>%\n",
    "  str_trim() %>% # Remove any leading or trailing white spaces\n",
    "  dmy() %>%  # parse as day-month-year\n",
    "  format(\"%d-%m-%Y\")  # format as dd-mm-yyyy\n",
    "genres <- webpage %>% \n",
    "  html_nodes(\".page_charts_section_charts_item_genres_primary\") %>% \n",
    "  map_chr(~.x %>% # This function from the purrr package is used to apply the nested function to each node, and ensures that the results are returned as character vectors.\n",
    "            html_nodes(\"a\") %>% \n",
    "            html_text() %>% \n",
    "            paste(collapse = \", \") #This results in a single string for each album that lists all associated genres in one go.\n",
    "  )\n",
    "num_ratings <- webpage %>% \n",
    "  html_nodes(\".page_charts_section_charts_item_details_ratings .full\") %>% \n",
    "  html_text() %>%\n",
    "  str_trim() %>% # Remove any leading or trailing white spaces\n",
    "  str_remove_all(\",\") %>%  # remove commas from numbers\n",
    "  as.numeric() # convert to numeric\n",
    "num_views <- webpage %>% \n",
    "  html_nodes(\".page_charts_section_charts_item_details_reviews .full\") %>% \n",
    "  html_text() %>%\n",
    "  str_trim() %>%\n",
    "  as.numeric() # convert to numeric\n"
   ]
  },
  {
   "cell_type": "code",
   "execution_count": 6,
   "id": "a5f769da",
   "metadata": {},
   "outputs": [
    {
     "data": {
      "text/html": [
       "<table class=\"dataframe\">\n",
       "<caption>A data.frame: 6 × 8</caption>\n",
       "<thead>\n",
       "\t<tr><th></th><th scope=col>Ranking</th><th scope=col>Album</th><th scope=col>Artist</th><th scope=col>Rating</th><th scope=col>ReleaseDate</th><th scope=col>Genres</th><th scope=col>NumberOfRatings</th><th scope=col>NumberOfViews</th></tr>\n",
       "\t<tr><th></th><th scope=col>&lt;int&gt;</th><th scope=col>&lt;chr&gt;</th><th scope=col>&lt;chr&gt;</th><th scope=col>&lt;dbl&gt;</th><th scope=col>&lt;chr&gt;</th><th scope=col>&lt;chr&gt;</th><th scope=col>&lt;dbl&gt;</th><th scope=col>&lt;dbl&gt;</th></tr>\n",
       "</thead>\n",
       "<tbody>\n",
       "\t<tr><th scope=row>1</th><td>1</td><td>To Pimp a Butterfly             </td><td>Kendrick Lamar</td><td>4.36</td><td>15-03-2015</td><td>Conscious Hip Hop, West Coast Hip Hop, Jazz Rap</td><td>69408</td><td>597</td></tr>\n",
       "\t<tr><th scope=row>2</th><td>2</td><td>OK Computer                     </td><td>Radiohead     </td><td>4.27</td><td>16-06-1997</td><td>Alternative Rock, Art Rock                     </td><td>94474</td><td> NA</td></tr>\n",
       "\t<tr><th scope=row>3</th><td>3</td><td>Wish You Were Here              </td><td>Pink Floyd    </td><td>4.32</td><td>12-09-1975</td><td>Progressive Rock, Art Rock                     </td><td>65095</td><td>997</td></tr>\n",
       "\t<tr><th scope=row>4</th><td>4</td><td>Madvillainy                     </td><td>Madvillain    </td><td>4.33</td><td>23-03-2004</td><td>Abstract Hip Hop                               </td><td>54144</td><td>469</td></tr>\n",
       "\t<tr><th scope=row>5</th><td>5</td><td>In the Court of the Crimson King</td><td>King Crimson  </td><td>4.31</td><td>10-10-1969</td><td>Progressive Rock, Art Rock                     </td><td>59831</td><td>939</td></tr>\n",
       "\t<tr><th scope=row>6</th><td>6</td><td>In Rainbows                     </td><td>Radiohead     </td><td>4.28</td><td>10-10-2007</td><td>Art Rock, Alternative Rock                     </td><td>68354</td><td>872</td></tr>\n",
       "</tbody>\n",
       "</table>\n"
      ],
      "text/latex": [
       "A data.frame: 6 × 8\n",
       "\\begin{tabular}{r|llllllll}\n",
       "  & Ranking & Album & Artist & Rating & ReleaseDate & Genres & NumberOfRatings & NumberOfViews\\\\\n",
       "  & <int> & <chr> & <chr> & <dbl> & <chr> & <chr> & <dbl> & <dbl>\\\\\n",
       "\\hline\n",
       "\t1 & 1 & To Pimp a Butterfly              & Kendrick Lamar & 4.36 & 15-03-2015 & Conscious Hip Hop, West Coast Hip Hop, Jazz Rap & 69408 & 597\\\\\n",
       "\t2 & 2 & OK Computer                      & Radiohead      & 4.27 & 16-06-1997 & Alternative Rock, Art Rock                      & 94474 &  NA\\\\\n",
       "\t3 & 3 & Wish You Were Here               & Pink Floyd     & 4.32 & 12-09-1975 & Progressive Rock, Art Rock                      & 65095 & 997\\\\\n",
       "\t4 & 4 & Madvillainy                      & Madvillain     & 4.33 & 23-03-2004 & Abstract Hip Hop                                & 54144 & 469\\\\\n",
       "\t5 & 5 & In the Court of the Crimson King & King Crimson   & 4.31 & 10-10-1969 & Progressive Rock, Art Rock                      & 59831 & 939\\\\\n",
       "\t6 & 6 & In Rainbows                      & Radiohead      & 4.28 & 10-10-2007 & Art Rock, Alternative Rock                      & 68354 & 872\\\\\n",
       "\\end{tabular}\n"
      ],
      "text/markdown": [
       "\n",
       "A data.frame: 6 × 8\n",
       "\n",
       "| <!--/--> | Ranking &lt;int&gt; | Album &lt;chr&gt; | Artist &lt;chr&gt; | Rating &lt;dbl&gt; | ReleaseDate &lt;chr&gt; | Genres &lt;chr&gt; | NumberOfRatings &lt;dbl&gt; | NumberOfViews &lt;dbl&gt; |\n",
       "|---|---|---|---|---|---|---|---|---|\n",
       "| 1 | 1 | To Pimp a Butterfly              | Kendrick Lamar | 4.36 | 15-03-2015 | Conscious Hip Hop, West Coast Hip Hop, Jazz Rap | 69408 | 597 |\n",
       "| 2 | 2 | OK Computer                      | Radiohead      | 4.27 | 16-06-1997 | Alternative Rock, Art Rock                      | 94474 |  NA |\n",
       "| 3 | 3 | Wish You Were Here               | Pink Floyd     | 4.32 | 12-09-1975 | Progressive Rock, Art Rock                      | 65095 | 997 |\n",
       "| 4 | 4 | Madvillainy                      | Madvillain     | 4.33 | 23-03-2004 | Abstract Hip Hop                                | 54144 | 469 |\n",
       "| 5 | 5 | In the Court of the Crimson King | King Crimson   | 4.31 | 10-10-1969 | Progressive Rock, Art Rock                      | 59831 | 939 |\n",
       "| 6 | 6 | In Rainbows                      | Radiohead      | 4.28 | 10-10-2007 | Art Rock, Alternative Rock                      | 68354 | 872 |\n",
       "\n"
      ],
      "text/plain": [
       "  Ranking Album                            Artist         Rating ReleaseDate\n",
       "1 1       To Pimp a Butterfly              Kendrick Lamar 4.36   15-03-2015 \n",
       "2 2       OK Computer                      Radiohead      4.27   16-06-1997 \n",
       "3 3       Wish You Were Here               Pink Floyd     4.32   12-09-1975 \n",
       "4 4       Madvillainy                      Madvillain     4.33   23-03-2004 \n",
       "5 5       In the Court of the Crimson King King Crimson   4.31   10-10-1969 \n",
       "6 6       In Rainbows                      Radiohead      4.28   10-10-2007 \n",
       "  Genres                                          NumberOfRatings NumberOfViews\n",
       "1 Conscious Hip Hop, West Coast Hip Hop, Jazz Rap 69408           597          \n",
       "2 Alternative Rock, Art Rock                      94474            NA          \n",
       "3 Progressive Rock, Art Rock                      65095           997          \n",
       "4 Abstract Hip Hop                                54144           469          \n",
       "5 Progressive Rock, Art Rock                      59831           939          \n",
       "6 Art Rock, Alternative Rock                      68354           872          "
      ]
     },
     "metadata": {},
     "output_type": "display_data"
    }
   ],
   "source": [
    "# Transform into a data frame\n",
    "df <- data.frame(\n",
    "  Album = album_names,\n",
    "  Artist = artists,\n",
    "  Rating = ratings,\n",
    "  ReleaseDate = release_date,\n",
    "  Genres = genres,\n",
    "  NumberOfRatings = num_ratings,\n",
    "  NumberOfViews = num_views\n",
    ")\n",
    "# Adding a ranking column\n",
    "df <- df %>% mutate(Ranking = row_number())\n",
    "# To ensure the Ranking column is first\n",
    "df <- df %>% select(Ranking, everything())\n",
    "head(df)\n"
   ]
  },
  {
   "cell_type": "code",
   "execution_count": null,
   "id": "73aceeaf",
   "metadata": {},
   "outputs": [],
   "source": []
  }
 ],
 "metadata": {
  "kernelspec": {
   "display_name": "R",
   "language": "R",
   "name": "ir"
  },
  "language_info": {
   "codemirror_mode": "r",
   "file_extension": ".r",
   "mimetype": "text/x-r-source",
   "name": "R",
   "pygments_lexer": "r",
   "version": "4.1.3"
  }
 },
 "nbformat": 4,
 "nbformat_minor": 5
}
