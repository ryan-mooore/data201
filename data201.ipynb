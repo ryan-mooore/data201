{
 "cells": [
  {
   "cell_type": "markdown",
   "id": "66d5b19e-4672-48d0-b649-9cda8b8a6b17",
   "metadata": {},
   "source": [
    "# Data201 group project\n",
    "Members\n",
    " - Will durkin\n",
    " - Ryan Moore\n",
    " - Zheyu Li"
   ]
  }
 ],
 "metadata": {
  "kernelspec": {
   "display_name": "R",
   "language": "R",
   "name": "ir"
  },
  "language_info": {
   "codemirror_mode": "r",
   "file_extension": ".r",
   "mimetype": "text/x-r-source",
   "name": "R",
   "pygments_lexer": "r",
   "version": "3.6.3"
  }
 },
 "nbformat": 4,
 "nbformat_minor": 5
}
